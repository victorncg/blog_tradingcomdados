{
  "nbformat": 4,
  "nbformat_minor": 0,
  "metadata": {
    "kernelspec": {
      "display_name": "Python 3",
      "language": "python",
      "name": "python3"
    },
    "language_info": {
      "codemirror_mode": {
        "name": "ipython",
        "version": 3
      },
      "file_extension": ".py",
      "mimetype": "text/x-python",
      "name": "python",
      "nbconvert_exporter": "python",
      "pygments_lexer": "ipython3",
      "version": "3.8.5"
    },
    "colab": {
      "name": "Altas e baixas do Infomoney.ipynb",
      "provenance": [],
      "include_colab_link": true
    }
  },
  "cells": [
    {
      "cell_type": "markdown",
      "metadata": {
        "id": "view-in-github",
        "colab_type": "text"
      },
      "source": [
        "<a href=\"https://colab.research.google.com/github/victorncg/tradingcomdados/blob/master/Altas_e_baixas_do_Infomoney.ipynb\" target=\"_parent\"><img src=\"https://colab.research.google.com/assets/colab-badge.svg\" alt=\"Open In Colab\"/></a>"
      ]
    },
    {
      "cell_type": "code",
      "metadata": {
        "id": "iDtCmlkyYnVm"
      },
      "source": [
        "import pandas as pd\n",
        "\n",
        "import re\n",
        "from urllib.request import urlopen\n",
        "from bs4 import BeautifulSoup\n",
        "import requests"
      ],
      "execution_count": null,
      "outputs": []
    },
    {
      "cell_type": "code",
      "metadata": {
        "id": "bb6KcCAQYnVu"
      },
      "source": [
        "url = 'https://www.infomoney.com.br/'\n",
        "response = requests.get(url)"
      ],
      "execution_count": null,
      "outputs": []
    },
    {
      "cell_type": "code",
      "metadata": {
        "id": "g--U1g0VYnVv"
      },
      "source": [
        "html = BeautifulSoup(response.text, \"html.parser\")"
      ],
      "execution_count": null,
      "outputs": []
    },
    {
      "cell_type": "code",
      "metadata": {
        "id": "QszOyLJuYnVv",
        "outputId": "15392560-c88e-45e8-af6f-ab51132249ff"
      },
      "source": [
        "html.find_all('table')"
      ],
      "execution_count": null,
      "outputs": [
        {
          "output_type": "execute_result",
          "data": {
            "text/plain": [
              "[<table id=\"table_dolar_bitcoin\">\n",
              " <tbody></tbody>\n",
              " </table>,\n",
              " <table id=\"high\">\n",
              " <tbody></tbody>\n",
              " </table>,\n",
              " <table id=\"low\">\n",
              " <tbody>\n",
              " </tbody>\n",
              " </table>]"
            ]
          },
          "metadata": {
            "tags": []
          },
          "execution_count": 15
        }
      ]
    },
    {
      "cell_type": "code",
      "metadata": {
        "id": "kW8dCry3YnVw"
      },
      "source": [
        "low = html.find('table', id = \"low\")"
      ],
      "execution_count": null,
      "outputs": []
    },
    {
      "cell_type": "code",
      "metadata": {
        "id": "6tb34VBzYnVw",
        "outputId": "e80f650a-a105-435a-c4a4-1872e65ca507"
      },
      "source": [
        "pd.DataFrame(low)"
      ],
      "execution_count": null,
      "outputs": [
        {
          "output_type": "execute_result",
          "data": {
            "text/html": [
              "<div>\n",
              "<style scoped>\n",
              "    .dataframe tbody tr th:only-of-type {\n",
              "        vertical-align: middle;\n",
              "    }\n",
              "\n",
              "    .dataframe tbody tr th {\n",
              "        vertical-align: top;\n",
              "    }\n",
              "\n",
              "    .dataframe thead th {\n",
              "        text-align: right;\n",
              "    }\n",
              "</style>\n",
              "<table border=\"1\" class=\"dataframe\">\n",
              "  <thead>\n",
              "    <tr style=\"text-align: right;\">\n",
              "      <th></th>\n",
              "      <th>0</th>\n",
              "    </tr>\n",
              "  </thead>\n",
              "  <tbody>\n",
              "    <tr>\n",
              "      <th>0</th>\n",
              "      <td>\\n</td>\n",
              "    </tr>\n",
              "    <tr>\n",
              "      <th>1</th>\n",
              "      <td>[\\n]</td>\n",
              "    </tr>\n",
              "    <tr>\n",
              "      <th>2</th>\n",
              "      <td>\\n</td>\n",
              "    </tr>\n",
              "  </tbody>\n",
              "</table>\n",
              "</div>"
            ],
            "text/plain": [
              "      0\n",
              "0    \\n\n",
              "1  [\\n]\n",
              "2    \\n"
            ]
          },
          "metadata": {
            "tags": []
          },
          "execution_count": 18
        }
      ]
    },
    {
      "cell_type": "markdown",
      "metadata": {
        "id": "fmwDAGmjYnVx"
      },
      "source": [
        "### Segunda tentativa de webscraping"
      ]
    },
    {
      "cell_type": "code",
      "metadata": {
        "id": "LZSIY4fbYnVx"
      },
      "source": [
        "url2 = 'https://www.infomoney.com.br/ferramentas/altas-e-baixas/'\n",
        "response2 = requests.get(url2)\n",
        "\n",
        "html2 = BeautifulSoup(response2.text, \"html.parser\")\n"
      ],
      "execution_count": null,
      "outputs": []
    },
    {
      "cell_type": "code",
      "metadata": {
        "id": "tTgy6VUMYnVx",
        "outputId": "e22e86bb-e467-4f97-f6a5-b9ac8406694a"
      },
      "source": [
        "html2.find_all('table')"
      ],
      "execution_count": null,
      "outputs": [
        {
          "output_type": "execute_result",
          "data": {
            "text/plain": [
              "[<table class=\"default-table\" id=\"altas_e_baixas\">\n",
              " </table>]"
            ]
          },
          "metadata": {
            "tags": []
          },
          "execution_count": 20
        }
      ]
    },
    {
      "cell_type": "code",
      "metadata": {
        "id": "mQYaz1RtYnVy"
      },
      "source": [
        ""
      ],
      "execution_count": null,
      "outputs": []
    },
    {
      "cell_type": "markdown",
      "metadata": {
        "id": "g7Q5p6aQYnVy"
      },
      "source": [
        "### Terceira tentativa de webscraping"
      ]
    },
    {
      "cell_type": "code",
      "metadata": {
        "id": "M5-V1R0wYnVy"
      },
      "source": [
        "url = 'https://www.infomoney.com.br/ferramentas/altas-e-baixas/'"
      ],
      "execution_count": null,
      "outputs": []
    },
    {
      "cell_type": "code",
      "metadata": {
        "id": "twMwA1CNYnVy"
      },
      "source": [
        "from selenium import webdriver"
      ],
      "execution_count": null,
      "outputs": []
    },
    {
      "cell_type": "code",
      "metadata": {
        "id": "QTWotzapYnVz"
      },
      "source": [
        "import os"
      ],
      "execution_count": null,
      "outputs": []
    },
    {
      "cell_type": "code",
      "metadata": {
        "id": "KYjNxFzqYnVz"
      },
      "source": [
        "path = os.getcwd()"
      ],
      "execution_count": null,
      "outputs": []
    },
    {
      "cell_type": "code",
      "metadata": {
        "id": "32f2PPkkYnVz",
        "outputId": "5218bcc3-61fb-4e95-b2fb-0b3b4d6f590a"
      },
      "source": [
        "path"
      ],
      "execution_count": null,
      "outputs": [
        {
          "output_type": "execute_result",
          "data": {
            "text/plain": [
              "'C:\\\\Users\\\\victo\\\\Robo_CVM'"
            ]
          },
          "metadata": {
            "tags": []
          },
          "execution_count": 15
        }
      ]
    },
    {
      "cell_type": "code",
      "metadata": {
        "id": "ID42QxzJYuNg"
      },
      "source": [
        "## Esse é o caminho do chromedriver na sua máquina:"
      ],
      "execution_count": 1,
      "outputs": []
    },
    {
      "cell_type": "markdown",
      "metadata": {
        "id": "zPuwA3XNZBw2"
      },
      "source": [
        ""
      ]
    },
    {
      "cell_type": "code",
      "metadata": {
        "id": "vo4Sj5XFYnVz"
      },
      "source": [
        "driver = path + '\\\\webdriver\\\\chromedriver.exe'"
      ],
      "execution_count": null,
      "outputs": []
    },
    {
      "cell_type": "code",
      "metadata": {
        "id": "cPzjt548YnV0"
      },
      "source": [
        "browser = webdriver.Chrome(driver)"
      ],
      "execution_count": null,
      "outputs": []
    },
    {
      "cell_type": "markdown",
      "metadata": {
        "id": "3PYbSOplZCeb"
      },
      "source": [
        "Para mais informações, acesse: https://chromedriver.chromium.org/"
      ]
    },
    {
      "cell_type": "code",
      "metadata": {
        "id": "iPyMtwKYYnV0"
      },
      "source": [
        "browser.get(url)"
      ],
      "execution_count": null,
      "outputs": []
    },
    {
      "cell_type": "code",
      "metadata": {
        "id": "t_4gEmRoYnV0"
      },
      "source": [
        ""
      ],
      "execution_count": null,
      "outputs": []
    },
    {
      "cell_type": "markdown",
      "metadata": {
        "id": "ZIJmeCsNYnV0"
      },
      "source": [
        "# 1. Identificar tabela"
      ]
    },
    {
      "cell_type": "code",
      "metadata": {
        "id": "eJ8aULWgYnV0",
        "outputId": "3c576683-ca35-47fe-ae05-4ca537aa2bf3"
      },
      "source": [
        "browser.find_element_by_xpath('//*[@id=\"altas_e_baixas\"]')"
      ],
      "execution_count": null,
      "outputs": [
        {
          "output_type": "execute_result",
          "data": {
            "text/plain": [
              "<selenium.webdriver.remote.webelement.WebElement (session=\"c4a8a856c8b35481c1d34478c25c1fea\", element=\"8b4b300c-809c-40be-87a5-2708d40483e6\")>"
            ]
          },
          "metadata": {
            "tags": []
          },
          "execution_count": 24
        }
      ]
    },
    {
      "cell_type": "markdown",
      "metadata": {
        "id": "YHz9hKIoYnV1"
      },
      "source": [
        "# 2. Clicar na coluna variação diária"
      ]
    },
    {
      "cell_type": "markdown",
      "metadata": {
        "id": "H8beonG5YnV1"
      },
      "source": [
        "Esse é o XPATH para mudar a orientação da coluna"
      ]
    },
    {
      "cell_type": "markdown",
      "metadata": {
        "id": "8nlGqzrhYnV1"
      },
      "source": [
        "//*[@id=\"altas_e_baixas\"]/thead/tr/th[4]"
      ]
    },
    {
      "cell_type": "code",
      "metadata": {
        "id": "U_5izQg0YnV1"
      },
      "source": [
        "browser.find_element_by_xpath('//*[@id=\"altas_e_baixas\"]/thead/tr/th[4]').click()"
      ],
      "execution_count": null,
      "outputs": []
    },
    {
      "cell_type": "markdown",
      "metadata": {
        "id": "WVlcYcqLYnV1"
      },
      "source": [
        "# 3. Extração da tabela para o python"
      ]
    },
    {
      "cell_type": "code",
      "metadata": {
        "id": "6iCHhuZCYnV2",
        "outputId": "e91949fb-985f-4fc6-f53d-d9ae4d1a41b7"
      },
      "source": [
        "tb_din = browser.find_element_by_xpath('//*[@id=\"altas_e_baixas\"]').get_attribute('outerHTML')\n",
        "\n",
        "df = pd.read_html(tb_din, decimal = ',', thousands = '.')\n",
        "\n",
        "df[0]"
      ],
      "execution_count": null,
      "outputs": [
        {
          "output_type": "execute_result",
          "data": {
            "text/html": [
              "<div>\n",
              "<style scoped>\n",
              "    .dataframe tbody tr th:only-of-type {\n",
              "        vertical-align: middle;\n",
              "    }\n",
              "\n",
              "    .dataframe tbody tr th {\n",
              "        vertical-align: top;\n",
              "    }\n",
              "\n",
              "    .dataframe thead th {\n",
              "        text-align: right;\n",
              "    }\n",
              "</style>\n",
              "<table border=\"1\" class=\"dataframe\">\n",
              "  <thead>\n",
              "    <tr style=\"text-align: right;\">\n",
              "      <th></th>\n",
              "      <th>Ativo</th>\n",
              "      <th>Data</th>\n",
              "      <th>Último (R$)</th>\n",
              "      <th>Var. Dia (%)</th>\n",
              "      <th>Var. Sem. (%)</th>\n",
              "      <th>Var. Mês (%)</th>\n",
              "      <th>Var. Ano (%)</th>\n",
              "      <th>Var. 12M (%)</th>\n",
              "      <th>Val. Mín</th>\n",
              "      <th>Val. Máx</th>\n",
              "      <th>Volume</th>\n",
              "    </tr>\n",
              "  </thead>\n",
              "  <tbody>\n",
              "    <tr>\n",
              "      <th>0</th>\n",
              "      <td>BBDC3</td>\n",
              "      <td>16h32</td>\n",
              "      <td>22.38</td>\n",
              "      <td>-2.53</td>\n",
              "      <td>-1.32</td>\n",
              "      <td>-4.72</td>\n",
              "      <td>-7.02</td>\n",
              "      <td>29.89</td>\n",
              "      <td>22.34</td>\n",
              "      <td>23.00</td>\n",
              "      <td>81,28 M</td>\n",
              "    </tr>\n",
              "    <tr>\n",
              "      <th>1</th>\n",
              "      <td>BBDC4</td>\n",
              "      <td>16h32</td>\n",
              "      <td>25.48</td>\n",
              "      <td>-2.04</td>\n",
              "      <td>-1.13</td>\n",
              "      <td>-4.74</td>\n",
              "      <td>-5.74</td>\n",
              "      <td>36.77</td>\n",
              "      <td>25.41</td>\n",
              "      <td>26.20</td>\n",
              "      <td>666,97 M</td>\n",
              "    </tr>\n",
              "    <tr>\n",
              "      <th>2</th>\n",
              "      <td>BRDT3</td>\n",
              "      <td>16h32</td>\n",
              "      <td>22.30</td>\n",
              "      <td>-1.76</td>\n",
              "      <td>0.22</td>\n",
              "      <td>1.00</td>\n",
              "      <td>0.77</td>\n",
              "      <td>46.21</td>\n",
              "      <td>22.24</td>\n",
              "      <td>22.79</td>\n",
              "      <td>134,84 M</td>\n",
              "    </tr>\n",
              "    <tr>\n",
              "      <th>3</th>\n",
              "      <td>ITUB4</td>\n",
              "      <td>16h32</td>\n",
              "      <td>27.03</td>\n",
              "      <td>-1.53</td>\n",
              "      <td>-0.26</td>\n",
              "      <td>-3.36</td>\n",
              "      <td>-13.65</td>\n",
              "      <td>24.14</td>\n",
              "      <td>26.95</td>\n",
              "      <td>27.63</td>\n",
              "      <td>524,77 M</td>\n",
              "    </tr>\n",
              "    <tr>\n",
              "      <th>4</th>\n",
              "      <td>BRFS3</td>\n",
              "      <td>16h32</td>\n",
              "      <td>24.37</td>\n",
              "      <td>-1.46</td>\n",
              "      <td>-0.73</td>\n",
              "      <td>-3.37</td>\n",
              "      <td>10.57</td>\n",
              "      <td>37.84</td>\n",
              "      <td>24.32</td>\n",
              "      <td>24.81</td>\n",
              "      <td>95,51 M</td>\n",
              "    </tr>\n",
              "    <tr>\n",
              "      <th>...</th>\n",
              "      <td>...</td>\n",
              "      <td>...</td>\n",
              "      <td>...</td>\n",
              "      <td>...</td>\n",
              "      <td>...</td>\n",
              "      <td>...</td>\n",
              "      <td>...</td>\n",
              "      <td>...</td>\n",
              "      <td>...</td>\n",
              "      <td>...</td>\n",
              "      <td>...</td>\n",
              "    </tr>\n",
              "    <tr>\n",
              "      <th>71</th>\n",
              "      <td>NTCO3</td>\n",
              "      <td>16h32</td>\n",
              "      <td>49.43</td>\n",
              "      <td>2.83</td>\n",
              "      <td>4.50</td>\n",
              "      <td>2.68</td>\n",
              "      <td>-5.85</td>\n",
              "      <td>86.97</td>\n",
              "      <td>48.01</td>\n",
              "      <td>50.09</td>\n",
              "      <td>162,58 M</td>\n",
              "    </tr>\n",
              "    <tr>\n",
              "      <th>72</th>\n",
              "      <td>QUAL3</td>\n",
              "      <td>16h32</td>\n",
              "      <td>29.46</td>\n",
              "      <td>2.86</td>\n",
              "      <td>1.55</td>\n",
              "      <td>-2.93</td>\n",
              "      <td>-15.78</td>\n",
              "      <td>29.06</td>\n",
              "      <td>28.41</td>\n",
              "      <td>29.53</td>\n",
              "      <td>58,64 M</td>\n",
              "    </tr>\n",
              "    <tr>\n",
              "      <th>73</th>\n",
              "      <td>USIM5</td>\n",
              "      <td>16h32</td>\n",
              "      <td>17.61</td>\n",
              "      <td>3.22</td>\n",
              "      <td>6.02</td>\n",
              "      <td>2.98</td>\n",
              "      <td>20.53</td>\n",
              "      <td>336.39</td>\n",
              "      <td>17.13</td>\n",
              "      <td>17.84</td>\n",
              "      <td>308,45 M</td>\n",
              "    </tr>\n",
              "    <tr>\n",
              "      <th>74</th>\n",
              "      <td>CSNA3</td>\n",
              "      <td>16h32</td>\n",
              "      <td>39.07</td>\n",
              "      <td>3.36</td>\n",
              "      <td>6.17</td>\n",
              "      <td>3.09</td>\n",
              "      <td>22.67</td>\n",
              "      <td>497.26</td>\n",
              "      <td>37.90</td>\n",
              "      <td>39.74</td>\n",
              "      <td>536,2 M</td>\n",
              "    </tr>\n",
              "    <tr>\n",
              "      <th>75</th>\n",
              "      <td>FLRY3</td>\n",
              "      <td>16h32</td>\n",
              "      <td>26.98</td>\n",
              "      <td>4.13</td>\n",
              "      <td>5.02</td>\n",
              "      <td>5.39</td>\n",
              "      <td>2.71</td>\n",
              "      <td>38.76</td>\n",
              "      <td>25.81</td>\n",
              "      <td>27.07</td>\n",
              "      <td>139,39 M</td>\n",
              "    </tr>\n",
              "  </tbody>\n",
              "</table>\n",
              "<p>76 rows × 11 columns</p>\n",
              "</div>"
            ],
            "text/plain": [
              "    Ativo   Data  Último (R$)  Var. Dia (%)  Var. Sem. (%)  Var. Mês (%)  \\\n",
              "0   BBDC3  16h32        22.38         -2.53          -1.32         -4.72   \n",
              "1   BBDC4  16h32        25.48         -2.04          -1.13         -4.74   \n",
              "2   BRDT3  16h32        22.30         -1.76           0.22          1.00   \n",
              "3   ITUB4  16h32        27.03         -1.53          -0.26         -3.36   \n",
              "4   BRFS3  16h32        24.37         -1.46          -0.73         -3.37   \n",
              "..    ...    ...          ...           ...            ...           ...   \n",
              "71  NTCO3  16h32        49.43          2.83           4.50          2.68   \n",
              "72  QUAL3  16h32        29.46          2.86           1.55         -2.93   \n",
              "73  USIM5  16h32        17.61          3.22           6.02          2.98   \n",
              "74  CSNA3  16h32        39.07          3.36           6.17          3.09   \n",
              "75  FLRY3  16h32        26.98          4.13           5.02          5.39   \n",
              "\n",
              "    Var. Ano (%) Var. 12M (%)  Val. Mín  Val. Máx    Volume  \n",
              "0          -7.02        29.89     22.34     23.00   81,28 M  \n",
              "1          -5.74        36.77     25.41     26.20  666,97 M  \n",
              "2           0.77        46.21     22.24     22.79  134,84 M  \n",
              "3         -13.65        24.14     26.95     27.63  524,77 M  \n",
              "4          10.57        37.84     24.32     24.81   95,51 M  \n",
              "..           ...          ...       ...       ...       ...  \n",
              "71         -5.85        86.97     48.01     50.09  162,58 M  \n",
              "72        -15.78        29.06     28.41     29.53   58,64 M  \n",
              "73         20.53       336.39     17.13     17.84  308,45 M  \n",
              "74         22.67       497.26     37.90     39.74   536,2 M  \n",
              "75          2.71        38.76     25.81     27.07  139,39 M  \n",
              "\n",
              "[76 rows x 11 columns]"
            ]
          },
          "metadata": {
            "tags": []
          },
          "execution_count": 39
        }
      ]
    },
    {
      "cell_type": "code",
      "metadata": {
        "id": "pFCIyhzsYnV2",
        "outputId": "1531c419-229d-4f54-c306-404e9f193366"
      },
      "source": [
        "type(df)"
      ],
      "execution_count": null,
      "outputs": [
        {
          "output_type": "execute_result",
          "data": {
            "text/plain": [
              "list"
            ]
          },
          "metadata": {
            "tags": []
          },
          "execution_count": 36
        }
      ]
    },
    {
      "cell_type": "code",
      "metadata": {
        "id": "yCxFZftVYnV2",
        "outputId": "009791ae-e36f-448c-f814-c753ef6e7801"
      },
      "source": [
        ""
      ],
      "execution_count": null,
      "outputs": [
        {
          "output_type": "execute_result",
          "data": {
            "text/html": [
              "<div>\n",
              "<style scoped>\n",
              "    .dataframe tbody tr th:only-of-type {\n",
              "        vertical-align: middle;\n",
              "    }\n",
              "\n",
              "    .dataframe tbody tr th {\n",
              "        vertical-align: top;\n",
              "    }\n",
              "\n",
              "    .dataframe thead th {\n",
              "        text-align: right;\n",
              "    }\n",
              "</style>\n",
              "<table border=\"1\" class=\"dataframe\">\n",
              "  <thead>\n",
              "    <tr style=\"text-align: right;\">\n",
              "      <th></th>\n",
              "      <th>Ativo</th>\n",
              "      <th>Data</th>\n",
              "      <th>Último (R$)</th>\n",
              "      <th>Var. Dia (%)</th>\n",
              "      <th>Var. Sem. (%)</th>\n",
              "      <th>Var. Mês (%)</th>\n",
              "      <th>Var. Ano (%)</th>\n",
              "      <th>Var. 12M (%)</th>\n",
              "      <th>Val. Mín</th>\n",
              "      <th>Val. Máx</th>\n",
              "      <th>Volume</th>\n",
              "    </tr>\n",
              "  </thead>\n",
              "  <tbody>\n",
              "    <tr>\n",
              "      <th>0</th>\n",
              "      <td>FLRY3</td>\n",
              "      <td>16h32</td>\n",
              "      <td>26.98</td>\n",
              "      <td>4.13</td>\n",
              "      <td>5.02</td>\n",
              "      <td>5.39</td>\n",
              "      <td>2.71</td>\n",
              "      <td>38.76</td>\n",
              "      <td>25.81</td>\n",
              "      <td>27.07</td>\n",
              "      <td>139,39 M</td>\n",
              "    </tr>\n",
              "    <tr>\n",
              "      <th>1</th>\n",
              "      <td>CSNA3</td>\n",
              "      <td>16h32</td>\n",
              "      <td>39.07</td>\n",
              "      <td>3.36</td>\n",
              "      <td>6.17</td>\n",
              "      <td>3.09</td>\n",
              "      <td>22.67</td>\n",
              "      <td>497.26</td>\n",
              "      <td>37.90</td>\n",
              "      <td>39.74</td>\n",
              "      <td>536,2 M</td>\n",
              "    </tr>\n",
              "    <tr>\n",
              "      <th>2</th>\n",
              "      <td>USIM5</td>\n",
              "      <td>16h32</td>\n",
              "      <td>17.61</td>\n",
              "      <td>3.22</td>\n",
              "      <td>6.02</td>\n",
              "      <td>2.98</td>\n",
              "      <td>20.53</td>\n",
              "      <td>336.39</td>\n",
              "      <td>17.13</td>\n",
              "      <td>17.84</td>\n",
              "      <td>308,45 M</td>\n",
              "    </tr>\n",
              "    <tr>\n",
              "      <th>3</th>\n",
              "      <td>QUAL3</td>\n",
              "      <td>16h32</td>\n",
              "      <td>29.46</td>\n",
              "      <td>2.86</td>\n",
              "      <td>1.55</td>\n",
              "      <td>-2.93</td>\n",
              "      <td>-15.78</td>\n",
              "      <td>29.06</td>\n",
              "      <td>28.41</td>\n",
              "      <td>29.53</td>\n",
              "      <td>58,64 M</td>\n",
              "    </tr>\n",
              "    <tr>\n",
              "      <th>4</th>\n",
              "      <td>NTCO3</td>\n",
              "      <td>16h32</td>\n",
              "      <td>49.43</td>\n",
              "      <td>2.83</td>\n",
              "      <td>4.50</td>\n",
              "      <td>2.68</td>\n",
              "      <td>-5.85</td>\n",
              "      <td>86.97</td>\n",
              "      <td>48.01</td>\n",
              "      <td>50.09</td>\n",
              "      <td>162,58 M</td>\n",
              "    </tr>\n",
              "    <tr>\n",
              "      <th>...</th>\n",
              "      <td>...</td>\n",
              "      <td>...</td>\n",
              "      <td>...</td>\n",
              "      <td>...</td>\n",
              "      <td>...</td>\n",
              "      <td>...</td>\n",
              "      <td>...</td>\n",
              "      <td>...</td>\n",
              "      <td>...</td>\n",
              "      <td>...</td>\n",
              "      <td>...</td>\n",
              "    </tr>\n",
              "    <tr>\n",
              "      <th>71</th>\n",
              "      <td>BRFS3</td>\n",
              "      <td>16h32</td>\n",
              "      <td>24.37</td>\n",
              "      <td>-1.46</td>\n",
              "      <td>-0.73</td>\n",
              "      <td>-3.37</td>\n",
              "      <td>10.57</td>\n",
              "      <td>37.84</td>\n",
              "      <td>24.32</td>\n",
              "      <td>24.81</td>\n",
              "      <td>95,51 M</td>\n",
              "    </tr>\n",
              "    <tr>\n",
              "      <th>72</th>\n",
              "      <td>ITUB4</td>\n",
              "      <td>16h32</td>\n",
              "      <td>27.03</td>\n",
              "      <td>-1.53</td>\n",
              "      <td>-0.26</td>\n",
              "      <td>-3.36</td>\n",
              "      <td>-13.65</td>\n",
              "      <td>24.14</td>\n",
              "      <td>26.95</td>\n",
              "      <td>27.63</td>\n",
              "      <td>524,77 M</td>\n",
              "    </tr>\n",
              "    <tr>\n",
              "      <th>73</th>\n",
              "      <td>BRDT3</td>\n",
              "      <td>16h32</td>\n",
              "      <td>22.30</td>\n",
              "      <td>-1.76</td>\n",
              "      <td>0.22</td>\n",
              "      <td>1.00</td>\n",
              "      <td>0.77</td>\n",
              "      <td>46.21</td>\n",
              "      <td>22.24</td>\n",
              "      <td>22.79</td>\n",
              "      <td>134,84 M</td>\n",
              "    </tr>\n",
              "    <tr>\n",
              "      <th>74</th>\n",
              "      <td>BBDC4</td>\n",
              "      <td>16h32</td>\n",
              "      <td>25.48</td>\n",
              "      <td>-2.04</td>\n",
              "      <td>-1.13</td>\n",
              "      <td>-4.74</td>\n",
              "      <td>-5.74</td>\n",
              "      <td>36.77</td>\n",
              "      <td>25.41</td>\n",
              "      <td>26.20</td>\n",
              "      <td>666,97 M</td>\n",
              "    </tr>\n",
              "    <tr>\n",
              "      <th>75</th>\n",
              "      <td>BBDC3</td>\n",
              "      <td>16h32</td>\n",
              "      <td>22.38</td>\n",
              "      <td>-2.53</td>\n",
              "      <td>-1.32</td>\n",
              "      <td>-4.72</td>\n",
              "      <td>-7.02</td>\n",
              "      <td>29.89</td>\n",
              "      <td>22.34</td>\n",
              "      <td>23.00</td>\n",
              "      <td>81,28 M</td>\n",
              "    </tr>\n",
              "  </tbody>\n",
              "</table>\n",
              "<p>76 rows × 11 columns</p>\n",
              "</div>"
            ],
            "text/plain": [
              "    Ativo   Data  Último (R$)  Var. Dia (%)  Var. Sem. (%)  Var. Mês (%)  \\\n",
              "0   FLRY3  16h32        26.98          4.13           5.02          5.39   \n",
              "1   CSNA3  16h32        39.07          3.36           6.17          3.09   \n",
              "2   USIM5  16h32        17.61          3.22           6.02          2.98   \n",
              "3   QUAL3  16h32        29.46          2.86           1.55         -2.93   \n",
              "4   NTCO3  16h32        49.43          2.83           4.50          2.68   \n",
              "..    ...    ...          ...           ...            ...           ...   \n",
              "71  BRFS3  16h32        24.37         -1.46          -0.73         -3.37   \n",
              "72  ITUB4  16h32        27.03         -1.53          -0.26         -3.36   \n",
              "73  BRDT3  16h32        22.30         -1.76           0.22          1.00   \n",
              "74  BBDC4  16h32        25.48         -2.04          -1.13         -4.74   \n",
              "75  BBDC3  16h32        22.38         -2.53          -1.32         -4.72   \n",
              "\n",
              "    Var. Ano (%) Var. 12M (%)  Val. Mín  Val. Máx    Volume  \n",
              "0           2.71        38.76     25.81     27.07  139,39 M  \n",
              "1          22.67       497.26     37.90     39.74   536,2 M  \n",
              "2          20.53       336.39     17.13     17.84  308,45 M  \n",
              "3         -15.78        29.06     28.41     29.53   58,64 M  \n",
              "4          -5.85        86.97     48.01     50.09  162,58 M  \n",
              "..           ...          ...       ...       ...       ...  \n",
              "71         10.57        37.84     24.32     24.81   95,51 M  \n",
              "72        -13.65        24.14     26.95     27.63  524,77 M  \n",
              "73          0.77        46.21     22.24     22.79  134,84 M  \n",
              "74         -5.74        36.77     25.41     26.20  666,97 M  \n",
              "75         -7.02        29.89     22.34     23.00   81,28 M  \n",
              "\n",
              "[76 rows x 11 columns]"
            ]
          },
          "metadata": {
            "tags": []
          },
          "execution_count": 37
        }
      ]
    },
    {
      "cell_type": "code",
      "metadata": {
        "id": "-oZF4ma-YnV3"
      },
      "source": [
        ""
      ],
      "execution_count": null,
      "outputs": []
    }
  ]
}