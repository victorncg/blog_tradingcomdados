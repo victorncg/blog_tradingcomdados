{
 "cells": [
  {
   "cell_type": "markdown",
   "metadata": {},
   "source": [
    "# 1. Abrindo Bibliotecas"
   ]
  },
  {
   "cell_type": "markdown",
   "metadata": {},
   "source": [
    "### Bibliotecas genérias"
   ]
  },
  {
   "cell_type": "code",
   "execution_count": 18,
   "metadata": {
    "ExecuteTime": {
     "end_time": "2020-04-13T22:45:51.610943Z",
     "start_time": "2020-04-13T22:45:48.198631Z"
    }
   },
   "outputs": [],
   "source": [
    "import numpy as np\n",
    "import pandas as pd\n",
    "import matplotlib.pyplot as plt\n",
    "import seaborn as sns\n",
    "\n",
    "%matplotlib inline"
   ]
  },
  {
   "cell_type": "markdown",
   "metadata": {},
   "source": [
    "### As seguintes bibliotecas serão alvo do nosso estudo:"
   ]
  },
  {
   "cell_type": "code",
   "execution_count": 19,
   "metadata": {},
   "outputs": [],
   "source": [
    "from pandas_datareader import data\n",
    "import quandl\n",
    "import cufflinks as cf\n",
    "import yahoofinancials"
   ]
  },
  {
   "cell_type": "markdown",
   "metadata": {},
   "source": [
    "A intenção desse estudo é trazer dados úteis que podem esclarecer um pouco mais o que aconteceu com GME na situação do short squeeze"
   ]
  },
  {
   "cell_type": "markdown",
   "metadata": {},
   "source": [
    "Conceito de Data Hedging\n",
    "https://www.investopedia.com/terms/d/deltahedging.asp"
   ]
  },
  {
   "cell_type": "markdown",
   "metadata": {},
   "source": [
    "O que é o Short Interest?\n",
    "\n",
    "https://www.investopedia.com/articles/01/082201.asp"
   ]
  },
  {
   "cell_type": "markdown",
   "metadata": {},
   "source": [
    "# 2. Cufflinks"
   ]
  },
  {
   "cell_type": "code",
   "execution_count": 2,
   "metadata": {},
   "outputs": [
    {
     "data": {
      "text/html": [
       "        <script type=\"text/javascript\">\n",
       "        window.PlotlyConfig = {MathJaxConfig: 'local'};\n",
       "        if (window.MathJax) {MathJax.Hub.Config({SVG: {font: \"STIX-Web\"}});}\n",
       "        if (typeof require !== 'undefined') {\n",
       "        require.undef(\"plotly\");\n",
       "        requirejs.config({\n",
       "            paths: {\n",
       "                'plotly': ['https://cdn.plot.ly/plotly-latest.min']\n",
       "            }\n",
       "        });\n",
       "        require(['plotly'], function(Plotly) {\n",
       "            window._Plotly = Plotly;\n",
       "        });\n",
       "        }\n",
       "        </script>\n",
       "        "
      ]
     },
     "metadata": {},
     "output_type": "display_data"
    }
   ],
   "source": [
    "cf.set_config_file(theme='pearl',sharing='public',offline=True)"
   ]
  },
  {
   "cell_type": "code",
   "execution_count": 5,
   "metadata": {},
   "outputs": [],
   "source": [
    "gme = data.DataReader('GME', data_source='yahoo', start='2020-12-01')"
   ]
  },
  {
   "cell_type": "code",
   "execution_count": 6,
   "metadata": {},
   "outputs": [
    {
     "data": {
      "application/vnd.plotly.v1+json": {
       "config": {
        "linkText": "Export to plot.ly",
        "plotlyServerURL": "https://plot.ly",
        "showLink": true
       },
       "data": [
        {
         "close": [
          15.800000190734863,
          16.579999923706055,
          16.1200008392334,
          16.899999618530273,
          16.350000381469727,
          16.940000534057617,
          13.65999984741211,
          14.119999885559082,
          13.3100004196167,
          12.720000267028809,
          13.850000381469727,
          13.850000381469727,
          14.829999923706055,
          15.630000114440918,
          15.529999732971191,
          19.459999084472656,
          20.56999969482422,
          20.149999618530273,
          20.989999771118164,
          19.3799991607666,
          19.260000228881836,
          18.84000015258789,
          17.25,
          17.3700008392334,
          18.360000610351562,
          18.079999923706055,
          17.690000534057617,
          19.940000534057617,
          19.950000762939453,
          31.399999618530273,
          39.90999984741211,
          35.5,
          39.36000061035156,
          39.119998931884766,
          43.029998779296875,
          65.01000213623047,
          76.79000091552734,
          147.97999572753906,
          347.510009765625,
          193.60000610351562,
          325
         ],
         "high": [
          17.399999618530273,
          16.68000030517578,
          16.639999389648438,
          17.290000915527344,
          17.5,
          17.209999084472656,
          14.729999542236328,
          14.40999984741211,
          14,
          13.430000305175781,
          14.020000457763672,
          14.3100004196167,
          14.979999542236328,
          16.299999237060547,
          16.350000381469727,
          20.040000915527344,
          22.350000381469727,
          21.479999542236328,
          21.969999313354492,
          21.06999969482422,
          20,
          19.799999237060547,
          19.100000381469727,
          18.079999923706055,
          18.979999542236328,
          19.450000762939453,
          18.299999237060547,
          20.649999618530273,
          20.399999618530273,
          38.650001525878906,
          43.060001373291016,
          40.75,
          45.52000045776367,
          41.189998626708984,
          44.75,
          76.76000213623047,
          159.17999267578125,
          150,
          380,
          483,
          413.9800109863281
         ],
         "low": [
          15.760000228881836,
          15.380000114440918,
          15.869999885559082,
          16.260000228881836,
          16.219999313354492,
          15.930000305175781,
          13.229999542236328,
          13.050000190734863,
          13.020000457763672,
          12.140000343322754,
          12.479999542236328,
          13.579999923706055,
          13.59000015258789,
          15.180000305175781,
          15.279999732971191,
          16.149999618530273,
          19.1299991607666,
          19.950000762939453,
          20.350000381469727,
          18.559999465942383,
          18.850000381469727,
          18.799999237060547,
          17.149999618530273,
          17.229999542236328,
          17.329999923706055,
          18.020000457763672,
          17.079999923706055,
          19.010000228881836,
          19.31999969482422,
          20.030000686645508,
          33.04999923706055,
          34.0099983215332,
          36.63999938964844,
          36.060001373291016,
          37,
          42.31999969482422,
          61.130001068115234,
          80.19999694824219,
          249,
          112.25,
          250
         ],
         "open": [
          17.110000610351562,
          15.699999809265137,
          16.479999542236328,
          16.299999237060547,
          17,
          16.3700008392334,
          13.920000076293945,
          13.119999885559082,
          13.90999984741211,
          13.34000015258789,
          12.779999732971191,
          13.960000038146973,
          13.960000038146973,
          15.779999732971191,
          15.8100004196167,
          16.219999313354492,
          20.170000076293945,
          21.010000228881836,
          21.309999465942383,
          20.81999969482422,
          19.3799991607666,
          19.25,
          19,
          17.350000381469727,
          17.34000015258789,
          18.469999313354492,
          18.18000030517578,
          19.40999984741211,
          19.959999084472656,
          20.420000076293945,
          38.09000015258789,
          38.4900016784668,
          41.54999923706055,
          37.369998931884766,
          39.22999954223633,
          42.59000015258789,
          96.7300033569336,
          88.55999755859375,
          354.8299865722656,
          265,
          379.7099914550781
         ],
         "showlegend": false,
         "type": "candlestick",
         "x": [
          "2020-12-01",
          "2020-12-02",
          "2020-12-03",
          "2020-12-04",
          "2020-12-07",
          "2020-12-08",
          "2020-12-09",
          "2020-12-10",
          "2020-12-11",
          "2020-12-14",
          "2020-12-15",
          "2020-12-16",
          "2020-12-17",
          "2020-12-18",
          "2020-12-21",
          "2020-12-22",
          "2020-12-23",
          "2020-12-24",
          "2020-12-28",
          "2020-12-29",
          "2020-12-30",
          "2020-12-31",
          "2021-01-04",
          "2021-01-05",
          "2021-01-06",
          "2021-01-07",
          "2021-01-08",
          "2021-01-11",
          "2021-01-12",
          "2021-01-13",
          "2021-01-14",
          "2021-01-15",
          "2021-01-19",
          "2021-01-20",
          "2021-01-21",
          "2021-01-22",
          "2021-01-25",
          "2021-01-26",
          "2021-01-27",
          "2021-01-28",
          "2021-01-29"
         ],
         "yaxis": "y2"
        }
       ],
       "layout": {
        "legend": {
         "bgcolor": "#F5F6F9",
         "font": {
          "color": "#4D5663"
         }
        },
        "paper_bgcolor": "#F5F6F9",
        "plot_bgcolor": "#F5F6F9",
        "template": {
         "data": {
          "bar": [
           {
            "error_x": {
             "color": "#2a3f5f"
            },
            "error_y": {
             "color": "#2a3f5f"
            },
            "marker": {
             "line": {
              "color": "#E5ECF6",
              "width": 0.5
             }
            },
            "type": "bar"
           }
          ],
          "barpolar": [
           {
            "marker": {
             "line": {
              "color": "#E5ECF6",
              "width": 0.5
             }
            },
            "type": "barpolar"
           }
          ],
          "carpet": [
           {
            "aaxis": {
             "endlinecolor": "#2a3f5f",
             "gridcolor": "white",
             "linecolor": "white",
             "minorgridcolor": "white",
             "startlinecolor": "#2a3f5f"
            },
            "baxis": {
             "endlinecolor": "#2a3f5f",
             "gridcolor": "white",
             "linecolor": "white",
             "minorgridcolor": "white",
             "startlinecolor": "#2a3f5f"
            },
            "type": "carpet"
           }
          ],
          "choropleth": [
           {
            "colorbar": {
             "outlinewidth": 0,
             "ticks": ""
            },
            "type": "choropleth"
           }
          ],
          "contour": [
           {
            "colorbar": {
             "outlinewidth": 0,
             "ticks": ""
            },
            "colorscale": [
             [
              0,
              "#0d0887"
             ],
             [
              0.1111111111111111,
              "#46039f"
             ],
             [
              0.2222222222222222,
              "#7201a8"
             ],
             [
              0.3333333333333333,
              "#9c179e"
             ],
             [
              0.4444444444444444,
              "#bd3786"
             ],
             [
              0.5555555555555556,
              "#d8576b"
             ],
             [
              0.6666666666666666,
              "#ed7953"
             ],
             [
              0.7777777777777778,
              "#fb9f3a"
             ],
             [
              0.8888888888888888,
              "#fdca26"
             ],
             [
              1,
              "#f0f921"
             ]
            ],
            "type": "contour"
           }
          ],
          "contourcarpet": [
           {
            "colorbar": {
             "outlinewidth": 0,
             "ticks": ""
            },
            "type": "contourcarpet"
           }
          ],
          "heatmap": [
           {
            "colorbar": {
             "outlinewidth": 0,
             "ticks": ""
            },
            "colorscale": [
             [
              0,
              "#0d0887"
             ],
             [
              0.1111111111111111,
              "#46039f"
             ],
             [
              0.2222222222222222,
              "#7201a8"
             ],
             [
              0.3333333333333333,
              "#9c179e"
             ],
             [
              0.4444444444444444,
              "#bd3786"
             ],
             [
              0.5555555555555556,
              "#d8576b"
             ],
             [
              0.6666666666666666,
              "#ed7953"
             ],
             [
              0.7777777777777778,
              "#fb9f3a"
             ],
             [
              0.8888888888888888,
              "#fdca26"
             ],
             [
              1,
              "#f0f921"
             ]
            ],
            "type": "heatmap"
           }
          ],
          "heatmapgl": [
           {
            "colorbar": {
             "outlinewidth": 0,
             "ticks": ""
            },
            "colorscale": [
             [
              0,
              "#0d0887"
             ],
             [
              0.1111111111111111,
              "#46039f"
             ],
             [
              0.2222222222222222,
              "#7201a8"
             ],
             [
              0.3333333333333333,
              "#9c179e"
             ],
             [
              0.4444444444444444,
              "#bd3786"
             ],
             [
              0.5555555555555556,
              "#d8576b"
             ],
             [
              0.6666666666666666,
              "#ed7953"
             ],
             [
              0.7777777777777778,
              "#fb9f3a"
             ],
             [
              0.8888888888888888,
              "#fdca26"
             ],
             [
              1,
              "#f0f921"
             ]
            ],
            "type": "heatmapgl"
           }
          ],
          "histogram": [
           {
            "marker": {
             "colorbar": {
              "outlinewidth": 0,
              "ticks": ""
             }
            },
            "type": "histogram"
           }
          ],
          "histogram2d": [
           {
            "colorbar": {
             "outlinewidth": 0,
             "ticks": ""
            },
            "colorscale": [
             [
              0,
              "#0d0887"
             ],
             [
              0.1111111111111111,
              "#46039f"
             ],
             [
              0.2222222222222222,
              "#7201a8"
             ],
             [
              0.3333333333333333,
              "#9c179e"
             ],
             [
              0.4444444444444444,
              "#bd3786"
             ],
             [
              0.5555555555555556,
              "#d8576b"
             ],
             [
              0.6666666666666666,
              "#ed7953"
             ],
             [
              0.7777777777777778,
              "#fb9f3a"
             ],
             [
              0.8888888888888888,
              "#fdca26"
             ],
             [
              1,
              "#f0f921"
             ]
            ],
            "type": "histogram2d"
           }
          ],
          "histogram2dcontour": [
           {
            "colorbar": {
             "outlinewidth": 0,
             "ticks": ""
            },
            "colorscale": [
             [
              0,
              "#0d0887"
             ],
             [
              0.1111111111111111,
              "#46039f"
             ],
             [
              0.2222222222222222,
              "#7201a8"
             ],
             [
              0.3333333333333333,
              "#9c179e"
             ],
             [
              0.4444444444444444,
              "#bd3786"
             ],
             [
              0.5555555555555556,
              "#d8576b"
             ],
             [
              0.6666666666666666,
              "#ed7953"
             ],
             [
              0.7777777777777778,
              "#fb9f3a"
             ],
             [
              0.8888888888888888,
              "#fdca26"
             ],
             [
              1,
              "#f0f921"
             ]
            ],
            "type": "histogram2dcontour"
           }
          ],
          "mesh3d": [
           {
            "colorbar": {
             "outlinewidth": 0,
             "ticks": ""
            },
            "type": "mesh3d"
           }
          ],
          "parcoords": [
           {
            "line": {
             "colorbar": {
              "outlinewidth": 0,
              "ticks": ""
             }
            },
            "type": "parcoords"
           }
          ],
          "pie": [
           {
            "automargin": true,
            "type": "pie"
           }
          ],
          "scatter": [
           {
            "marker": {
             "colorbar": {
              "outlinewidth": 0,
              "ticks": ""
             }
            },
            "type": "scatter"
           }
          ],
          "scatter3d": [
           {
            "line": {
             "colorbar": {
              "outlinewidth": 0,
              "ticks": ""
             }
            },
            "marker": {
             "colorbar": {
              "outlinewidth": 0,
              "ticks": ""
             }
            },
            "type": "scatter3d"
           }
          ],
          "scattercarpet": [
           {
            "marker": {
             "colorbar": {
              "outlinewidth": 0,
              "ticks": ""
             }
            },
            "type": "scattercarpet"
           }
          ],
          "scattergeo": [
           {
            "marker": {
             "colorbar": {
              "outlinewidth": 0,
              "ticks": ""
             }
            },
            "type": "scattergeo"
           }
          ],
          "scattergl": [
           {
            "marker": {
             "colorbar": {
              "outlinewidth": 0,
              "ticks": ""
             }
            },
            "type": "scattergl"
           }
          ],
          "scattermapbox": [
           {
            "marker": {
             "colorbar": {
              "outlinewidth": 0,
              "ticks": ""
             }
            },
            "type": "scattermapbox"
           }
          ],
          "scatterpolar": [
           {
            "marker": {
             "colorbar": {
              "outlinewidth": 0,
              "ticks": ""
             }
            },
            "type": "scatterpolar"
           }
          ],
          "scatterpolargl": [
           {
            "marker": {
             "colorbar": {
              "outlinewidth": 0,
              "ticks": ""
             }
            },
            "type": "scatterpolargl"
           }
          ],
          "scatterternary": [
           {
            "marker": {
             "colorbar": {
              "outlinewidth": 0,
              "ticks": ""
             }
            },
            "type": "scatterternary"
           }
          ],
          "surface": [
           {
            "colorbar": {
             "outlinewidth": 0,
             "ticks": ""
            },
            "colorscale": [
             [
              0,
              "#0d0887"
             ],
             [
              0.1111111111111111,
              "#46039f"
             ],
             [
              0.2222222222222222,
              "#7201a8"
             ],
             [
              0.3333333333333333,
              "#9c179e"
             ],
             [
              0.4444444444444444,
              "#bd3786"
             ],
             [
              0.5555555555555556,
              "#d8576b"
             ],
             [
              0.6666666666666666,
              "#ed7953"
             ],
             [
              0.7777777777777778,
              "#fb9f3a"
             ],
             [
              0.8888888888888888,
              "#fdca26"
             ],
             [
              1,
              "#f0f921"
             ]
            ],
            "type": "surface"
           }
          ],
          "table": [
           {
            "cells": {
             "fill": {
              "color": "#EBF0F8"
             },
             "line": {
              "color": "white"
             }
            },
            "header": {
             "fill": {
              "color": "#C8D4E3"
             },
             "line": {
              "color": "white"
             }
            },
            "type": "table"
           }
          ]
         },
         "layout": {
          "annotationdefaults": {
           "arrowcolor": "#2a3f5f",
           "arrowhead": 0,
           "arrowwidth": 1
          },
          "autotypenumbers": "strict",
          "coloraxis": {
           "colorbar": {
            "outlinewidth": 0,
            "ticks": ""
           }
          },
          "colorscale": {
           "diverging": [
            [
             0,
             "#8e0152"
            ],
            [
             0.1,
             "#c51b7d"
            ],
            [
             0.2,
             "#de77ae"
            ],
            [
             0.3,
             "#f1b6da"
            ],
            [
             0.4,
             "#fde0ef"
            ],
            [
             0.5,
             "#f7f7f7"
            ],
            [
             0.6,
             "#e6f5d0"
            ],
            [
             0.7,
             "#b8e186"
            ],
            [
             0.8,
             "#7fbc41"
            ],
            [
             0.9,
             "#4d9221"
            ],
            [
             1,
             "#276419"
            ]
           ],
           "sequential": [
            [
             0,
             "#0d0887"
            ],
            [
             0.1111111111111111,
             "#46039f"
            ],
            [
             0.2222222222222222,
             "#7201a8"
            ],
            [
             0.3333333333333333,
             "#9c179e"
            ],
            [
             0.4444444444444444,
             "#bd3786"
            ],
            [
             0.5555555555555556,
             "#d8576b"
            ],
            [
             0.6666666666666666,
             "#ed7953"
            ],
            [
             0.7777777777777778,
             "#fb9f3a"
            ],
            [
             0.8888888888888888,
             "#fdca26"
            ],
            [
             1,
             "#f0f921"
            ]
           ],
           "sequentialminus": [
            [
             0,
             "#0d0887"
            ],
            [
             0.1111111111111111,
             "#46039f"
            ],
            [
             0.2222222222222222,
             "#7201a8"
            ],
            [
             0.3333333333333333,
             "#9c179e"
            ],
            [
             0.4444444444444444,
             "#bd3786"
            ],
            [
             0.5555555555555556,
             "#d8576b"
            ],
            [
             0.6666666666666666,
             "#ed7953"
            ],
            [
             0.7777777777777778,
             "#fb9f3a"
            ],
            [
             0.8888888888888888,
             "#fdca26"
            ],
            [
             1,
             "#f0f921"
            ]
           ]
          },
          "colorway": [
           "#636efa",
           "#EF553B",
           "#00cc96",
           "#ab63fa",
           "#FFA15A",
           "#19d3f3",
           "#FF6692",
           "#B6E880",
           "#FF97FF",
           "#FECB52"
          ],
          "font": {
           "color": "#2a3f5f"
          },
          "geo": {
           "bgcolor": "white",
           "lakecolor": "white",
           "landcolor": "#E5ECF6",
           "showlakes": true,
           "showland": true,
           "subunitcolor": "white"
          },
          "hoverlabel": {
           "align": "left"
          },
          "hovermode": "closest",
          "mapbox": {
           "style": "light"
          },
          "paper_bgcolor": "white",
          "plot_bgcolor": "#E5ECF6",
          "polar": {
           "angularaxis": {
            "gridcolor": "white",
            "linecolor": "white",
            "ticks": ""
           },
           "bgcolor": "#E5ECF6",
           "radialaxis": {
            "gridcolor": "white",
            "linecolor": "white",
            "ticks": ""
           }
          },
          "scene": {
           "xaxis": {
            "backgroundcolor": "#E5ECF6",
            "gridcolor": "white",
            "gridwidth": 2,
            "linecolor": "white",
            "showbackground": true,
            "ticks": "",
            "zerolinecolor": "white"
           },
           "yaxis": {
            "backgroundcolor": "#E5ECF6",
            "gridcolor": "white",
            "gridwidth": 2,
            "linecolor": "white",
            "showbackground": true,
            "ticks": "",
            "zerolinecolor": "white"
           },
           "zaxis": {
            "backgroundcolor": "#E5ECF6",
            "gridcolor": "white",
            "gridwidth": 2,
            "linecolor": "white",
            "showbackground": true,
            "ticks": "",
            "zerolinecolor": "white"
           }
          },
          "shapedefaults": {
           "line": {
            "color": "#2a3f5f"
           }
          },
          "ternary": {
           "aaxis": {
            "gridcolor": "white",
            "linecolor": "white",
            "ticks": ""
           },
           "baxis": {
            "gridcolor": "white",
            "linecolor": "white",
            "ticks": ""
           },
           "bgcolor": "#E5ECF6",
           "caxis": {
            "gridcolor": "white",
            "linecolor": "white",
            "ticks": ""
           }
          },
          "title": {
           "x": 0.05
          },
          "xaxis": {
           "automargin": true,
           "gridcolor": "white",
           "linecolor": "white",
           "ticks": "",
           "title": {
            "standoff": 15
           },
           "zerolinecolor": "white",
           "zerolinewidth": 2
          },
          "yaxis": {
           "automargin": true,
           "gridcolor": "white",
           "linecolor": "white",
           "ticks": "",
           "title": {
            "standoff": 15
           },
           "zerolinecolor": "white",
           "zerolinewidth": 2
          }
         }
        },
        "title": {
         "font": {
          "color": "#4D5663"
         }
        },
        "xaxis": {
         "gridcolor": "#E1E5ED",
         "rangeslider": {
          "visible": true
         },
         "showgrid": true,
         "tickfont": {
          "color": "#4D5663"
         },
         "title": {
          "font": {
           "color": "#4D5663"
          },
          "text": ""
         },
         "zerolinecolor": "#E1E5ED"
        },
        "yaxis": {
         "gridcolor": "#E1E5ED",
         "showgrid": true,
         "showticklabels": false,
         "tickfont": {
          "color": "#4D5663"
         },
         "title": {
          "font": {
           "color": "#4D5663"
          },
          "text": ""
         },
         "zerolinecolor": "#E1E5ED"
        },
        "yaxis2": {
         "gridcolor": "#E1E5ED",
         "showgrid": true,
         "tickfont": {
          "color": "#4D5663"
         },
         "title": {
          "font": {
           "color": "#4D5663"
          },
          "text": ""
         },
         "zerolinecolor": "#E1E5ED"
        }
       }
      },
      "text/html": [
       "<div>                            <div id=\"ff65c2cd-1c6d-4236-8e51-15e31fecb75f\" class=\"plotly-graph-div\" style=\"height:525px; width:100%;\"></div>            <script type=\"text/javascript\">                require([\"plotly\"], function(Plotly) {                    window.PLOTLYENV=window.PLOTLYENV || {};\n",
       "                    window.PLOTLYENV.BASE_URL='https://plot.ly';                                    if (document.getElementById(\"ff65c2cd-1c6d-4236-8e51-15e31fecb75f\")) {                    Plotly.newPlot(                        \"ff65c2cd-1c6d-4236-8e51-15e31fecb75f\",                        [{\"close\": [15.800000190734863, 16.579999923706055, 16.1200008392334, 16.899999618530273, 16.350000381469727, 16.940000534057617, 13.65999984741211, 14.119999885559082, 13.3100004196167, 12.720000267028809, 13.850000381469727, 13.850000381469727, 14.829999923706055, 15.630000114440918, 15.529999732971191, 19.459999084472656, 20.56999969482422, 20.149999618530273, 20.989999771118164, 19.3799991607666, 19.260000228881836, 18.84000015258789, 17.25, 17.3700008392334, 18.360000610351562, 18.079999923706055, 17.690000534057617, 19.940000534057617, 19.950000762939453, 31.399999618530273, 39.90999984741211, 35.5, 39.36000061035156, 39.119998931884766, 43.029998779296875, 65.01000213623047, 76.79000091552734, 147.97999572753906, 347.510009765625, 193.60000610351562, 325.0], \"high\": [17.399999618530273, 16.68000030517578, 16.639999389648438, 17.290000915527344, 17.5, 17.209999084472656, 14.729999542236328, 14.40999984741211, 14.0, 13.430000305175781, 14.020000457763672, 14.3100004196167, 14.979999542236328, 16.299999237060547, 16.350000381469727, 20.040000915527344, 22.350000381469727, 21.479999542236328, 21.969999313354492, 21.06999969482422, 20.0, 19.799999237060547, 19.100000381469727, 18.079999923706055, 18.979999542236328, 19.450000762939453, 18.299999237060547, 20.649999618530273, 20.399999618530273, 38.650001525878906, 43.060001373291016, 40.75, 45.52000045776367, 41.189998626708984, 44.75, 76.76000213623047, 159.17999267578125, 150.0, 380.0, 483.0, 413.9800109863281], \"low\": [15.760000228881836, 15.380000114440918, 15.869999885559082, 16.260000228881836, 16.219999313354492, 15.930000305175781, 13.229999542236328, 13.050000190734863, 13.020000457763672, 12.140000343322754, 12.479999542236328, 13.579999923706055, 13.59000015258789, 15.180000305175781, 15.279999732971191, 16.149999618530273, 19.1299991607666, 19.950000762939453, 20.350000381469727, 18.559999465942383, 18.850000381469727, 18.799999237060547, 17.149999618530273, 17.229999542236328, 17.329999923706055, 18.020000457763672, 17.079999923706055, 19.010000228881836, 19.31999969482422, 20.030000686645508, 33.04999923706055, 34.0099983215332, 36.63999938964844, 36.060001373291016, 37.0, 42.31999969482422, 61.130001068115234, 80.19999694824219, 249.0, 112.25, 250.0], \"open\": [17.110000610351562, 15.699999809265137, 16.479999542236328, 16.299999237060547, 17.0, 16.3700008392334, 13.920000076293945, 13.119999885559082, 13.90999984741211, 13.34000015258789, 12.779999732971191, 13.960000038146973, 13.960000038146973, 15.779999732971191, 15.8100004196167, 16.219999313354492, 20.170000076293945, 21.010000228881836, 21.309999465942383, 20.81999969482422, 19.3799991607666, 19.25, 19.0, 17.350000381469727, 17.34000015258789, 18.469999313354492, 18.18000030517578, 19.40999984741211, 19.959999084472656, 20.420000076293945, 38.09000015258789, 38.4900016784668, 41.54999923706055, 37.369998931884766, 39.22999954223633, 42.59000015258789, 96.7300033569336, 88.55999755859375, 354.8299865722656, 265.0, 379.7099914550781], \"showlegend\": false, \"type\": \"candlestick\", \"x\": [\"2020-12-01\", \"2020-12-02\", \"2020-12-03\", \"2020-12-04\", \"2020-12-07\", \"2020-12-08\", \"2020-12-09\", \"2020-12-10\", \"2020-12-11\", \"2020-12-14\", \"2020-12-15\", \"2020-12-16\", \"2020-12-17\", \"2020-12-18\", \"2020-12-21\", \"2020-12-22\", \"2020-12-23\", \"2020-12-24\", \"2020-12-28\", \"2020-12-29\", \"2020-12-30\", \"2020-12-31\", \"2021-01-04\", \"2021-01-05\", \"2021-01-06\", \"2021-01-07\", \"2021-01-08\", \"2021-01-11\", \"2021-01-12\", \"2021-01-13\", \"2021-01-14\", \"2021-01-15\", \"2021-01-19\", \"2021-01-20\", \"2021-01-21\", \"2021-01-22\", \"2021-01-25\", \"2021-01-26\", \"2021-01-27\", \"2021-01-28\", \"2021-01-29\"], \"yaxis\": \"y2\"}],                        {\"legend\": {\"bgcolor\": \"#F5F6F9\", \"font\": {\"color\": \"#4D5663\"}}, \"paper_bgcolor\": \"#F5F6F9\", \"plot_bgcolor\": \"#F5F6F9\", \"template\": {\"data\": {\"bar\": [{\"error_x\": {\"color\": \"#2a3f5f\"}, \"error_y\": {\"color\": \"#2a3f5f\"}, \"marker\": {\"line\": {\"color\": \"#E5ECF6\", \"width\": 0.5}}, \"type\": \"bar\"}], \"barpolar\": [{\"marker\": {\"line\": {\"color\": \"#E5ECF6\", \"width\": 0.5}}, \"type\": \"barpolar\"}], \"carpet\": [{\"aaxis\": {\"endlinecolor\": \"#2a3f5f\", \"gridcolor\": \"white\", \"linecolor\": \"white\", \"minorgridcolor\": \"white\", \"startlinecolor\": \"#2a3f5f\"}, \"baxis\": {\"endlinecolor\": \"#2a3f5f\", \"gridcolor\": \"white\", \"linecolor\": \"white\", \"minorgridcolor\": \"white\", \"startlinecolor\": \"#2a3f5f\"}, \"type\": \"carpet\"}], \"choropleth\": [{\"colorbar\": {\"outlinewidth\": 0, \"ticks\": \"\"}, \"type\": \"choropleth\"}], \"contour\": [{\"colorbar\": {\"outlinewidth\": 0, \"ticks\": \"\"}, \"colorscale\": [[0.0, \"#0d0887\"], [0.1111111111111111, \"#46039f\"], [0.2222222222222222, \"#7201a8\"], [0.3333333333333333, \"#9c179e\"], [0.4444444444444444, \"#bd3786\"], [0.5555555555555556, \"#d8576b\"], [0.6666666666666666, \"#ed7953\"], [0.7777777777777778, \"#fb9f3a\"], [0.8888888888888888, \"#fdca26\"], [1.0, \"#f0f921\"]], \"type\": \"contour\"}], \"contourcarpet\": [{\"colorbar\": {\"outlinewidth\": 0, \"ticks\": \"\"}, \"type\": \"contourcarpet\"}], \"heatmap\": [{\"colorbar\": {\"outlinewidth\": 0, \"ticks\": \"\"}, \"colorscale\": [[0.0, \"#0d0887\"], [0.1111111111111111, \"#46039f\"], [0.2222222222222222, \"#7201a8\"], [0.3333333333333333, \"#9c179e\"], [0.4444444444444444, \"#bd3786\"], [0.5555555555555556, \"#d8576b\"], [0.6666666666666666, \"#ed7953\"], [0.7777777777777778, \"#fb9f3a\"], [0.8888888888888888, \"#fdca26\"], [1.0, \"#f0f921\"]], \"type\": \"heatmap\"}], \"heatmapgl\": [{\"colorbar\": {\"outlinewidth\": 0, \"ticks\": \"\"}, \"colorscale\": [[0.0, \"#0d0887\"], [0.1111111111111111, \"#46039f\"], [0.2222222222222222, \"#7201a8\"], [0.3333333333333333, \"#9c179e\"], [0.4444444444444444, \"#bd3786\"], [0.5555555555555556, \"#d8576b\"], [0.6666666666666666, \"#ed7953\"], [0.7777777777777778, \"#fb9f3a\"], [0.8888888888888888, \"#fdca26\"], [1.0, \"#f0f921\"]], \"type\": \"heatmapgl\"}], \"histogram\": [{\"marker\": {\"colorbar\": {\"outlinewidth\": 0, \"ticks\": \"\"}}, \"type\": \"histogram\"}], \"histogram2d\": [{\"colorbar\": {\"outlinewidth\": 0, \"ticks\": \"\"}, \"colorscale\": [[0.0, \"#0d0887\"], [0.1111111111111111, \"#46039f\"], [0.2222222222222222, \"#7201a8\"], [0.3333333333333333, \"#9c179e\"], [0.4444444444444444, \"#bd3786\"], [0.5555555555555556, \"#d8576b\"], [0.6666666666666666, \"#ed7953\"], [0.7777777777777778, \"#fb9f3a\"], [0.8888888888888888, \"#fdca26\"], [1.0, \"#f0f921\"]], \"type\": \"histogram2d\"}], \"histogram2dcontour\": [{\"colorbar\": {\"outlinewidth\": 0, \"ticks\": \"\"}, \"colorscale\": [[0.0, \"#0d0887\"], [0.1111111111111111, \"#46039f\"], [0.2222222222222222, \"#7201a8\"], [0.3333333333333333, \"#9c179e\"], [0.4444444444444444, \"#bd3786\"], [0.5555555555555556, \"#d8576b\"], [0.6666666666666666, \"#ed7953\"], [0.7777777777777778, \"#fb9f3a\"], [0.8888888888888888, \"#fdca26\"], [1.0, \"#f0f921\"]], \"type\": \"histogram2dcontour\"}], \"mesh3d\": [{\"colorbar\": {\"outlinewidth\": 0, \"ticks\": \"\"}, \"type\": \"mesh3d\"}], \"parcoords\": [{\"line\": {\"colorbar\": {\"outlinewidth\": 0, \"ticks\": \"\"}}, \"type\": \"parcoords\"}], \"pie\": [{\"automargin\": true, \"type\": \"pie\"}], \"scatter\": [{\"marker\": {\"colorbar\": {\"outlinewidth\": 0, \"ticks\": \"\"}}, \"type\": \"scatter\"}], \"scatter3d\": [{\"line\": {\"colorbar\": {\"outlinewidth\": 0, \"ticks\": \"\"}}, \"marker\": {\"colorbar\": {\"outlinewidth\": 0, \"ticks\": \"\"}}, \"type\": \"scatter3d\"}], \"scattercarpet\": [{\"marker\": {\"colorbar\": {\"outlinewidth\": 0, \"ticks\": \"\"}}, \"type\": \"scattercarpet\"}], \"scattergeo\": [{\"marker\": {\"colorbar\": {\"outlinewidth\": 0, \"ticks\": \"\"}}, \"type\": \"scattergeo\"}], \"scattergl\": [{\"marker\": {\"colorbar\": {\"outlinewidth\": 0, \"ticks\": \"\"}}, \"type\": \"scattergl\"}], \"scattermapbox\": [{\"marker\": {\"colorbar\": {\"outlinewidth\": 0, \"ticks\": \"\"}}, \"type\": \"scattermapbox\"}], \"scatterpolar\": [{\"marker\": {\"colorbar\": {\"outlinewidth\": 0, \"ticks\": \"\"}}, \"type\": \"scatterpolar\"}], \"scatterpolargl\": [{\"marker\": {\"colorbar\": {\"outlinewidth\": 0, \"ticks\": \"\"}}, \"type\": \"scatterpolargl\"}], \"scatterternary\": [{\"marker\": {\"colorbar\": {\"outlinewidth\": 0, \"ticks\": \"\"}}, \"type\": \"scatterternary\"}], \"surface\": [{\"colorbar\": {\"outlinewidth\": 0, \"ticks\": \"\"}, \"colorscale\": [[0.0, \"#0d0887\"], [0.1111111111111111, \"#46039f\"], [0.2222222222222222, \"#7201a8\"], [0.3333333333333333, \"#9c179e\"], [0.4444444444444444, \"#bd3786\"], [0.5555555555555556, \"#d8576b\"], [0.6666666666666666, \"#ed7953\"], [0.7777777777777778, \"#fb9f3a\"], [0.8888888888888888, \"#fdca26\"], [1.0, \"#f0f921\"]], \"type\": \"surface\"}], \"table\": [{\"cells\": {\"fill\": {\"color\": \"#EBF0F8\"}, \"line\": {\"color\": \"white\"}}, \"header\": {\"fill\": {\"color\": \"#C8D4E3\"}, \"line\": {\"color\": \"white\"}}, \"type\": \"table\"}]}, \"layout\": {\"annotationdefaults\": {\"arrowcolor\": \"#2a3f5f\", \"arrowhead\": 0, \"arrowwidth\": 1}, \"autotypenumbers\": \"strict\", \"coloraxis\": {\"colorbar\": {\"outlinewidth\": 0, \"ticks\": \"\"}}, \"colorscale\": {\"diverging\": [[0, \"#8e0152\"], [0.1, \"#c51b7d\"], [0.2, \"#de77ae\"], [0.3, \"#f1b6da\"], [0.4, \"#fde0ef\"], [0.5, \"#f7f7f7\"], [0.6, \"#e6f5d0\"], [0.7, \"#b8e186\"], [0.8, \"#7fbc41\"], [0.9, \"#4d9221\"], [1, \"#276419\"]], \"sequential\": [[0.0, \"#0d0887\"], [0.1111111111111111, \"#46039f\"], [0.2222222222222222, \"#7201a8\"], [0.3333333333333333, \"#9c179e\"], [0.4444444444444444, \"#bd3786\"], [0.5555555555555556, \"#d8576b\"], [0.6666666666666666, \"#ed7953\"], [0.7777777777777778, \"#fb9f3a\"], [0.8888888888888888, \"#fdca26\"], [1.0, \"#f0f921\"]], \"sequentialminus\": [[0.0, \"#0d0887\"], [0.1111111111111111, \"#46039f\"], [0.2222222222222222, \"#7201a8\"], [0.3333333333333333, \"#9c179e\"], [0.4444444444444444, \"#bd3786\"], [0.5555555555555556, \"#d8576b\"], [0.6666666666666666, \"#ed7953\"], [0.7777777777777778, \"#fb9f3a\"], [0.8888888888888888, \"#fdca26\"], [1.0, \"#f0f921\"]]}, \"colorway\": [\"#636efa\", \"#EF553B\", \"#00cc96\", \"#ab63fa\", \"#FFA15A\", \"#19d3f3\", \"#FF6692\", \"#B6E880\", \"#FF97FF\", \"#FECB52\"], \"font\": {\"color\": \"#2a3f5f\"}, \"geo\": {\"bgcolor\": \"white\", \"lakecolor\": \"white\", \"landcolor\": \"#E5ECF6\", \"showlakes\": true, \"showland\": true, \"subunitcolor\": \"white\"}, \"hoverlabel\": {\"align\": \"left\"}, \"hovermode\": \"closest\", \"mapbox\": {\"style\": \"light\"}, \"paper_bgcolor\": \"white\", \"plot_bgcolor\": \"#E5ECF6\", \"polar\": {\"angularaxis\": {\"gridcolor\": \"white\", \"linecolor\": \"white\", \"ticks\": \"\"}, \"bgcolor\": \"#E5ECF6\", \"radialaxis\": {\"gridcolor\": \"white\", \"linecolor\": \"white\", \"ticks\": \"\"}}, \"scene\": {\"xaxis\": {\"backgroundcolor\": \"#E5ECF6\", \"gridcolor\": \"white\", \"gridwidth\": 2, \"linecolor\": \"white\", \"showbackground\": true, \"ticks\": \"\", \"zerolinecolor\": \"white\"}, \"yaxis\": {\"backgroundcolor\": \"#E5ECF6\", \"gridcolor\": \"white\", \"gridwidth\": 2, \"linecolor\": \"white\", \"showbackground\": true, \"ticks\": \"\", \"zerolinecolor\": \"white\"}, \"zaxis\": {\"backgroundcolor\": \"#E5ECF6\", \"gridcolor\": \"white\", \"gridwidth\": 2, \"linecolor\": \"white\", \"showbackground\": true, \"ticks\": \"\", \"zerolinecolor\": \"white\"}}, \"shapedefaults\": {\"line\": {\"color\": \"#2a3f5f\"}}, \"ternary\": {\"aaxis\": {\"gridcolor\": \"white\", \"linecolor\": \"white\", \"ticks\": \"\"}, \"baxis\": {\"gridcolor\": \"white\", \"linecolor\": \"white\", \"ticks\": \"\"}, \"bgcolor\": \"#E5ECF6\", \"caxis\": {\"gridcolor\": \"white\", \"linecolor\": \"white\", \"ticks\": \"\"}}, \"title\": {\"x\": 0.05}, \"xaxis\": {\"automargin\": true, \"gridcolor\": \"white\", \"linecolor\": \"white\", \"ticks\": \"\", \"title\": {\"standoff\": 15}, \"zerolinecolor\": \"white\", \"zerolinewidth\": 2}, \"yaxis\": {\"automargin\": true, \"gridcolor\": \"white\", \"linecolor\": \"white\", \"ticks\": \"\", \"title\": {\"standoff\": 15}, \"zerolinecolor\": \"white\", \"zerolinewidth\": 2}}}, \"title\": {\"font\": {\"color\": \"#4D5663\"}}, \"xaxis\": {\"gridcolor\": \"#E1E5ED\", \"rangeslider\": {\"visible\": true}, \"showgrid\": true, \"tickfont\": {\"color\": \"#4D5663\"}, \"title\": {\"font\": {\"color\": \"#4D5663\"}, \"text\": \"\"}, \"zerolinecolor\": \"#E1E5ED\"}, \"yaxis\": {\"gridcolor\": \"#E1E5ED\", \"showgrid\": true, \"showticklabels\": false, \"tickfont\": {\"color\": \"#4D5663\"}, \"title\": {\"font\": {\"color\": \"#4D5663\"}, \"text\": \"\"}, \"zerolinecolor\": \"#E1E5ED\"}, \"yaxis2\": {\"gridcolor\": \"#E1E5ED\", \"showgrid\": true, \"tickfont\": {\"color\": \"#4D5663\"}, \"title\": {\"font\": {\"color\": \"#4D5663\"}, \"text\": \"\"}, \"zerolinecolor\": \"#E1E5ED\"}},                        {\"showLink\": true, \"linkText\": \"Export to plot.ly\", \"plotlyServerURL\": \"https://plot.ly\", \"responsive\": true}                    ).then(function(){\n",
       "                            \n",
       "var gd = document.getElementById('ff65c2cd-1c6d-4236-8e51-15e31fecb75f');\n",
       "var x = new MutationObserver(function (mutations, observer) {{\n",
       "        var display = window.getComputedStyle(gd).display;\n",
       "        if (!display || display === 'none') {{\n",
       "            console.log([gd, 'removed!']);\n",
       "            Plotly.purge(gd);\n",
       "            observer.disconnect();\n",
       "        }}\n",
       "}});\n",
       "\n",
       "// Listen for the removal of the full notebook cells\n",
       "var notebookContainer = gd.closest('#notebook-container');\n",
       "if (notebookContainer) {{\n",
       "    x.observe(notebookContainer, {childList: true});\n",
       "}}\n",
       "\n",
       "// Listen for the clearing of the current output cell\n",
       "var outputEl = gd.closest('.output');\n",
       "if (outputEl) {{\n",
       "    x.observe(outputEl, {childList: true});\n",
       "}}\n",
       "\n",
       "                        })                };                });            </script>        </div>"
      ]
     },
     "metadata": {},
     "output_type": "display_data"
    }
   ],
   "source": [
    "gme.iplot(kind=\"candle\",\n",
    "                          keys=[\"Open\", \"High\", \"Low\", \"Close\"],\n",
    "                          rangeslider=True\n",
    "                          )"
   ]
  },
  {
   "cell_type": "code",
   "execution_count": 7,
   "metadata": {},
   "outputs": [
    {
     "data": {
      "application/vnd.plotly.v1+json": {
       "config": {
        "linkText": "Export to plot.ly",
        "plotlyServerURL": "https://plot.ly",
        "showLink": true
       },
       "data": [
        {
         "legendgroup": "BOLL(Close,20)",
         "line": {
          "color": "rgba(55, 128, 191, 1.0)",
          "dash": "solid",
          "shape": "linear",
          "width": 1.3
         },
         "mode": "lines",
         "name": "BOLL(Close,20)",
         "showlegend": true,
         "text": "",
         "type": "scatter",
         "x": [
          "2020-12-01",
          "2020-12-02",
          "2020-12-03",
          "2020-12-04",
          "2020-12-07",
          "2020-12-08",
          "2020-12-09",
          "2020-12-10",
          "2020-12-11",
          "2020-12-14",
          "2020-12-15",
          "2020-12-16",
          "2020-12-17",
          "2020-12-18",
          "2020-12-21",
          "2020-12-22",
          "2020-12-23",
          "2020-12-24",
          "2020-12-28",
          "2020-12-29",
          "2020-12-30",
          "2020-12-31",
          "2021-01-04",
          "2021-01-05",
          "2021-01-06",
          "2021-01-07",
          "2021-01-08",
          "2021-01-11",
          "2021-01-12",
          "2021-01-13",
          "2021-01-14",
          "2021-01-15",
          "2021-01-19",
          "2021-01-20",
          "2021-01-21",
          "2021-01-22",
          "2021-01-25",
          "2021-01-26",
          "2021-01-27",
          "2021-01-28",
          "2021-01-29"
         ],
         "y": [
          "",
          "",
          "",
          "",
          "",
          "",
          "",
          "",
          "",
          "",
          "",
          "",
          "",
          "",
          "",
          "",
          "",
          "",
          "",
          16.33699998855591,
          16.509999990463257,
          16.62300000190735,
          16.67949995994568,
          16.703000020980834,
          16.803500032424928,
          16.860500001907347,
          17.062000036239624,
          17.35300006866455,
          17.685000085830687,
          18.619000053405763,
          19.922000026702882,
          21.004500007629396,
          22.23100004196167,
          23.405499982833863,
          24.780499935150146,
          27.058000087738037,
          29.869000148773193,
          36.26049995422363,
          52.58650045394897,
          61.29750080108643,
          76.58450078964233
         ],
         "yaxis": "y2"
        },
        {
         "legendgroup": "BOLL(Close,20)",
         "line": {
          "color": "rgba(55, 128, 191, 0.8999999999999999)",
          "dash": "solid",
          "shape": "linear",
          "width": 1.3
         },
         "mode": "lines",
         "name": "UPPER(Close,20)",
         "showlegend": false,
         "text": "",
         "type": "scatter",
         "x": [
          "2020-12-01",
          "2020-12-02",
          "2020-12-03",
          "2020-12-04",
          "2020-12-07",
          "2020-12-08",
          "2020-12-09",
          "2020-12-10",
          "2020-12-11",
          "2020-12-14",
          "2020-12-15",
          "2020-12-16",
          "2020-12-17",
          "2020-12-18",
          "2020-12-21",
          "2020-12-22",
          "2020-12-23",
          "2020-12-24",
          "2020-12-28",
          "2020-12-29",
          "2020-12-30",
          "2020-12-31",
          "2021-01-04",
          "2021-01-05",
          "2021-01-06",
          "2021-01-07",
          "2021-01-08",
          "2021-01-11",
          "2021-01-12",
          "2021-01-13",
          "2021-01-14",
          "2021-01-15",
          "2021-01-19",
          "2021-01-20",
          "2021-01-21",
          "2021-01-22",
          "2021-01-25",
          "2021-01-26",
          "2021-01-27",
          "2021-01-28",
          "2021-01-29"
         ],
         "y": [
          "",
          "",
          "",
          "",
          "",
          "",
          "",
          "",
          "",
          "",
          "",
          "",
          "",
          "",
          "",
          "",
          "",
          "",
          "",
          21.45282054271638,
          21.781016597395684,
          21.99624359837715,
          22.054237612942206,
          22.085900809893158,
          22.23349928515767,
          22.3203838662457,
          22.318212415279984,
          22.56767172560168,
          22.655648429474407,
          26.065125979853278,
          31.709325016606655,
          34.32119845878947,
          37.5249794435135,
          40.108028372777866,
          43.19338793230327,
          52.59137799535869,
          63.49205589893401,
          98.51404744212766,
          204.57053574165604,
          224.80217942243246,
          276.62842435011476
         ],
         "yaxis": "y2"
        },
        {
         "fill": "tonexty",
         "fillcolor": "rgba(55, 128, 191, 0.1)",
         "legendgroup": "BOLL(Close,20)",
         "line": {
          "color": "rgba(55, 128, 191, 0.7999999999999998)",
          "dash": "solid",
          "shape": "linear",
          "width": 1.3
         },
         "mode": "lines",
         "name": "LOWER(Close,20)",
         "showlegend": false,
         "text": "",
         "type": "scatter",
         "x": [
          "2020-12-01",
          "2020-12-02",
          "2020-12-03",
          "2020-12-04",
          "2020-12-07",
          "2020-12-08",
          "2020-12-09",
          "2020-12-10",
          "2020-12-11",
          "2020-12-14",
          "2020-12-15",
          "2020-12-16",
          "2020-12-17",
          "2020-12-18",
          "2020-12-21",
          "2020-12-22",
          "2020-12-23",
          "2020-12-24",
          "2020-12-28",
          "2020-12-29",
          "2020-12-30",
          "2020-12-31",
          "2021-01-04",
          "2021-01-05",
          "2021-01-06",
          "2021-01-07",
          "2021-01-08",
          "2021-01-11",
          "2021-01-12",
          "2021-01-13",
          "2021-01-14",
          "2021-01-15",
          "2021-01-19",
          "2021-01-20",
          "2021-01-21",
          "2021-01-22",
          "2021-01-25",
          "2021-01-26",
          "2021-01-27",
          "2021-01-28",
          "2021-01-29"
         ],
         "y": [
          "",
          "",
          "",
          "",
          "",
          "",
          "",
          "",
          "",
          "",
          "",
          "",
          "",
          "",
          "",
          "",
          "",
          "",
          "",
          11.221179434395436,
          11.238983383530828,
          11.249756405437552,
          11.304762306949154,
          11.320099232068511,
          11.373500779692186,
          11.400616137568996,
          11.805787657199264,
          12.138328411727418,
          12.714351742186967,
          11.17287412695825,
          8.13467503679911,
          7.687801556469326,
          6.937020640409838,
          6.702971592889863,
          6.367611937997026,
          1.5246221801173832,
          -3.7540556013876234,
          -25.993047533680404,
          -99.39753483375812,
          -102.20717782025962,
          -123.45942277083009
         ],
         "yaxis": "y2"
        },
        {
         "close": [
          15.800000190734863,
          16.579999923706055,
          16.1200008392334,
          16.899999618530273,
          16.350000381469727,
          16.940000534057617,
          13.65999984741211,
          14.119999885559082,
          13.3100004196167,
          12.720000267028809,
          13.850000381469727,
          13.850000381469727,
          14.829999923706055,
          15.630000114440918,
          15.529999732971191,
          19.459999084472656,
          20.56999969482422,
          20.149999618530273,
          20.989999771118164,
          19.3799991607666,
          19.260000228881836,
          18.84000015258789,
          17.25,
          17.3700008392334,
          18.360000610351562,
          18.079999923706055,
          17.690000534057617,
          19.940000534057617,
          19.950000762939453,
          31.399999618530273,
          39.90999984741211,
          35.5,
          39.36000061035156,
          39.119998931884766,
          43.029998779296875,
          65.01000213623047,
          76.79000091552734,
          147.97999572753906,
          347.510009765625,
          193.60000610351562,
          325
         ],
         "decreasing": {
          "line": {
           "color": "#808080"
          }
         },
         "high": [
          17.399999618530273,
          16.68000030517578,
          16.639999389648438,
          17.290000915527344,
          17.5,
          17.209999084472656,
          14.729999542236328,
          14.40999984741211,
          14,
          13.430000305175781,
          14.020000457763672,
          14.3100004196167,
          14.979999542236328,
          16.299999237060547,
          16.350000381469727,
          20.040000915527344,
          22.350000381469727,
          21.479999542236328,
          21.969999313354492,
          21.06999969482422,
          20,
          19.799999237060547,
          19.100000381469727,
          18.079999923706055,
          18.979999542236328,
          19.450000762939453,
          18.299999237060547,
          20.649999618530273,
          20.399999618530273,
          38.650001525878906,
          43.060001373291016,
          40.75,
          45.52000045776367,
          41.189998626708984,
          44.75,
          76.76000213623047,
          159.17999267578125,
          150,
          380,
          483,
          413.9800109863281
         ],
         "increasing": {
          "line": {
           "color": "#17BECF"
          }
         },
         "low": [
          15.760000228881836,
          15.380000114440918,
          15.869999885559082,
          16.260000228881836,
          16.219999313354492,
          15.930000305175781,
          13.229999542236328,
          13.050000190734863,
          13.020000457763672,
          12.140000343322754,
          12.479999542236328,
          13.579999923706055,
          13.59000015258789,
          15.180000305175781,
          15.279999732971191,
          16.149999618530273,
          19.1299991607666,
          19.950000762939453,
          20.350000381469727,
          18.559999465942383,
          18.850000381469727,
          18.799999237060547,
          17.149999618530273,
          17.229999542236328,
          17.329999923706055,
          18.020000457763672,
          17.079999923706055,
          19.010000228881836,
          19.31999969482422,
          20.030000686645508,
          33.04999923706055,
          34.0099983215332,
          36.63999938964844,
          36.060001373291016,
          37,
          42.31999969482422,
          61.130001068115234,
          80.19999694824219,
          249,
          112.25,
          250
         ],
         "name": "GS",
         "open": [
          17.110000610351562,
          15.699999809265137,
          16.479999542236328,
          16.299999237060547,
          17,
          16.3700008392334,
          13.920000076293945,
          13.119999885559082,
          13.90999984741211,
          13.34000015258789,
          12.779999732971191,
          13.960000038146973,
          13.960000038146973,
          15.779999732971191,
          15.8100004196167,
          16.219999313354492,
          20.170000076293945,
          21.010000228881836,
          21.309999465942383,
          20.81999969482422,
          19.3799991607666,
          19.25,
          19,
          17.350000381469727,
          17.34000015258789,
          18.469999313354492,
          18.18000030517578,
          19.40999984741211,
          19.959999084472656,
          20.420000076293945,
          38.09000015258789,
          38.4900016784668,
          41.54999923706055,
          37.369998931884766,
          39.22999954223633,
          42.59000015258789,
          96.7300033569336,
          88.55999755859375,
          354.8299865722656,
          265,
          379.7099914550781
         ],
         "showlegend": true,
         "type": "candlestick",
         "x": [
          "2020-12-01",
          "2020-12-02",
          "2020-12-03",
          "2020-12-04",
          "2020-12-07",
          "2020-12-08",
          "2020-12-09",
          "2020-12-10",
          "2020-12-11",
          "2020-12-14",
          "2020-12-15",
          "2020-12-16",
          "2020-12-17",
          "2020-12-18",
          "2020-12-21",
          "2020-12-22",
          "2020-12-23",
          "2020-12-24",
          "2020-12-28",
          "2020-12-29",
          "2020-12-30",
          "2020-12-31",
          "2021-01-04",
          "2021-01-05",
          "2021-01-06",
          "2021-01-07",
          "2021-01-08",
          "2021-01-11",
          "2021-01-12",
          "2021-01-13",
          "2021-01-14",
          "2021-01-15",
          "2021-01-19",
          "2021-01-20",
          "2021-01-21",
          "2021-01-22",
          "2021-01-25",
          "2021-01-26",
          "2021-01-27",
          "2021-01-28",
          "2021-01-29"
         ],
         "yaxis": "y2"
        }
       ],
       "layout": {
        "legend": {
         "bgcolor": "#F5F6F9",
         "font": {
          "color": "#4D5663"
         },
         "orientation": "h",
         "x": 0.3,
         "y": 0.95,
         "yanchor": "bottom"
        },
        "margin": {
         "b": 30,
         "l": 30,
         "r": 30,
         "t": 30
        },
        "paper_bgcolor": "#F5F6F9",
        "plot_bgcolor": "#F5F6F9",
        "showlegend": true,
        "template": {
         "data": {
          "bar": [
           {
            "error_x": {
             "color": "#2a3f5f"
            },
            "error_y": {
             "color": "#2a3f5f"
            },
            "marker": {
             "line": {
              "color": "#E5ECF6",
              "width": 0.5
             }
            },
            "type": "bar"
           }
          ],
          "barpolar": [
           {
            "marker": {
             "line": {
              "color": "#E5ECF6",
              "width": 0.5
             }
            },
            "type": "barpolar"
           }
          ],
          "carpet": [
           {
            "aaxis": {
             "endlinecolor": "#2a3f5f",
             "gridcolor": "white",
             "linecolor": "white",
             "minorgridcolor": "white",
             "startlinecolor": "#2a3f5f"
            },
            "baxis": {
             "endlinecolor": "#2a3f5f",
             "gridcolor": "white",
             "linecolor": "white",
             "minorgridcolor": "white",
             "startlinecolor": "#2a3f5f"
            },
            "type": "carpet"
           }
          ],
          "choropleth": [
           {
            "colorbar": {
             "outlinewidth": 0,
             "ticks": ""
            },
            "type": "choropleth"
           }
          ],
          "contour": [
           {
            "colorbar": {
             "outlinewidth": 0,
             "ticks": ""
            },
            "colorscale": [
             [
              0,
              "#0d0887"
             ],
             [
              0.1111111111111111,
              "#46039f"
             ],
             [
              0.2222222222222222,
              "#7201a8"
             ],
             [
              0.3333333333333333,
              "#9c179e"
             ],
             [
              0.4444444444444444,
              "#bd3786"
             ],
             [
              0.5555555555555556,
              "#d8576b"
             ],
             [
              0.6666666666666666,
              "#ed7953"
             ],
             [
              0.7777777777777778,
              "#fb9f3a"
             ],
             [
              0.8888888888888888,
              "#fdca26"
             ],
             [
              1,
              "#f0f921"
             ]
            ],
            "type": "contour"
           }
          ],
          "contourcarpet": [
           {
            "colorbar": {
             "outlinewidth": 0,
             "ticks": ""
            },
            "type": "contourcarpet"
           }
          ],
          "heatmap": [
           {
            "colorbar": {
             "outlinewidth": 0,
             "ticks": ""
            },
            "colorscale": [
             [
              0,
              "#0d0887"
             ],
             [
              0.1111111111111111,
              "#46039f"
             ],
             [
              0.2222222222222222,
              "#7201a8"
             ],
             [
              0.3333333333333333,
              "#9c179e"
             ],
             [
              0.4444444444444444,
              "#bd3786"
             ],
             [
              0.5555555555555556,
              "#d8576b"
             ],
             [
              0.6666666666666666,
              "#ed7953"
             ],
             [
              0.7777777777777778,
              "#fb9f3a"
             ],
             [
              0.8888888888888888,
              "#fdca26"
             ],
             [
              1,
              "#f0f921"
             ]
            ],
            "type": "heatmap"
           }
          ],
          "heatmapgl": [
           {
            "colorbar": {
             "outlinewidth": 0,
             "ticks": ""
            },
            "colorscale": [
             [
              0,
              "#0d0887"
             ],
             [
              0.1111111111111111,
              "#46039f"
             ],
             [
              0.2222222222222222,
              "#7201a8"
             ],
             [
              0.3333333333333333,
              "#9c179e"
             ],
             [
              0.4444444444444444,
              "#bd3786"
             ],
             [
              0.5555555555555556,
              "#d8576b"
             ],
             [
              0.6666666666666666,
              "#ed7953"
             ],
             [
              0.7777777777777778,
              "#fb9f3a"
             ],
             [
              0.8888888888888888,
              "#fdca26"
             ],
             [
              1,
              "#f0f921"
             ]
            ],
            "type": "heatmapgl"
           }
          ],
          "histogram": [
           {
            "marker": {
             "colorbar": {
              "outlinewidth": 0,
              "ticks": ""
             }
            },
            "type": "histogram"
           }
          ],
          "histogram2d": [
           {
            "colorbar": {
             "outlinewidth": 0,
             "ticks": ""
            },
            "colorscale": [
             [
              0,
              "#0d0887"
             ],
             [
              0.1111111111111111,
              "#46039f"
             ],
             [
              0.2222222222222222,
              "#7201a8"
             ],
             [
              0.3333333333333333,
              "#9c179e"
             ],
             [
              0.4444444444444444,
              "#bd3786"
             ],
             [
              0.5555555555555556,
              "#d8576b"
             ],
             [
              0.6666666666666666,
              "#ed7953"
             ],
             [
              0.7777777777777778,
              "#fb9f3a"
             ],
             [
              0.8888888888888888,
              "#fdca26"
             ],
             [
              1,
              "#f0f921"
             ]
            ],
            "type": "histogram2d"
           }
          ],
          "histogram2dcontour": [
           {
            "colorbar": {
             "outlinewidth": 0,
             "ticks": ""
            },
            "colorscale": [
             [
              0,
              "#0d0887"
             ],
             [
              0.1111111111111111,
              "#46039f"
             ],
             [
              0.2222222222222222,
              "#7201a8"
             ],
             [
              0.3333333333333333,
              "#9c179e"
             ],
             [
              0.4444444444444444,
              "#bd3786"
             ],
             [
              0.5555555555555556,
              "#d8576b"
             ],
             [
              0.6666666666666666,
              "#ed7953"
             ],
             [
              0.7777777777777778,
              "#fb9f3a"
             ],
             [
              0.8888888888888888,
              "#fdca26"
             ],
             [
              1,
              "#f0f921"
             ]
            ],
            "type": "histogram2dcontour"
           }
          ],
          "mesh3d": [
           {
            "colorbar": {
             "outlinewidth": 0,
             "ticks": ""
            },
            "type": "mesh3d"
           }
          ],
          "parcoords": [
           {
            "line": {
             "colorbar": {
              "outlinewidth": 0,
              "ticks": ""
             }
            },
            "type": "parcoords"
           }
          ],
          "pie": [
           {
            "automargin": true,
            "type": "pie"
           }
          ],
          "scatter": [
           {
            "marker": {
             "colorbar": {
              "outlinewidth": 0,
              "ticks": ""
             }
            },
            "type": "scatter"
           }
          ],
          "scatter3d": [
           {
            "line": {
             "colorbar": {
              "outlinewidth": 0,
              "ticks": ""
             }
            },
            "marker": {
             "colorbar": {
              "outlinewidth": 0,
              "ticks": ""
             }
            },
            "type": "scatter3d"
           }
          ],
          "scattercarpet": [
           {
            "marker": {
             "colorbar": {
              "outlinewidth": 0,
              "ticks": ""
             }
            },
            "type": "scattercarpet"
           }
          ],
          "scattergeo": [
           {
            "marker": {
             "colorbar": {
              "outlinewidth": 0,
              "ticks": ""
             }
            },
            "type": "scattergeo"
           }
          ],
          "scattergl": [
           {
            "marker": {
             "colorbar": {
              "outlinewidth": 0,
              "ticks": ""
             }
            },
            "type": "scattergl"
           }
          ],
          "scattermapbox": [
           {
            "marker": {
             "colorbar": {
              "outlinewidth": 0,
              "ticks": ""
             }
            },
            "type": "scattermapbox"
           }
          ],
          "scatterpolar": [
           {
            "marker": {
             "colorbar": {
              "outlinewidth": 0,
              "ticks": ""
             }
            },
            "type": "scatterpolar"
           }
          ],
          "scatterpolargl": [
           {
            "marker": {
             "colorbar": {
              "outlinewidth": 0,
              "ticks": ""
             }
            },
            "type": "scatterpolargl"
           }
          ],
          "scatterternary": [
           {
            "marker": {
             "colorbar": {
              "outlinewidth": 0,
              "ticks": ""
             }
            },
            "type": "scatterternary"
           }
          ],
          "surface": [
           {
            "colorbar": {
             "outlinewidth": 0,
             "ticks": ""
            },
            "colorscale": [
             [
              0,
              "#0d0887"
             ],
             [
              0.1111111111111111,
              "#46039f"
             ],
             [
              0.2222222222222222,
              "#7201a8"
             ],
             [
              0.3333333333333333,
              "#9c179e"
             ],
             [
              0.4444444444444444,
              "#bd3786"
             ],
             [
              0.5555555555555556,
              "#d8576b"
             ],
             [
              0.6666666666666666,
              "#ed7953"
             ],
             [
              0.7777777777777778,
              "#fb9f3a"
             ],
             [
              0.8888888888888888,
              "#fdca26"
             ],
             [
              1,
              "#f0f921"
             ]
            ],
            "type": "surface"
           }
          ],
          "table": [
           {
            "cells": {
             "fill": {
              "color": "#EBF0F8"
             },
             "line": {
              "color": "white"
             }
            },
            "header": {
             "fill": {
              "color": "#C8D4E3"
             },
             "line": {
              "color": "white"
             }
            },
            "type": "table"
           }
          ]
         },
         "layout": {
          "annotationdefaults": {
           "arrowcolor": "#2a3f5f",
           "arrowhead": 0,
           "arrowwidth": 1
          },
          "autotypenumbers": "strict",
          "coloraxis": {
           "colorbar": {
            "outlinewidth": 0,
            "ticks": ""
           }
          },
          "colorscale": {
           "diverging": [
            [
             0,
             "#8e0152"
            ],
            [
             0.1,
             "#c51b7d"
            ],
            [
             0.2,
             "#de77ae"
            ],
            [
             0.3,
             "#f1b6da"
            ],
            [
             0.4,
             "#fde0ef"
            ],
            [
             0.5,
             "#f7f7f7"
            ],
            [
             0.6,
             "#e6f5d0"
            ],
            [
             0.7,
             "#b8e186"
            ],
            [
             0.8,
             "#7fbc41"
            ],
            [
             0.9,
             "#4d9221"
            ],
            [
             1,
             "#276419"
            ]
           ],
           "sequential": [
            [
             0,
             "#0d0887"
            ],
            [
             0.1111111111111111,
             "#46039f"
            ],
            [
             0.2222222222222222,
             "#7201a8"
            ],
            [
             0.3333333333333333,
             "#9c179e"
            ],
            [
             0.4444444444444444,
             "#bd3786"
            ],
            [
             0.5555555555555556,
             "#d8576b"
            ],
            [
             0.6666666666666666,
             "#ed7953"
            ],
            [
             0.7777777777777778,
             "#fb9f3a"
            ],
            [
             0.8888888888888888,
             "#fdca26"
            ],
            [
             1,
             "#f0f921"
            ]
           ],
           "sequentialminus": [
            [
             0,
             "#0d0887"
            ],
            [
             0.1111111111111111,
             "#46039f"
            ],
            [
             0.2222222222222222,
             "#7201a8"
            ],
            [
             0.3333333333333333,
             "#9c179e"
            ],
            [
             0.4444444444444444,
             "#bd3786"
            ],
            [
             0.5555555555555556,
             "#d8576b"
            ],
            [
             0.6666666666666666,
             "#ed7953"
            ],
            [
             0.7777777777777778,
             "#fb9f3a"
            ],
            [
             0.8888888888888888,
             "#fdca26"
            ],
            [
             1,
             "#f0f921"
            ]
           ]
          },
          "colorway": [
           "#636efa",
           "#EF553B",
           "#00cc96",
           "#ab63fa",
           "#FFA15A",
           "#19d3f3",
           "#FF6692",
           "#B6E880",
           "#FF97FF",
           "#FECB52"
          ],
          "font": {
           "color": "#2a3f5f"
          },
          "geo": {
           "bgcolor": "white",
           "lakecolor": "white",
           "landcolor": "#E5ECF6",
           "showlakes": true,
           "showland": true,
           "subunitcolor": "white"
          },
          "hoverlabel": {
           "align": "left"
          },
          "hovermode": "closest",
          "mapbox": {
           "style": "light"
          },
          "paper_bgcolor": "white",
          "plot_bgcolor": "#E5ECF6",
          "polar": {
           "angularaxis": {
            "gridcolor": "white",
            "linecolor": "white",
            "ticks": ""
           },
           "bgcolor": "#E5ECF6",
           "radialaxis": {
            "gridcolor": "white",
            "linecolor": "white",
            "ticks": ""
           }
          },
          "scene": {
           "xaxis": {
            "backgroundcolor": "#E5ECF6",
            "gridcolor": "white",
            "gridwidth": 2,
            "linecolor": "white",
            "showbackground": true,
            "ticks": "",
            "zerolinecolor": "white"
           },
           "yaxis": {
            "backgroundcolor": "#E5ECF6",
            "gridcolor": "white",
            "gridwidth": 2,
            "linecolor": "white",
            "showbackground": true,
            "ticks": "",
            "zerolinecolor": "white"
           },
           "zaxis": {
            "backgroundcolor": "#E5ECF6",
            "gridcolor": "white",
            "gridwidth": 2,
            "linecolor": "white",
            "showbackground": true,
            "ticks": "",
            "zerolinecolor": "white"
           }
          },
          "shapedefaults": {
           "line": {
            "color": "#2a3f5f"
           }
          },
          "ternary": {
           "aaxis": {
            "gridcolor": "white",
            "linecolor": "white",
            "ticks": ""
           },
           "baxis": {
            "gridcolor": "white",
            "linecolor": "white",
            "ticks": ""
           },
           "bgcolor": "#E5ECF6",
           "caxis": {
            "gridcolor": "white",
            "linecolor": "white",
            "ticks": ""
           }
          },
          "title": {
           "x": 0.05
          },
          "xaxis": {
           "automargin": true,
           "gridcolor": "white",
           "linecolor": "white",
           "ticks": "",
           "title": {
            "standoff": 15
           },
           "zerolinecolor": "white",
           "zerolinewidth": 2
          },
          "yaxis": {
           "automargin": true,
           "gridcolor": "white",
           "linecolor": "white",
           "ticks": "",
           "title": {
            "standoff": 15
           },
           "zerolinecolor": "white",
           "zerolinewidth": 2
          }
         }
        },
        "title": {
         "font": {
          "color": "#4D5663"
         },
         "text": "First Quant Figure"
        },
        "xaxis": {
         "anchor": "y2",
         "gridcolor": "#E1E5ED",
         "rangeselector": {
          "bgcolor": "rgba(150, 200, 250, 1)",
          "buttons": [
           {
            "count": 1,
            "label": "1m",
            "step": "month",
            "stepmode": "backward"
           },
           {
            "count": 1,
            "label": "1y",
            "step": "year",
            "stepmode": "backward"
           }
          ],
          "font": {
           "size": 13
          },
          "visible": false,
          "x": 0,
          "y": 0.9
         },
         "rangeslider": {
          "visible": false
         },
         "showgrid": true,
         "tickfont": {
          "color": "#4D5663"
         },
         "title": {
          "font": {
           "color": "#4D5663"
          },
          "text": ""
         },
         "zerolinecolor": "#E1E5ED"
        },
        "yaxis": {
         "gridcolor": "#E1E5ED",
         "showgrid": true,
         "showticklabels": false,
         "tickfont": {
          "color": "#4D5663"
         },
         "title": {
          "font": {
           "color": "#4D5663"
          },
          "text": ""
         },
         "zerolinecolor": "#E1E5ED"
        },
        "yaxis2": {
         "domain": [
          0,
          0.9
         ],
         "gridcolor": "#E1E5ED",
         "showgrid": true,
         "tickfont": {
          "color": "#4D5663"
         },
         "title": {
          "font": {
           "color": "#4D5663"
          },
          "text": ""
         },
         "zerolinecolor": "#E1E5ED"
        }
       }
      },
      "text/html": [
       "<div>                            <div id=\"442301a1-e5a8-4edc-bad8-f30936ffd7b2\" class=\"plotly-graph-div\" style=\"height:525px; width:100%;\"></div>            <script type=\"text/javascript\">                require([\"plotly\"], function(Plotly) {                    window.PLOTLYENV=window.PLOTLYENV || {};\n",
       "                    window.PLOTLYENV.BASE_URL='https://plot.ly';                                    if (document.getElementById(\"442301a1-e5a8-4edc-bad8-f30936ffd7b2\")) {                    Plotly.newPlot(                        \"442301a1-e5a8-4edc-bad8-f30936ffd7b2\",                        [{\"legendgroup\": \"BOLL(Close,20)\", \"line\": {\"color\": \"rgba(55, 128, 191, 1.0)\", \"dash\": \"solid\", \"shape\": \"linear\", \"width\": 1.3}, \"mode\": \"lines\", \"name\": \"BOLL(Close,20)\", \"showlegend\": true, \"text\": \"\", \"type\": \"scatter\", \"x\": [\"2020-12-01\", \"2020-12-02\", \"2020-12-03\", \"2020-12-04\", \"2020-12-07\", \"2020-12-08\", \"2020-12-09\", \"2020-12-10\", \"2020-12-11\", \"2020-12-14\", \"2020-12-15\", \"2020-12-16\", \"2020-12-17\", \"2020-12-18\", \"2020-12-21\", \"2020-12-22\", \"2020-12-23\", \"2020-12-24\", \"2020-12-28\", \"2020-12-29\", \"2020-12-30\", \"2020-12-31\", \"2021-01-04\", \"2021-01-05\", \"2021-01-06\", \"2021-01-07\", \"2021-01-08\", \"2021-01-11\", \"2021-01-12\", \"2021-01-13\", \"2021-01-14\", \"2021-01-15\", \"2021-01-19\", \"2021-01-20\", \"2021-01-21\", \"2021-01-22\", \"2021-01-25\", \"2021-01-26\", \"2021-01-27\", \"2021-01-28\", \"2021-01-29\"], \"y\": [\"\", \"\", \"\", \"\", \"\", \"\", \"\", \"\", \"\", \"\", \"\", \"\", \"\", \"\", \"\", \"\", \"\", \"\", \"\", 16.33699998855591, 16.509999990463257, 16.62300000190735, 16.67949995994568, 16.703000020980834, 16.803500032424928, 16.860500001907347, 17.062000036239624, 17.35300006866455, 17.685000085830687, 18.619000053405763, 19.922000026702882, 21.004500007629396, 22.23100004196167, 23.405499982833863, 24.780499935150146, 27.058000087738037, 29.869000148773193, 36.26049995422363, 52.58650045394897, 61.29750080108643, 76.58450078964233], \"yaxis\": \"y2\"}, {\"legendgroup\": \"BOLL(Close,20)\", \"line\": {\"color\": \"rgba(55, 128, 191, 0.8999999999999999)\", \"dash\": \"solid\", \"shape\": \"linear\", \"width\": 1.3}, \"mode\": \"lines\", \"name\": \"UPPER(Close,20)\", \"showlegend\": false, \"text\": \"\", \"type\": \"scatter\", \"x\": [\"2020-12-01\", \"2020-12-02\", \"2020-12-03\", \"2020-12-04\", \"2020-12-07\", \"2020-12-08\", \"2020-12-09\", \"2020-12-10\", \"2020-12-11\", \"2020-12-14\", \"2020-12-15\", \"2020-12-16\", \"2020-12-17\", \"2020-12-18\", \"2020-12-21\", \"2020-12-22\", \"2020-12-23\", \"2020-12-24\", \"2020-12-28\", \"2020-12-29\", \"2020-12-30\", \"2020-12-31\", \"2021-01-04\", \"2021-01-05\", \"2021-01-06\", \"2021-01-07\", \"2021-01-08\", \"2021-01-11\", \"2021-01-12\", \"2021-01-13\", \"2021-01-14\", \"2021-01-15\", \"2021-01-19\", \"2021-01-20\", \"2021-01-21\", \"2021-01-22\", \"2021-01-25\", \"2021-01-26\", \"2021-01-27\", \"2021-01-28\", \"2021-01-29\"], \"y\": [\"\", \"\", \"\", \"\", \"\", \"\", \"\", \"\", \"\", \"\", \"\", \"\", \"\", \"\", \"\", \"\", \"\", \"\", \"\", 21.45282054271638, 21.781016597395684, 21.99624359837715, 22.054237612942206, 22.085900809893158, 22.23349928515767, 22.3203838662457, 22.318212415279984, 22.56767172560168, 22.655648429474407, 26.065125979853278, 31.709325016606655, 34.32119845878947, 37.5249794435135, 40.108028372777866, 43.19338793230327, 52.59137799535869, 63.49205589893401, 98.51404744212766, 204.57053574165604, 224.80217942243246, 276.62842435011476], \"yaxis\": \"y2\"}, {\"fill\": \"tonexty\", \"fillcolor\": \"rgba(55, 128, 191, 0.1)\", \"legendgroup\": \"BOLL(Close,20)\", \"line\": {\"color\": \"rgba(55, 128, 191, 0.7999999999999998)\", \"dash\": \"solid\", \"shape\": \"linear\", \"width\": 1.3}, \"mode\": \"lines\", \"name\": \"LOWER(Close,20)\", \"showlegend\": false, \"text\": \"\", \"type\": \"scatter\", \"x\": [\"2020-12-01\", \"2020-12-02\", \"2020-12-03\", \"2020-12-04\", \"2020-12-07\", \"2020-12-08\", \"2020-12-09\", \"2020-12-10\", \"2020-12-11\", \"2020-12-14\", \"2020-12-15\", \"2020-12-16\", \"2020-12-17\", \"2020-12-18\", \"2020-12-21\", \"2020-12-22\", \"2020-12-23\", \"2020-12-24\", \"2020-12-28\", \"2020-12-29\", \"2020-12-30\", \"2020-12-31\", \"2021-01-04\", \"2021-01-05\", \"2021-01-06\", \"2021-01-07\", \"2021-01-08\", \"2021-01-11\", \"2021-01-12\", \"2021-01-13\", \"2021-01-14\", \"2021-01-15\", \"2021-01-19\", \"2021-01-20\", \"2021-01-21\", \"2021-01-22\", \"2021-01-25\", \"2021-01-26\", \"2021-01-27\", \"2021-01-28\", \"2021-01-29\"], \"y\": [\"\", \"\", \"\", \"\", \"\", \"\", \"\", \"\", \"\", \"\", \"\", \"\", \"\", \"\", \"\", \"\", \"\", \"\", \"\", 11.221179434395436, 11.238983383530828, 11.249756405437552, 11.304762306949154, 11.320099232068511, 11.373500779692186, 11.400616137568996, 11.805787657199264, 12.138328411727418, 12.714351742186967, 11.17287412695825, 8.13467503679911, 7.687801556469326, 6.937020640409838, 6.702971592889863, 6.367611937997026, 1.5246221801173832, -3.7540556013876234, -25.993047533680404, -99.39753483375812, -102.20717782025962, -123.45942277083009], \"yaxis\": \"y2\"}, {\"close\": [15.800000190734863, 16.579999923706055, 16.1200008392334, 16.899999618530273, 16.350000381469727, 16.940000534057617, 13.65999984741211, 14.119999885559082, 13.3100004196167, 12.720000267028809, 13.850000381469727, 13.850000381469727, 14.829999923706055, 15.630000114440918, 15.529999732971191, 19.459999084472656, 20.56999969482422, 20.149999618530273, 20.989999771118164, 19.3799991607666, 19.260000228881836, 18.84000015258789, 17.25, 17.3700008392334, 18.360000610351562, 18.079999923706055, 17.690000534057617, 19.940000534057617, 19.950000762939453, 31.399999618530273, 39.90999984741211, 35.5, 39.36000061035156, 39.119998931884766, 43.029998779296875, 65.01000213623047, 76.79000091552734, 147.97999572753906, 347.510009765625, 193.60000610351562, 325.0], \"decreasing\": {\"line\": {\"color\": \"#808080\"}}, \"high\": [17.399999618530273, 16.68000030517578, 16.639999389648438, 17.290000915527344, 17.5, 17.209999084472656, 14.729999542236328, 14.40999984741211, 14.0, 13.430000305175781, 14.020000457763672, 14.3100004196167, 14.979999542236328, 16.299999237060547, 16.350000381469727, 20.040000915527344, 22.350000381469727, 21.479999542236328, 21.969999313354492, 21.06999969482422, 20.0, 19.799999237060547, 19.100000381469727, 18.079999923706055, 18.979999542236328, 19.450000762939453, 18.299999237060547, 20.649999618530273, 20.399999618530273, 38.650001525878906, 43.060001373291016, 40.75, 45.52000045776367, 41.189998626708984, 44.75, 76.76000213623047, 159.17999267578125, 150.0, 380.0, 483.0, 413.9800109863281], \"increasing\": {\"line\": {\"color\": \"#17BECF\"}}, \"low\": [15.760000228881836, 15.380000114440918, 15.869999885559082, 16.260000228881836, 16.219999313354492, 15.930000305175781, 13.229999542236328, 13.050000190734863, 13.020000457763672, 12.140000343322754, 12.479999542236328, 13.579999923706055, 13.59000015258789, 15.180000305175781, 15.279999732971191, 16.149999618530273, 19.1299991607666, 19.950000762939453, 20.350000381469727, 18.559999465942383, 18.850000381469727, 18.799999237060547, 17.149999618530273, 17.229999542236328, 17.329999923706055, 18.020000457763672, 17.079999923706055, 19.010000228881836, 19.31999969482422, 20.030000686645508, 33.04999923706055, 34.0099983215332, 36.63999938964844, 36.060001373291016, 37.0, 42.31999969482422, 61.130001068115234, 80.19999694824219, 249.0, 112.25, 250.0], \"name\": \"GS\", \"open\": [17.110000610351562, 15.699999809265137, 16.479999542236328, 16.299999237060547, 17.0, 16.3700008392334, 13.920000076293945, 13.119999885559082, 13.90999984741211, 13.34000015258789, 12.779999732971191, 13.960000038146973, 13.960000038146973, 15.779999732971191, 15.8100004196167, 16.219999313354492, 20.170000076293945, 21.010000228881836, 21.309999465942383, 20.81999969482422, 19.3799991607666, 19.25, 19.0, 17.350000381469727, 17.34000015258789, 18.469999313354492, 18.18000030517578, 19.40999984741211, 19.959999084472656, 20.420000076293945, 38.09000015258789, 38.4900016784668, 41.54999923706055, 37.369998931884766, 39.22999954223633, 42.59000015258789, 96.7300033569336, 88.55999755859375, 354.8299865722656, 265.0, 379.7099914550781], \"showlegend\": true, \"type\": \"candlestick\", \"x\": [\"2020-12-01\", \"2020-12-02\", \"2020-12-03\", \"2020-12-04\", \"2020-12-07\", \"2020-12-08\", \"2020-12-09\", \"2020-12-10\", \"2020-12-11\", \"2020-12-14\", \"2020-12-15\", \"2020-12-16\", \"2020-12-17\", \"2020-12-18\", \"2020-12-21\", \"2020-12-22\", \"2020-12-23\", \"2020-12-24\", \"2020-12-28\", \"2020-12-29\", \"2020-12-30\", \"2020-12-31\", \"2021-01-04\", \"2021-01-05\", \"2021-01-06\", \"2021-01-07\", \"2021-01-08\", \"2021-01-11\", \"2021-01-12\", \"2021-01-13\", \"2021-01-14\", \"2021-01-15\", \"2021-01-19\", \"2021-01-20\", \"2021-01-21\", \"2021-01-22\", \"2021-01-25\", \"2021-01-26\", \"2021-01-27\", \"2021-01-28\", \"2021-01-29\"], \"yaxis\": \"y2\"}],                        {\"legend\": {\"bgcolor\": \"#F5F6F9\", \"font\": {\"color\": \"#4D5663\"}, \"orientation\": \"h\", \"x\": 0.3, \"y\": 0.95, \"yanchor\": \"bottom\"}, \"margin\": {\"b\": 30, \"l\": 30, \"r\": 30, \"t\": 30}, \"paper_bgcolor\": \"#F5F6F9\", \"plot_bgcolor\": \"#F5F6F9\", \"showlegend\": true, \"template\": {\"data\": {\"bar\": [{\"error_x\": {\"color\": \"#2a3f5f\"}, \"error_y\": {\"color\": \"#2a3f5f\"}, \"marker\": {\"line\": {\"color\": \"#E5ECF6\", \"width\": 0.5}}, \"type\": \"bar\"}], \"barpolar\": [{\"marker\": {\"line\": {\"color\": \"#E5ECF6\", \"width\": 0.5}}, \"type\": \"barpolar\"}], \"carpet\": [{\"aaxis\": {\"endlinecolor\": \"#2a3f5f\", \"gridcolor\": \"white\", \"linecolor\": \"white\", \"minorgridcolor\": \"white\", \"startlinecolor\": \"#2a3f5f\"}, \"baxis\": {\"endlinecolor\": \"#2a3f5f\", \"gridcolor\": \"white\", \"linecolor\": \"white\", \"minorgridcolor\": \"white\", \"startlinecolor\": \"#2a3f5f\"}, \"type\": \"carpet\"}], \"choropleth\": [{\"colorbar\": {\"outlinewidth\": 0, \"ticks\": \"\"}, \"type\": \"choropleth\"}], \"contour\": [{\"colorbar\": {\"outlinewidth\": 0, \"ticks\": \"\"}, \"colorscale\": [[0.0, \"#0d0887\"], [0.1111111111111111, \"#46039f\"], [0.2222222222222222, \"#7201a8\"], [0.3333333333333333, \"#9c179e\"], [0.4444444444444444, \"#bd3786\"], [0.5555555555555556, \"#d8576b\"], [0.6666666666666666, \"#ed7953\"], [0.7777777777777778, \"#fb9f3a\"], [0.8888888888888888, \"#fdca26\"], [1.0, \"#f0f921\"]], \"type\": \"contour\"}], \"contourcarpet\": [{\"colorbar\": {\"outlinewidth\": 0, \"ticks\": \"\"}, \"type\": \"contourcarpet\"}], \"heatmap\": [{\"colorbar\": {\"outlinewidth\": 0, \"ticks\": \"\"}, \"colorscale\": [[0.0, \"#0d0887\"], [0.1111111111111111, \"#46039f\"], [0.2222222222222222, \"#7201a8\"], [0.3333333333333333, \"#9c179e\"], [0.4444444444444444, \"#bd3786\"], [0.5555555555555556, \"#d8576b\"], [0.6666666666666666, \"#ed7953\"], [0.7777777777777778, \"#fb9f3a\"], [0.8888888888888888, \"#fdca26\"], [1.0, \"#f0f921\"]], \"type\": \"heatmap\"}], \"heatmapgl\": [{\"colorbar\": {\"outlinewidth\": 0, \"ticks\": \"\"}, \"colorscale\": [[0.0, \"#0d0887\"], [0.1111111111111111, \"#46039f\"], [0.2222222222222222, \"#7201a8\"], [0.3333333333333333, \"#9c179e\"], [0.4444444444444444, \"#bd3786\"], [0.5555555555555556, \"#d8576b\"], [0.6666666666666666, \"#ed7953\"], [0.7777777777777778, \"#fb9f3a\"], [0.8888888888888888, \"#fdca26\"], [1.0, \"#f0f921\"]], \"type\": \"heatmapgl\"}], \"histogram\": [{\"marker\": {\"colorbar\": {\"outlinewidth\": 0, \"ticks\": \"\"}}, \"type\": \"histogram\"}], \"histogram2d\": [{\"colorbar\": {\"outlinewidth\": 0, \"ticks\": \"\"}, \"colorscale\": [[0.0, \"#0d0887\"], [0.1111111111111111, \"#46039f\"], [0.2222222222222222, \"#7201a8\"], [0.3333333333333333, \"#9c179e\"], [0.4444444444444444, \"#bd3786\"], [0.5555555555555556, \"#d8576b\"], [0.6666666666666666, \"#ed7953\"], [0.7777777777777778, \"#fb9f3a\"], [0.8888888888888888, \"#fdca26\"], [1.0, \"#f0f921\"]], \"type\": \"histogram2d\"}], \"histogram2dcontour\": [{\"colorbar\": {\"outlinewidth\": 0, \"ticks\": \"\"}, \"colorscale\": [[0.0, \"#0d0887\"], [0.1111111111111111, \"#46039f\"], [0.2222222222222222, \"#7201a8\"], [0.3333333333333333, \"#9c179e\"], [0.4444444444444444, \"#bd3786\"], [0.5555555555555556, \"#d8576b\"], [0.6666666666666666, \"#ed7953\"], [0.7777777777777778, \"#fb9f3a\"], [0.8888888888888888, \"#fdca26\"], [1.0, \"#f0f921\"]], \"type\": \"histogram2dcontour\"}], \"mesh3d\": [{\"colorbar\": {\"outlinewidth\": 0, \"ticks\": \"\"}, \"type\": \"mesh3d\"}], \"parcoords\": [{\"line\": {\"colorbar\": {\"outlinewidth\": 0, \"ticks\": \"\"}}, \"type\": \"parcoords\"}], \"pie\": [{\"automargin\": true, \"type\": \"pie\"}], \"scatter\": [{\"marker\": {\"colorbar\": {\"outlinewidth\": 0, \"ticks\": \"\"}}, \"type\": \"scatter\"}], \"scatter3d\": [{\"line\": {\"colorbar\": {\"outlinewidth\": 0, \"ticks\": \"\"}}, \"marker\": {\"colorbar\": {\"outlinewidth\": 0, \"ticks\": \"\"}}, \"type\": \"scatter3d\"}], \"scattercarpet\": [{\"marker\": {\"colorbar\": {\"outlinewidth\": 0, \"ticks\": \"\"}}, \"type\": \"scattercarpet\"}], \"scattergeo\": [{\"marker\": {\"colorbar\": {\"outlinewidth\": 0, \"ticks\": \"\"}}, \"type\": \"scattergeo\"}], \"scattergl\": [{\"marker\": {\"colorbar\": {\"outlinewidth\": 0, \"ticks\": \"\"}}, \"type\": \"scattergl\"}], \"scattermapbox\": [{\"marker\": {\"colorbar\": {\"outlinewidth\": 0, \"ticks\": \"\"}}, \"type\": \"scattermapbox\"}], \"scatterpolar\": [{\"marker\": {\"colorbar\": {\"outlinewidth\": 0, \"ticks\": \"\"}}, \"type\": \"scatterpolar\"}], \"scatterpolargl\": [{\"marker\": {\"colorbar\": {\"outlinewidth\": 0, \"ticks\": \"\"}}, \"type\": \"scatterpolargl\"}], \"scatterternary\": [{\"marker\": {\"colorbar\": {\"outlinewidth\": 0, \"ticks\": \"\"}}, \"type\": \"scatterternary\"}], \"surface\": [{\"colorbar\": {\"outlinewidth\": 0, \"ticks\": \"\"}, \"colorscale\": [[0.0, \"#0d0887\"], [0.1111111111111111, \"#46039f\"], [0.2222222222222222, \"#7201a8\"], [0.3333333333333333, \"#9c179e\"], [0.4444444444444444, \"#bd3786\"], [0.5555555555555556, \"#d8576b\"], [0.6666666666666666, \"#ed7953\"], [0.7777777777777778, \"#fb9f3a\"], [0.8888888888888888, \"#fdca26\"], [1.0, \"#f0f921\"]], \"type\": \"surface\"}], \"table\": [{\"cells\": {\"fill\": {\"color\": \"#EBF0F8\"}, \"line\": {\"color\": \"white\"}}, \"header\": {\"fill\": {\"color\": \"#C8D4E3\"}, \"line\": {\"color\": \"white\"}}, \"type\": \"table\"}]}, \"layout\": {\"annotationdefaults\": {\"arrowcolor\": \"#2a3f5f\", \"arrowhead\": 0, \"arrowwidth\": 1}, \"autotypenumbers\": \"strict\", \"coloraxis\": {\"colorbar\": {\"outlinewidth\": 0, \"ticks\": \"\"}}, \"colorscale\": {\"diverging\": [[0, \"#8e0152\"], [0.1, \"#c51b7d\"], [0.2, \"#de77ae\"], [0.3, \"#f1b6da\"], [0.4, \"#fde0ef\"], [0.5, \"#f7f7f7\"], [0.6, \"#e6f5d0\"], [0.7, \"#b8e186\"], [0.8, \"#7fbc41\"], [0.9, \"#4d9221\"], [1, \"#276419\"]], \"sequential\": [[0.0, \"#0d0887\"], [0.1111111111111111, \"#46039f\"], [0.2222222222222222, \"#7201a8\"], [0.3333333333333333, \"#9c179e\"], [0.4444444444444444, \"#bd3786\"], [0.5555555555555556, \"#d8576b\"], [0.6666666666666666, \"#ed7953\"], [0.7777777777777778, \"#fb9f3a\"], [0.8888888888888888, \"#fdca26\"], [1.0, \"#f0f921\"]], \"sequentialminus\": [[0.0, \"#0d0887\"], [0.1111111111111111, \"#46039f\"], [0.2222222222222222, \"#7201a8\"], [0.3333333333333333, \"#9c179e\"], [0.4444444444444444, \"#bd3786\"], [0.5555555555555556, \"#d8576b\"], [0.6666666666666666, \"#ed7953\"], [0.7777777777777778, \"#fb9f3a\"], [0.8888888888888888, \"#fdca26\"], [1.0, \"#f0f921\"]]}, \"colorway\": [\"#636efa\", \"#EF553B\", \"#00cc96\", \"#ab63fa\", \"#FFA15A\", \"#19d3f3\", \"#FF6692\", \"#B6E880\", \"#FF97FF\", \"#FECB52\"], \"font\": {\"color\": \"#2a3f5f\"}, \"geo\": {\"bgcolor\": \"white\", \"lakecolor\": \"white\", \"landcolor\": \"#E5ECF6\", \"showlakes\": true, \"showland\": true, \"subunitcolor\": \"white\"}, \"hoverlabel\": {\"align\": \"left\"}, \"hovermode\": \"closest\", \"mapbox\": {\"style\": \"light\"}, \"paper_bgcolor\": \"white\", \"plot_bgcolor\": \"#E5ECF6\", \"polar\": {\"angularaxis\": {\"gridcolor\": \"white\", \"linecolor\": \"white\", \"ticks\": \"\"}, \"bgcolor\": \"#E5ECF6\", \"radialaxis\": {\"gridcolor\": \"white\", \"linecolor\": \"white\", \"ticks\": \"\"}}, \"scene\": {\"xaxis\": {\"backgroundcolor\": \"#E5ECF6\", \"gridcolor\": \"white\", \"gridwidth\": 2, \"linecolor\": \"white\", \"showbackground\": true, \"ticks\": \"\", \"zerolinecolor\": \"white\"}, \"yaxis\": {\"backgroundcolor\": \"#E5ECF6\", \"gridcolor\": \"white\", \"gridwidth\": 2, \"linecolor\": \"white\", \"showbackground\": true, \"ticks\": \"\", \"zerolinecolor\": \"white\"}, \"zaxis\": {\"backgroundcolor\": \"#E5ECF6\", \"gridcolor\": \"white\", \"gridwidth\": 2, \"linecolor\": \"white\", \"showbackground\": true, \"ticks\": \"\", \"zerolinecolor\": \"white\"}}, \"shapedefaults\": {\"line\": {\"color\": \"#2a3f5f\"}}, \"ternary\": {\"aaxis\": {\"gridcolor\": \"white\", \"linecolor\": \"white\", \"ticks\": \"\"}, \"baxis\": {\"gridcolor\": \"white\", \"linecolor\": \"white\", \"ticks\": \"\"}, \"bgcolor\": \"#E5ECF6\", \"caxis\": {\"gridcolor\": \"white\", \"linecolor\": \"white\", \"ticks\": \"\"}}, \"title\": {\"x\": 0.05}, \"xaxis\": {\"automargin\": true, \"gridcolor\": \"white\", \"linecolor\": \"white\", \"ticks\": \"\", \"title\": {\"standoff\": 15}, \"zerolinecolor\": \"white\", \"zerolinewidth\": 2}, \"yaxis\": {\"automargin\": true, \"gridcolor\": \"white\", \"linecolor\": \"white\", \"ticks\": \"\", \"title\": {\"standoff\": 15}, \"zerolinecolor\": \"white\", \"zerolinewidth\": 2}}}, \"title\": {\"font\": {\"color\": \"#4D5663\"}, \"text\": \"First Quant Figure\"}, \"xaxis\": {\"anchor\": \"y2\", \"gridcolor\": \"#E1E5ED\", \"rangeselector\": {\"bgcolor\": \"rgba(150, 200, 250, 1)\", \"buttons\": [{\"count\": 1, \"label\": \"1m\", \"step\": \"month\", \"stepmode\": \"backward\"}, {\"count\": 1, \"label\": \"1y\", \"step\": \"year\", \"stepmode\": \"backward\"}], \"font\": {\"size\": 13}, \"visible\": false, \"x\": 0, \"y\": 0.9}, \"rangeslider\": {\"visible\": false}, \"showgrid\": true, \"tickfont\": {\"color\": \"#4D5663\"}, \"title\": {\"font\": {\"color\": \"#4D5663\"}, \"text\": \"\"}, \"zerolinecolor\": \"#E1E5ED\"}, \"yaxis\": {\"gridcolor\": \"#E1E5ED\", \"showgrid\": true, \"showticklabels\": false, \"tickfont\": {\"color\": \"#4D5663\"}, \"title\": {\"font\": {\"color\": \"#4D5663\"}, \"text\": \"\"}, \"zerolinecolor\": \"#E1E5ED\"}, \"yaxis2\": {\"domain\": [0.0, 0.9], \"gridcolor\": \"#E1E5ED\", \"showgrid\": true, \"tickfont\": {\"color\": \"#4D5663\"}, \"title\": {\"font\": {\"color\": \"#4D5663\"}, \"text\": \"\"}, \"zerolinecolor\": \"#E1E5ED\"}},                        {\"showLink\": true, \"linkText\": \"Export to plot.ly\", \"plotlyServerURL\": \"https://plot.ly\", \"responsive\": true}                    ).then(function(){\n",
       "                            \n",
       "var gd = document.getElementById('442301a1-e5a8-4edc-bad8-f30936ffd7b2');\n",
       "var x = new MutationObserver(function (mutations, observer) {{\n",
       "        var display = window.getComputedStyle(gd).display;\n",
       "        if (!display || display === 'none') {{\n",
       "            console.log([gd, 'removed!']);\n",
       "            Plotly.purge(gd);\n",
       "            observer.disconnect();\n",
       "        }}\n",
       "}});\n",
       "\n",
       "// Listen for the removal of the full notebook cells\n",
       "var notebookContainer = gd.closest('#notebook-container');\n",
       "if (notebookContainer) {{\n",
       "    x.observe(notebookContainer, {childList: true});\n",
       "}}\n",
       "\n",
       "// Listen for the clearing of the current output cell\n",
       "var outputEl = gd.closest('.output');\n",
       "if (outputEl) {{\n",
       "    x.observe(outputEl, {childList: true});\n",
       "}}\n",
       "\n",
       "                        })                };                });            </script>        </div>"
      ]
     },
     "metadata": {},
     "output_type": "display_data"
    }
   ],
   "source": [
    "qf=cf.QuantFig(gme,title='First Quant Figure',legend='top',name='GS')\n",
    "qf.add_bollinger_bands()\n",
    "qf.iplot()"
   ]
  },
  {
   "cell_type": "code",
   "execution_count": 8,
   "metadata": {},
   "outputs": [
    {
     "data": {
      "application/vnd.plotly.v1+json": {
       "config": {
        "linkText": "Export to plot.ly",
        "plotlyServerURL": "https://plot.ly",
        "showLink": true
       },
       "data": [
        {
         "legendgroup": "BOLL(Close,20)",
         "line": {
          "color": "rgba(55, 128, 191, 1.0)",
          "dash": "solid",
          "shape": "linear",
          "width": 1.3
         },
         "mode": "lines",
         "name": "BOLL(Close,20)",
         "showlegend": true,
         "text": "",
         "type": "scatter",
         "x": [
          "2020-12-01",
          "2020-12-02",
          "2020-12-03",
          "2020-12-04",
          "2020-12-07",
          "2020-12-08",
          "2020-12-09",
          "2020-12-10",
          "2020-12-11",
          "2020-12-14",
          "2020-12-15",
          "2020-12-16",
          "2020-12-17",
          "2020-12-18",
          "2020-12-21",
          "2020-12-22",
          "2020-12-23",
          "2020-12-24",
          "2020-12-28",
          "2020-12-29",
          "2020-12-30",
          "2020-12-31",
          "2021-01-04",
          "2021-01-05",
          "2021-01-06",
          "2021-01-07",
          "2021-01-08",
          "2021-01-11",
          "2021-01-12",
          "2021-01-13",
          "2021-01-14",
          "2021-01-15",
          "2021-01-19",
          "2021-01-20",
          "2021-01-21",
          "2021-01-22",
          "2021-01-25",
          "2021-01-26",
          "2021-01-27",
          "2021-01-28",
          "2021-01-29"
         ],
         "y": [
          "",
          "",
          "",
          "",
          "",
          "",
          "",
          "",
          "",
          "",
          "",
          "",
          "",
          "",
          "",
          "",
          "",
          "",
          "",
          16.33699998855591,
          16.509999990463257,
          16.62300000190735,
          16.67949995994568,
          16.703000020980834,
          16.803500032424928,
          16.860500001907347,
          17.062000036239624,
          17.35300006866455,
          17.685000085830687,
          18.619000053405763,
          19.922000026702882,
          21.004500007629396,
          22.23100004196167,
          23.405499982833863,
          24.780499935150146,
          27.058000087738037,
          29.869000148773193,
          36.26049995422363,
          52.58650045394897,
          61.29750080108643,
          76.58450078964233
         ],
         "yaxis": "y2"
        },
        {
         "legendgroup": "BOLL(Close,20)",
         "line": {
          "color": "rgba(55, 128, 191, 0.8999999999999999)",
          "dash": "solid",
          "shape": "linear",
          "width": 1.3
         },
         "mode": "lines",
         "name": "UPPER(Close,20)",
         "showlegend": false,
         "text": "",
         "type": "scatter",
         "x": [
          "2020-12-01",
          "2020-12-02",
          "2020-12-03",
          "2020-12-04",
          "2020-12-07",
          "2020-12-08",
          "2020-12-09",
          "2020-12-10",
          "2020-12-11",
          "2020-12-14",
          "2020-12-15",
          "2020-12-16",
          "2020-12-17",
          "2020-12-18",
          "2020-12-21",
          "2020-12-22",
          "2020-12-23",
          "2020-12-24",
          "2020-12-28",
          "2020-12-29",
          "2020-12-30",
          "2020-12-31",
          "2021-01-04",
          "2021-01-05",
          "2021-01-06",
          "2021-01-07",
          "2021-01-08",
          "2021-01-11",
          "2021-01-12",
          "2021-01-13",
          "2021-01-14",
          "2021-01-15",
          "2021-01-19",
          "2021-01-20",
          "2021-01-21",
          "2021-01-22",
          "2021-01-25",
          "2021-01-26",
          "2021-01-27",
          "2021-01-28",
          "2021-01-29"
         ],
         "y": [
          "",
          "",
          "",
          "",
          "",
          "",
          "",
          "",
          "",
          "",
          "",
          "",
          "",
          "",
          "",
          "",
          "",
          "",
          "",
          21.45282054271638,
          21.781016597395684,
          21.99624359837715,
          22.054237612942206,
          22.085900809893158,
          22.23349928515767,
          22.3203838662457,
          22.318212415279984,
          22.56767172560168,
          22.655648429474407,
          26.065125979853278,
          31.709325016606655,
          34.32119845878947,
          37.5249794435135,
          40.108028372777866,
          43.19338793230327,
          52.59137799535869,
          63.49205589893401,
          98.51404744212766,
          204.57053574165604,
          224.80217942243246,
          276.62842435011476
         ],
         "yaxis": "y2"
        },
        {
         "fill": "tonexty",
         "fillcolor": "rgba(55, 128, 191, 0.1)",
         "legendgroup": "BOLL(Close,20)",
         "line": {
          "color": "rgba(55, 128, 191, 0.7999999999999998)",
          "dash": "solid",
          "shape": "linear",
          "width": 1.3
         },
         "mode": "lines",
         "name": "LOWER(Close,20)",
         "showlegend": false,
         "text": "",
         "type": "scatter",
         "x": [
          "2020-12-01",
          "2020-12-02",
          "2020-12-03",
          "2020-12-04",
          "2020-12-07",
          "2020-12-08",
          "2020-12-09",
          "2020-12-10",
          "2020-12-11",
          "2020-12-14",
          "2020-12-15",
          "2020-12-16",
          "2020-12-17",
          "2020-12-18",
          "2020-12-21",
          "2020-12-22",
          "2020-12-23",
          "2020-12-24",
          "2020-12-28",
          "2020-12-29",
          "2020-12-30",
          "2020-12-31",
          "2021-01-04",
          "2021-01-05",
          "2021-01-06",
          "2021-01-07",
          "2021-01-08",
          "2021-01-11",
          "2021-01-12",
          "2021-01-13",
          "2021-01-14",
          "2021-01-15",
          "2021-01-19",
          "2021-01-20",
          "2021-01-21",
          "2021-01-22",
          "2021-01-25",
          "2021-01-26",
          "2021-01-27",
          "2021-01-28",
          "2021-01-29"
         ],
         "y": [
          "",
          "",
          "",
          "",
          "",
          "",
          "",
          "",
          "",
          "",
          "",
          "",
          "",
          "",
          "",
          "",
          "",
          "",
          "",
          11.221179434395436,
          11.238983383530828,
          11.249756405437552,
          11.304762306949154,
          11.320099232068511,
          11.373500779692186,
          11.400616137568996,
          11.805787657199264,
          12.138328411727418,
          12.714351742186967,
          11.17287412695825,
          8.13467503679911,
          7.687801556469326,
          6.937020640409838,
          6.702971592889863,
          6.367611937997026,
          1.5246221801173832,
          -3.7540556013876234,
          -25.993047533680404,
          -99.39753483375812,
          -102.20717782025962,
          -123.45942277083009
         ],
         "yaxis": "y2"
        },
        {
         "marker": {
          "color": [
           "#808080",
           "#17BECF",
           "#808080",
           "#17BECF",
           "#808080",
           "#17BECF",
           "#808080",
           "#17BECF",
           "#808080",
           "#808080",
           "#17BECF",
           "#808080",
           "#17BECF",
           "#17BECF",
           "#808080",
           "#17BECF",
           "#17BECF",
           "#808080",
           "#17BECF",
           "#808080",
           "#808080",
           "#808080",
           "#808080",
           "#17BECF",
           "#17BECF",
           "#808080",
           "#808080",
           "#17BECF",
           "#17BECF",
           "#17BECF",
           "#17BECF",
           "#808080",
           "#17BECF",
           "#808080",
           "#17BECF",
           "#17BECF",
           "#17BECF",
           "#17BECF",
           "#17BECF",
           "#808080",
           "#17BECF"
          ],
          "line": {
           "color": [
            "#808080",
            "#17BECF",
            "#808080",
            "#17BECF",
            "#808080",
            "#17BECF",
            "#808080",
            "#17BECF",
            "#808080",
            "#808080",
            "#17BECF",
            "#808080",
            "#17BECF",
            "#17BECF",
            "#808080",
            "#17BECF",
            "#17BECF",
            "#808080",
            "#17BECF",
            "#808080",
            "#808080",
            "#808080",
            "#808080",
            "#17BECF",
            "#17BECF",
            "#808080",
            "#808080",
            "#17BECF",
            "#17BECF",
            "#17BECF",
            "#17BECF",
            "#808080",
            "#17BECF",
            "#808080",
            "#17BECF",
            "#17BECF",
            "#17BECF",
            "#17BECF",
            "#17BECF",
            "#808080",
            "#17BECF"
           ],
           "width": 1
          }
         },
         "name": "Volume",
         "opacity": 0.8,
         "orientation": "v",
         "text": "",
         "type": "bar",
         "x": [
          "2020-12-01",
          "2020-12-02",
          "2020-12-03",
          "2020-12-04",
          "2020-12-07",
          "2020-12-08",
          "2020-12-09",
          "2020-12-10",
          "2020-12-11",
          "2020-12-14",
          "2020-12-15",
          "2020-12-16",
          "2020-12-17",
          "2020-12-18",
          "2020-12-21",
          "2020-12-22",
          "2020-12-23",
          "2020-12-24",
          "2020-12-28",
          "2020-12-29",
          "2020-12-30",
          "2020-12-31",
          "2021-01-04",
          "2021-01-05",
          "2021-01-06",
          "2021-01-07",
          "2021-01-08",
          "2021-01-11",
          "2021-01-12",
          "2021-01-13",
          "2021-01-14",
          "2021-01-15",
          "2021-01-19",
          "2021-01-20",
          "2021-01-21",
          "2021-01-22",
          "2021-01-25",
          "2021-01-26",
          "2021-01-27",
          "2021-01-28",
          "2021-01-29"
         ],
         "y": [
          12666000,
          7883400,
          6295000,
          8972700,
          7386300,
          16120200,
          24357900,
          7558900,
          7496900,
          10007100,
          8192900,
          5865100,
          8194900,
          16618800,
          9876100,
          30652700,
          25830300,
          6262200,
          8965900,
          9241400,
          5934400,
          6918900,
          10022500,
          4961500,
          6056200,
          6129300,
          6464500,
          14927600,
          7060700,
          144501700,
          93717400,
          46752200,
          74721900,
          33471800,
          57079800,
          196784300,
          177874000,
          178588000,
          93396700,
          58815800,
          50259200
         ],
         "yaxis": "y3"
        },
        {
         "close": [
          15.800000190734863,
          16.579999923706055,
          16.1200008392334,
          16.899999618530273,
          16.350000381469727,
          16.940000534057617,
          13.65999984741211,
          14.119999885559082,
          13.3100004196167,
          12.720000267028809,
          13.850000381469727,
          13.850000381469727,
          14.829999923706055,
          15.630000114440918,
          15.529999732971191,
          19.459999084472656,
          20.56999969482422,
          20.149999618530273,
          20.989999771118164,
          19.3799991607666,
          19.260000228881836,
          18.84000015258789,
          17.25,
          17.3700008392334,
          18.360000610351562,
          18.079999923706055,
          17.690000534057617,
          19.940000534057617,
          19.950000762939453,
          31.399999618530273,
          39.90999984741211,
          35.5,
          39.36000061035156,
          39.119998931884766,
          43.029998779296875,
          65.01000213623047,
          76.79000091552734,
          147.97999572753906,
          347.510009765625,
          193.60000610351562,
          325
         ],
         "decreasing": {
          "line": {
           "color": "#808080"
          }
         },
         "high": [
          17.399999618530273,
          16.68000030517578,
          16.639999389648438,
          17.290000915527344,
          17.5,
          17.209999084472656,
          14.729999542236328,
          14.40999984741211,
          14,
          13.430000305175781,
          14.020000457763672,
          14.3100004196167,
          14.979999542236328,
          16.299999237060547,
          16.350000381469727,
          20.040000915527344,
          22.350000381469727,
          21.479999542236328,
          21.969999313354492,
          21.06999969482422,
          20,
          19.799999237060547,
          19.100000381469727,
          18.079999923706055,
          18.979999542236328,
          19.450000762939453,
          18.299999237060547,
          20.649999618530273,
          20.399999618530273,
          38.650001525878906,
          43.060001373291016,
          40.75,
          45.52000045776367,
          41.189998626708984,
          44.75,
          76.76000213623047,
          159.17999267578125,
          150,
          380,
          483,
          413.9800109863281
         ],
         "increasing": {
          "line": {
           "color": "#17BECF"
          }
         },
         "low": [
          15.760000228881836,
          15.380000114440918,
          15.869999885559082,
          16.260000228881836,
          16.219999313354492,
          15.930000305175781,
          13.229999542236328,
          13.050000190734863,
          13.020000457763672,
          12.140000343322754,
          12.479999542236328,
          13.579999923706055,
          13.59000015258789,
          15.180000305175781,
          15.279999732971191,
          16.149999618530273,
          19.1299991607666,
          19.950000762939453,
          20.350000381469727,
          18.559999465942383,
          18.850000381469727,
          18.799999237060547,
          17.149999618530273,
          17.229999542236328,
          17.329999923706055,
          18.020000457763672,
          17.079999923706055,
          19.010000228881836,
          19.31999969482422,
          20.030000686645508,
          33.04999923706055,
          34.0099983215332,
          36.63999938964844,
          36.060001373291016,
          37,
          42.31999969482422,
          61.130001068115234,
          80.19999694824219,
          249,
          112.25,
          250
         ],
         "name": "GS",
         "open": [
          17.110000610351562,
          15.699999809265137,
          16.479999542236328,
          16.299999237060547,
          17,
          16.3700008392334,
          13.920000076293945,
          13.119999885559082,
          13.90999984741211,
          13.34000015258789,
          12.779999732971191,
          13.960000038146973,
          13.960000038146973,
          15.779999732971191,
          15.8100004196167,
          16.219999313354492,
          20.170000076293945,
          21.010000228881836,
          21.309999465942383,
          20.81999969482422,
          19.3799991607666,
          19.25,
          19,
          17.350000381469727,
          17.34000015258789,
          18.469999313354492,
          18.18000030517578,
          19.40999984741211,
          19.959999084472656,
          20.420000076293945,
          38.09000015258789,
          38.4900016784668,
          41.54999923706055,
          37.369998931884766,
          39.22999954223633,
          42.59000015258789,
          96.7300033569336,
          88.55999755859375,
          354.8299865722656,
          265,
          379.7099914550781
         ],
         "showlegend": true,
         "type": "candlestick",
         "x": [
          "2020-12-01",
          "2020-12-02",
          "2020-12-03",
          "2020-12-04",
          "2020-12-07",
          "2020-12-08",
          "2020-12-09",
          "2020-12-10",
          "2020-12-11",
          "2020-12-14",
          "2020-12-15",
          "2020-12-16",
          "2020-12-17",
          "2020-12-18",
          "2020-12-21",
          "2020-12-22",
          "2020-12-23",
          "2020-12-24",
          "2020-12-28",
          "2020-12-29",
          "2020-12-30",
          "2020-12-31",
          "2021-01-04",
          "2021-01-05",
          "2021-01-06",
          "2021-01-07",
          "2021-01-08",
          "2021-01-11",
          "2021-01-12",
          "2021-01-13",
          "2021-01-14",
          "2021-01-15",
          "2021-01-19",
          "2021-01-20",
          "2021-01-21",
          "2021-01-22",
          "2021-01-25",
          "2021-01-26",
          "2021-01-27",
          "2021-01-28",
          "2021-01-29"
         ],
         "yaxis": "y2"
        }
       ],
       "layout": {
        "legend": {
         "bgcolor": "#F5F6F9",
         "font": {
          "color": "#4D5663"
         },
         "orientation": "h",
         "x": 0.3,
         "y": 0.95,
         "yanchor": "bottom"
        },
        "margin": {
         "b": 30,
         "l": 30,
         "r": 30,
         "t": 30
        },
        "paper_bgcolor": "#F5F6F9",
        "plot_bgcolor": "#F5F6F9",
        "showlegend": true,
        "template": {
         "data": {
          "bar": [
           {
            "error_x": {
             "color": "#2a3f5f"
            },
            "error_y": {
             "color": "#2a3f5f"
            },
            "marker": {
             "line": {
              "color": "#E5ECF6",
              "width": 0.5
             }
            },
            "type": "bar"
           }
          ],
          "barpolar": [
           {
            "marker": {
             "line": {
              "color": "#E5ECF6",
              "width": 0.5
             }
            },
            "type": "barpolar"
           }
          ],
          "carpet": [
           {
            "aaxis": {
             "endlinecolor": "#2a3f5f",
             "gridcolor": "white",
             "linecolor": "white",
             "minorgridcolor": "white",
             "startlinecolor": "#2a3f5f"
            },
            "baxis": {
             "endlinecolor": "#2a3f5f",
             "gridcolor": "white",
             "linecolor": "white",
             "minorgridcolor": "white",
             "startlinecolor": "#2a3f5f"
            },
            "type": "carpet"
           }
          ],
          "choropleth": [
           {
            "colorbar": {
             "outlinewidth": 0,
             "ticks": ""
            },
            "type": "choropleth"
           }
          ],
          "contour": [
           {
            "colorbar": {
             "outlinewidth": 0,
             "ticks": ""
            },
            "colorscale": [
             [
              0,
              "#0d0887"
             ],
             [
              0.1111111111111111,
              "#46039f"
             ],
             [
              0.2222222222222222,
              "#7201a8"
             ],
             [
              0.3333333333333333,
              "#9c179e"
             ],
             [
              0.4444444444444444,
              "#bd3786"
             ],
             [
              0.5555555555555556,
              "#d8576b"
             ],
             [
              0.6666666666666666,
              "#ed7953"
             ],
             [
              0.7777777777777778,
              "#fb9f3a"
             ],
             [
              0.8888888888888888,
              "#fdca26"
             ],
             [
              1,
              "#f0f921"
             ]
            ],
            "type": "contour"
           }
          ],
          "contourcarpet": [
           {
            "colorbar": {
             "outlinewidth": 0,
             "ticks": ""
            },
            "type": "contourcarpet"
           }
          ],
          "heatmap": [
           {
            "colorbar": {
             "outlinewidth": 0,
             "ticks": ""
            },
            "colorscale": [
             [
              0,
              "#0d0887"
             ],
             [
              0.1111111111111111,
              "#46039f"
             ],
             [
              0.2222222222222222,
              "#7201a8"
             ],
             [
              0.3333333333333333,
              "#9c179e"
             ],
             [
              0.4444444444444444,
              "#bd3786"
             ],
             [
              0.5555555555555556,
              "#d8576b"
             ],
             [
              0.6666666666666666,
              "#ed7953"
             ],
             [
              0.7777777777777778,
              "#fb9f3a"
             ],
             [
              0.8888888888888888,
              "#fdca26"
             ],
             [
              1,
              "#f0f921"
             ]
            ],
            "type": "heatmap"
           }
          ],
          "heatmapgl": [
           {
            "colorbar": {
             "outlinewidth": 0,
             "ticks": ""
            },
            "colorscale": [
             [
              0,
              "#0d0887"
             ],
             [
              0.1111111111111111,
              "#46039f"
             ],
             [
              0.2222222222222222,
              "#7201a8"
             ],
             [
              0.3333333333333333,
              "#9c179e"
             ],
             [
              0.4444444444444444,
              "#bd3786"
             ],
             [
              0.5555555555555556,
              "#d8576b"
             ],
             [
              0.6666666666666666,
              "#ed7953"
             ],
             [
              0.7777777777777778,
              "#fb9f3a"
             ],
             [
              0.8888888888888888,
              "#fdca26"
             ],
             [
              1,
              "#f0f921"
             ]
            ],
            "type": "heatmapgl"
           }
          ],
          "histogram": [
           {
            "marker": {
             "colorbar": {
              "outlinewidth": 0,
              "ticks": ""
             }
            },
            "type": "histogram"
           }
          ],
          "histogram2d": [
           {
            "colorbar": {
             "outlinewidth": 0,
             "ticks": ""
            },
            "colorscale": [
             [
              0,
              "#0d0887"
             ],
             [
              0.1111111111111111,
              "#46039f"
             ],
             [
              0.2222222222222222,
              "#7201a8"
             ],
             [
              0.3333333333333333,
              "#9c179e"
             ],
             [
              0.4444444444444444,
              "#bd3786"
             ],
             [
              0.5555555555555556,
              "#d8576b"
             ],
             [
              0.6666666666666666,
              "#ed7953"
             ],
             [
              0.7777777777777778,
              "#fb9f3a"
             ],
             [
              0.8888888888888888,
              "#fdca26"
             ],
             [
              1,
              "#f0f921"
             ]
            ],
            "type": "histogram2d"
           }
          ],
          "histogram2dcontour": [
           {
            "colorbar": {
             "outlinewidth": 0,
             "ticks": ""
            },
            "colorscale": [
             [
              0,
              "#0d0887"
             ],
             [
              0.1111111111111111,
              "#46039f"
             ],
             [
              0.2222222222222222,
              "#7201a8"
             ],
             [
              0.3333333333333333,
              "#9c179e"
             ],
             [
              0.4444444444444444,
              "#bd3786"
             ],
             [
              0.5555555555555556,
              "#d8576b"
             ],
             [
              0.6666666666666666,
              "#ed7953"
             ],
             [
              0.7777777777777778,
              "#fb9f3a"
             ],
             [
              0.8888888888888888,
              "#fdca26"
             ],
             [
              1,
              "#f0f921"
             ]
            ],
            "type": "histogram2dcontour"
           }
          ],
          "mesh3d": [
           {
            "colorbar": {
             "outlinewidth": 0,
             "ticks": ""
            },
            "type": "mesh3d"
           }
          ],
          "parcoords": [
           {
            "line": {
             "colorbar": {
              "outlinewidth": 0,
              "ticks": ""
             }
            },
            "type": "parcoords"
           }
          ],
          "pie": [
           {
            "automargin": true,
            "type": "pie"
           }
          ],
          "scatter": [
           {
            "marker": {
             "colorbar": {
              "outlinewidth": 0,
              "ticks": ""
             }
            },
            "type": "scatter"
           }
          ],
          "scatter3d": [
           {
            "line": {
             "colorbar": {
              "outlinewidth": 0,
              "ticks": ""
             }
            },
            "marker": {
             "colorbar": {
              "outlinewidth": 0,
              "ticks": ""
             }
            },
            "type": "scatter3d"
           }
          ],
          "scattercarpet": [
           {
            "marker": {
             "colorbar": {
              "outlinewidth": 0,
              "ticks": ""
             }
            },
            "type": "scattercarpet"
           }
          ],
          "scattergeo": [
           {
            "marker": {
             "colorbar": {
              "outlinewidth": 0,
              "ticks": ""
             }
            },
            "type": "scattergeo"
           }
          ],
          "scattergl": [
           {
            "marker": {
             "colorbar": {
              "outlinewidth": 0,
              "ticks": ""
             }
            },
            "type": "scattergl"
           }
          ],
          "scattermapbox": [
           {
            "marker": {
             "colorbar": {
              "outlinewidth": 0,
              "ticks": ""
             }
            },
            "type": "scattermapbox"
           }
          ],
          "scatterpolar": [
           {
            "marker": {
             "colorbar": {
              "outlinewidth": 0,
              "ticks": ""
             }
            },
            "type": "scatterpolar"
           }
          ],
          "scatterpolargl": [
           {
            "marker": {
             "colorbar": {
              "outlinewidth": 0,
              "ticks": ""
             }
            },
            "type": "scatterpolargl"
           }
          ],
          "scatterternary": [
           {
            "marker": {
             "colorbar": {
              "outlinewidth": 0,
              "ticks": ""
             }
            },
            "type": "scatterternary"
           }
          ],
          "surface": [
           {
            "colorbar": {
             "outlinewidth": 0,
             "ticks": ""
            },
            "colorscale": [
             [
              0,
              "#0d0887"
             ],
             [
              0.1111111111111111,
              "#46039f"
             ],
             [
              0.2222222222222222,
              "#7201a8"
             ],
             [
              0.3333333333333333,
              "#9c179e"
             ],
             [
              0.4444444444444444,
              "#bd3786"
             ],
             [
              0.5555555555555556,
              "#d8576b"
             ],
             [
              0.6666666666666666,
              "#ed7953"
             ],
             [
              0.7777777777777778,
              "#fb9f3a"
             ],
             [
              0.8888888888888888,
              "#fdca26"
             ],
             [
              1,
              "#f0f921"
             ]
            ],
            "type": "surface"
           }
          ],
          "table": [
           {
            "cells": {
             "fill": {
              "color": "#EBF0F8"
             },
             "line": {
              "color": "white"
             }
            },
            "header": {
             "fill": {
              "color": "#C8D4E3"
             },
             "line": {
              "color": "white"
             }
            },
            "type": "table"
           }
          ]
         },
         "layout": {
          "annotationdefaults": {
           "arrowcolor": "#2a3f5f",
           "arrowhead": 0,
           "arrowwidth": 1
          },
          "autotypenumbers": "strict",
          "coloraxis": {
           "colorbar": {
            "outlinewidth": 0,
            "ticks": ""
           }
          },
          "colorscale": {
           "diverging": [
            [
             0,
             "#8e0152"
            ],
            [
             0.1,
             "#c51b7d"
            ],
            [
             0.2,
             "#de77ae"
            ],
            [
             0.3,
             "#f1b6da"
            ],
            [
             0.4,
             "#fde0ef"
            ],
            [
             0.5,
             "#f7f7f7"
            ],
            [
             0.6,
             "#e6f5d0"
            ],
            [
             0.7,
             "#b8e186"
            ],
            [
             0.8,
             "#7fbc41"
            ],
            [
             0.9,
             "#4d9221"
            ],
            [
             1,
             "#276419"
            ]
           ],
           "sequential": [
            [
             0,
             "#0d0887"
            ],
            [
             0.1111111111111111,
             "#46039f"
            ],
            [
             0.2222222222222222,
             "#7201a8"
            ],
            [
             0.3333333333333333,
             "#9c179e"
            ],
            [
             0.4444444444444444,
             "#bd3786"
            ],
            [
             0.5555555555555556,
             "#d8576b"
            ],
            [
             0.6666666666666666,
             "#ed7953"
            ],
            [
             0.7777777777777778,
             "#fb9f3a"
            ],
            [
             0.8888888888888888,
             "#fdca26"
            ],
            [
             1,
             "#f0f921"
            ]
           ],
           "sequentialminus": [
            [
             0,
             "#0d0887"
            ],
            [
             0.1111111111111111,
             "#46039f"
            ],
            [
             0.2222222222222222,
             "#7201a8"
            ],
            [
             0.3333333333333333,
             "#9c179e"
            ],
            [
             0.4444444444444444,
             "#bd3786"
            ],
            [
             0.5555555555555556,
             "#d8576b"
            ],
            [
             0.6666666666666666,
             "#ed7953"
            ],
            [
             0.7777777777777778,
             "#fb9f3a"
            ],
            [
             0.8888888888888888,
             "#fdca26"
            ],
            [
             1,
             "#f0f921"
            ]
           ]
          },
          "colorway": [
           "#636efa",
           "#EF553B",
           "#00cc96",
           "#ab63fa",
           "#FFA15A",
           "#19d3f3",
           "#FF6692",
           "#B6E880",
           "#FF97FF",
           "#FECB52"
          ],
          "font": {
           "color": "#2a3f5f"
          },
          "geo": {
           "bgcolor": "white",
           "lakecolor": "white",
           "landcolor": "#E5ECF6",
           "showlakes": true,
           "showland": true,
           "subunitcolor": "white"
          },
          "hoverlabel": {
           "align": "left"
          },
          "hovermode": "closest",
          "mapbox": {
           "style": "light"
          },
          "paper_bgcolor": "white",
          "plot_bgcolor": "#E5ECF6",
          "polar": {
           "angularaxis": {
            "gridcolor": "white",
            "linecolor": "white",
            "ticks": ""
           },
           "bgcolor": "#E5ECF6",
           "radialaxis": {
            "gridcolor": "white",
            "linecolor": "white",
            "ticks": ""
           }
          },
          "scene": {
           "xaxis": {
            "backgroundcolor": "#E5ECF6",
            "gridcolor": "white",
            "gridwidth": 2,
            "linecolor": "white",
            "showbackground": true,
            "ticks": "",
            "zerolinecolor": "white"
           },
           "yaxis": {
            "backgroundcolor": "#E5ECF6",
            "gridcolor": "white",
            "gridwidth": 2,
            "linecolor": "white",
            "showbackground": true,
            "ticks": "",
            "zerolinecolor": "white"
           },
           "zaxis": {
            "backgroundcolor": "#E5ECF6",
            "gridcolor": "white",
            "gridwidth": 2,
            "linecolor": "white",
            "showbackground": true,
            "ticks": "",
            "zerolinecolor": "white"
           }
          },
          "shapedefaults": {
           "line": {
            "color": "#2a3f5f"
           }
          },
          "ternary": {
           "aaxis": {
            "gridcolor": "white",
            "linecolor": "white",
            "ticks": ""
           },
           "baxis": {
            "gridcolor": "white",
            "linecolor": "white",
            "ticks": ""
           },
           "bgcolor": "#E5ECF6",
           "caxis": {
            "gridcolor": "white",
            "linecolor": "white",
            "ticks": ""
           }
          },
          "title": {
           "x": 0.05
          },
          "xaxis": {
           "automargin": true,
           "gridcolor": "white",
           "linecolor": "white",
           "ticks": "",
           "title": {
            "standoff": 15
           },
           "zerolinecolor": "white",
           "zerolinewidth": 2
          },
          "yaxis": {
           "automargin": true,
           "gridcolor": "white",
           "linecolor": "white",
           "ticks": "",
           "title": {
            "standoff": 15
           },
           "zerolinecolor": "white",
           "zerolinewidth": 2
          }
         }
        },
        "title": {
         "font": {
          "color": "#4D5663"
         },
         "text": "First Quant Figure"
        },
        "xaxis": {
         "anchor": "y2",
         "gridcolor": "#E1E5ED",
         "rangeselector": {
          "bgcolor": "rgba(150, 200, 250, 1)",
          "buttons": [
           {
            "count": 1,
            "label": "1m",
            "step": "month",
            "stepmode": "backward"
           },
           {
            "count": 1,
            "label": "1y",
            "step": "year",
            "stepmode": "backward"
           }
          ],
          "font": {
           "size": 13
          },
          "visible": false,
          "x": 0,
          "y": 0.9
         },
         "rangeslider": {
          "visible": false
         },
         "showgrid": true,
         "tickfont": {
          "color": "#4D5663"
         },
         "title": {
          "font": {
           "color": "#4D5663"
          },
          "text": ""
         },
         "zerolinecolor": "#E1E5ED"
        },
        "yaxis": {
         "gridcolor": "#E1E5ED",
         "showgrid": true,
         "showticklabels": false,
         "tickfont": {
          "color": "#4D5663"
         },
         "title": {
          "font": {
           "color": "#4D5663"
          },
          "text": ""
         },
         "zerolinecolor": "#E1E5ED"
        },
        "yaxis2": {
         "domain": [
          0.23,
          0.9
         ],
         "gridcolor": "#E1E5ED",
         "showgrid": true,
         "tickfont": {
          "color": "#4D5663"
         },
         "title": {
          "font": {
           "color": "#4D5663"
          },
          "text": ""
         },
         "zerolinecolor": "#E1E5ED"
        },
        "yaxis3": {
         "domain": [
          0,
          0.15
         ],
         "gridcolor": "#E1E5ED",
         "showgrid": true,
         "tickfont": {
          "color": "#4D5663"
         },
         "title": {
          "font": {
           "color": "#4D5663"
          },
          "text": ""
         },
         "zerolinecolor": "#E1E5ED"
        }
       }
      },
      "text/html": [
       "<div>                            <div id=\"a97008d6-2ca6-4b64-bc60-40d0a240b1c9\" class=\"plotly-graph-div\" style=\"height:525px; width:100%;\"></div>            <script type=\"text/javascript\">                require([\"plotly\"], function(Plotly) {                    window.PLOTLYENV=window.PLOTLYENV || {};\n",
       "                    window.PLOTLYENV.BASE_URL='https://plot.ly';                                    if (document.getElementById(\"a97008d6-2ca6-4b64-bc60-40d0a240b1c9\")) {                    Plotly.newPlot(                        \"a97008d6-2ca6-4b64-bc60-40d0a240b1c9\",                        [{\"legendgroup\": \"BOLL(Close,20)\", \"line\": {\"color\": \"rgba(55, 128, 191, 1.0)\", \"dash\": \"solid\", \"shape\": \"linear\", \"width\": 1.3}, \"mode\": \"lines\", \"name\": \"BOLL(Close,20)\", \"showlegend\": true, \"text\": \"\", \"type\": \"scatter\", \"x\": [\"2020-12-01\", \"2020-12-02\", \"2020-12-03\", \"2020-12-04\", \"2020-12-07\", \"2020-12-08\", \"2020-12-09\", \"2020-12-10\", \"2020-12-11\", \"2020-12-14\", \"2020-12-15\", \"2020-12-16\", \"2020-12-17\", \"2020-12-18\", \"2020-12-21\", \"2020-12-22\", \"2020-12-23\", \"2020-12-24\", \"2020-12-28\", \"2020-12-29\", \"2020-12-30\", \"2020-12-31\", \"2021-01-04\", \"2021-01-05\", \"2021-01-06\", \"2021-01-07\", \"2021-01-08\", \"2021-01-11\", \"2021-01-12\", \"2021-01-13\", \"2021-01-14\", \"2021-01-15\", \"2021-01-19\", \"2021-01-20\", \"2021-01-21\", \"2021-01-22\", \"2021-01-25\", \"2021-01-26\", \"2021-01-27\", \"2021-01-28\", \"2021-01-29\"], \"y\": [\"\", \"\", \"\", \"\", \"\", \"\", \"\", \"\", \"\", \"\", \"\", \"\", \"\", \"\", \"\", \"\", \"\", \"\", \"\", 16.33699998855591, 16.509999990463257, 16.62300000190735, 16.67949995994568, 16.703000020980834, 16.803500032424928, 16.860500001907347, 17.062000036239624, 17.35300006866455, 17.685000085830687, 18.619000053405763, 19.922000026702882, 21.004500007629396, 22.23100004196167, 23.405499982833863, 24.780499935150146, 27.058000087738037, 29.869000148773193, 36.26049995422363, 52.58650045394897, 61.29750080108643, 76.58450078964233], \"yaxis\": \"y2\"}, {\"legendgroup\": \"BOLL(Close,20)\", \"line\": {\"color\": \"rgba(55, 128, 191, 0.8999999999999999)\", \"dash\": \"solid\", \"shape\": \"linear\", \"width\": 1.3}, \"mode\": \"lines\", \"name\": \"UPPER(Close,20)\", \"showlegend\": false, \"text\": \"\", \"type\": \"scatter\", \"x\": [\"2020-12-01\", \"2020-12-02\", \"2020-12-03\", \"2020-12-04\", \"2020-12-07\", \"2020-12-08\", \"2020-12-09\", \"2020-12-10\", \"2020-12-11\", \"2020-12-14\", \"2020-12-15\", \"2020-12-16\", \"2020-12-17\", \"2020-12-18\", \"2020-12-21\", \"2020-12-22\", \"2020-12-23\", \"2020-12-24\", \"2020-12-28\", \"2020-12-29\", \"2020-12-30\", \"2020-12-31\", \"2021-01-04\", \"2021-01-05\", \"2021-01-06\", \"2021-01-07\", \"2021-01-08\", \"2021-01-11\", \"2021-01-12\", \"2021-01-13\", \"2021-01-14\", \"2021-01-15\", \"2021-01-19\", \"2021-01-20\", \"2021-01-21\", \"2021-01-22\", \"2021-01-25\", \"2021-01-26\", \"2021-01-27\", \"2021-01-28\", \"2021-01-29\"], \"y\": [\"\", \"\", \"\", \"\", \"\", \"\", \"\", \"\", \"\", \"\", \"\", \"\", \"\", \"\", \"\", \"\", \"\", \"\", \"\", 21.45282054271638, 21.781016597395684, 21.99624359837715, 22.054237612942206, 22.085900809893158, 22.23349928515767, 22.3203838662457, 22.318212415279984, 22.56767172560168, 22.655648429474407, 26.065125979853278, 31.709325016606655, 34.32119845878947, 37.5249794435135, 40.108028372777866, 43.19338793230327, 52.59137799535869, 63.49205589893401, 98.51404744212766, 204.57053574165604, 224.80217942243246, 276.62842435011476], \"yaxis\": \"y2\"}, {\"fill\": \"tonexty\", \"fillcolor\": \"rgba(55, 128, 191, 0.1)\", \"legendgroup\": \"BOLL(Close,20)\", \"line\": {\"color\": \"rgba(55, 128, 191, 0.7999999999999998)\", \"dash\": \"solid\", \"shape\": \"linear\", \"width\": 1.3}, \"mode\": \"lines\", \"name\": \"LOWER(Close,20)\", \"showlegend\": false, \"text\": \"\", \"type\": \"scatter\", \"x\": [\"2020-12-01\", \"2020-12-02\", \"2020-12-03\", \"2020-12-04\", \"2020-12-07\", \"2020-12-08\", \"2020-12-09\", \"2020-12-10\", \"2020-12-11\", \"2020-12-14\", \"2020-12-15\", \"2020-12-16\", \"2020-12-17\", \"2020-12-18\", \"2020-12-21\", \"2020-12-22\", \"2020-12-23\", \"2020-12-24\", \"2020-12-28\", \"2020-12-29\", \"2020-12-30\", \"2020-12-31\", \"2021-01-04\", \"2021-01-05\", \"2021-01-06\", \"2021-01-07\", \"2021-01-08\", \"2021-01-11\", \"2021-01-12\", \"2021-01-13\", \"2021-01-14\", \"2021-01-15\", \"2021-01-19\", \"2021-01-20\", \"2021-01-21\", \"2021-01-22\", \"2021-01-25\", \"2021-01-26\", \"2021-01-27\", \"2021-01-28\", \"2021-01-29\"], \"y\": [\"\", \"\", \"\", \"\", \"\", \"\", \"\", \"\", \"\", \"\", \"\", \"\", \"\", \"\", \"\", \"\", \"\", \"\", \"\", 11.221179434395436, 11.238983383530828, 11.249756405437552, 11.304762306949154, 11.320099232068511, 11.373500779692186, 11.400616137568996, 11.805787657199264, 12.138328411727418, 12.714351742186967, 11.17287412695825, 8.13467503679911, 7.687801556469326, 6.937020640409838, 6.702971592889863, 6.367611937997026, 1.5246221801173832, -3.7540556013876234, -25.993047533680404, -99.39753483375812, -102.20717782025962, -123.45942277083009], \"yaxis\": \"y2\"}, {\"marker\": {\"color\": [\"#808080\", \"#17BECF\", \"#808080\", \"#17BECF\", \"#808080\", \"#17BECF\", \"#808080\", \"#17BECF\", \"#808080\", \"#808080\", \"#17BECF\", \"#808080\", \"#17BECF\", \"#17BECF\", \"#808080\", \"#17BECF\", \"#17BECF\", \"#808080\", \"#17BECF\", \"#808080\", \"#808080\", \"#808080\", \"#808080\", \"#17BECF\", \"#17BECF\", \"#808080\", \"#808080\", \"#17BECF\", \"#17BECF\", \"#17BECF\", \"#17BECF\", \"#808080\", \"#17BECF\", \"#808080\", \"#17BECF\", \"#17BECF\", \"#17BECF\", \"#17BECF\", \"#17BECF\", \"#808080\", \"#17BECF\"], \"line\": {\"color\": [\"#808080\", \"#17BECF\", \"#808080\", \"#17BECF\", \"#808080\", \"#17BECF\", \"#808080\", \"#17BECF\", \"#808080\", \"#808080\", \"#17BECF\", \"#808080\", \"#17BECF\", \"#17BECF\", \"#808080\", \"#17BECF\", \"#17BECF\", \"#808080\", \"#17BECF\", \"#808080\", \"#808080\", \"#808080\", \"#808080\", \"#17BECF\", \"#17BECF\", \"#808080\", \"#808080\", \"#17BECF\", \"#17BECF\", \"#17BECF\", \"#17BECF\", \"#808080\", \"#17BECF\", \"#808080\", \"#17BECF\", \"#17BECF\", \"#17BECF\", \"#17BECF\", \"#17BECF\", \"#808080\", \"#17BECF\"], \"width\": 1}}, \"name\": \"Volume\", \"opacity\": 0.8, \"orientation\": \"v\", \"text\": \"\", \"type\": \"bar\", \"x\": [\"2020-12-01\", \"2020-12-02\", \"2020-12-03\", \"2020-12-04\", \"2020-12-07\", \"2020-12-08\", \"2020-12-09\", \"2020-12-10\", \"2020-12-11\", \"2020-12-14\", \"2020-12-15\", \"2020-12-16\", \"2020-12-17\", \"2020-12-18\", \"2020-12-21\", \"2020-12-22\", \"2020-12-23\", \"2020-12-24\", \"2020-12-28\", \"2020-12-29\", \"2020-12-30\", \"2020-12-31\", \"2021-01-04\", \"2021-01-05\", \"2021-01-06\", \"2021-01-07\", \"2021-01-08\", \"2021-01-11\", \"2021-01-12\", \"2021-01-13\", \"2021-01-14\", \"2021-01-15\", \"2021-01-19\", \"2021-01-20\", \"2021-01-21\", \"2021-01-22\", \"2021-01-25\", \"2021-01-26\", \"2021-01-27\", \"2021-01-28\", \"2021-01-29\"], \"y\": [12666000, 7883400, 6295000, 8972700, 7386300, 16120200, 24357900, 7558900, 7496900, 10007100, 8192900, 5865100, 8194900, 16618800, 9876100, 30652700, 25830300, 6262200, 8965900, 9241400, 5934400, 6918900, 10022500, 4961500, 6056200, 6129300, 6464500, 14927600, 7060700, 144501700, 93717400, 46752200, 74721900, 33471800, 57079800, 196784300, 177874000, 178588000, 93396700, 58815800, 50259200], \"yaxis\": \"y3\"}, {\"close\": [15.800000190734863, 16.579999923706055, 16.1200008392334, 16.899999618530273, 16.350000381469727, 16.940000534057617, 13.65999984741211, 14.119999885559082, 13.3100004196167, 12.720000267028809, 13.850000381469727, 13.850000381469727, 14.829999923706055, 15.630000114440918, 15.529999732971191, 19.459999084472656, 20.56999969482422, 20.149999618530273, 20.989999771118164, 19.3799991607666, 19.260000228881836, 18.84000015258789, 17.25, 17.3700008392334, 18.360000610351562, 18.079999923706055, 17.690000534057617, 19.940000534057617, 19.950000762939453, 31.399999618530273, 39.90999984741211, 35.5, 39.36000061035156, 39.119998931884766, 43.029998779296875, 65.01000213623047, 76.79000091552734, 147.97999572753906, 347.510009765625, 193.60000610351562, 325.0], \"decreasing\": {\"line\": {\"color\": \"#808080\"}}, \"high\": [17.399999618530273, 16.68000030517578, 16.639999389648438, 17.290000915527344, 17.5, 17.209999084472656, 14.729999542236328, 14.40999984741211, 14.0, 13.430000305175781, 14.020000457763672, 14.3100004196167, 14.979999542236328, 16.299999237060547, 16.350000381469727, 20.040000915527344, 22.350000381469727, 21.479999542236328, 21.969999313354492, 21.06999969482422, 20.0, 19.799999237060547, 19.100000381469727, 18.079999923706055, 18.979999542236328, 19.450000762939453, 18.299999237060547, 20.649999618530273, 20.399999618530273, 38.650001525878906, 43.060001373291016, 40.75, 45.52000045776367, 41.189998626708984, 44.75, 76.76000213623047, 159.17999267578125, 150.0, 380.0, 483.0, 413.9800109863281], \"increasing\": {\"line\": {\"color\": \"#17BECF\"}}, \"low\": [15.760000228881836, 15.380000114440918, 15.869999885559082, 16.260000228881836, 16.219999313354492, 15.930000305175781, 13.229999542236328, 13.050000190734863, 13.020000457763672, 12.140000343322754, 12.479999542236328, 13.579999923706055, 13.59000015258789, 15.180000305175781, 15.279999732971191, 16.149999618530273, 19.1299991607666, 19.950000762939453, 20.350000381469727, 18.559999465942383, 18.850000381469727, 18.799999237060547, 17.149999618530273, 17.229999542236328, 17.329999923706055, 18.020000457763672, 17.079999923706055, 19.010000228881836, 19.31999969482422, 20.030000686645508, 33.04999923706055, 34.0099983215332, 36.63999938964844, 36.060001373291016, 37.0, 42.31999969482422, 61.130001068115234, 80.19999694824219, 249.0, 112.25, 250.0], \"name\": \"GS\", \"open\": [17.110000610351562, 15.699999809265137, 16.479999542236328, 16.299999237060547, 17.0, 16.3700008392334, 13.920000076293945, 13.119999885559082, 13.90999984741211, 13.34000015258789, 12.779999732971191, 13.960000038146973, 13.960000038146973, 15.779999732971191, 15.8100004196167, 16.219999313354492, 20.170000076293945, 21.010000228881836, 21.309999465942383, 20.81999969482422, 19.3799991607666, 19.25, 19.0, 17.350000381469727, 17.34000015258789, 18.469999313354492, 18.18000030517578, 19.40999984741211, 19.959999084472656, 20.420000076293945, 38.09000015258789, 38.4900016784668, 41.54999923706055, 37.369998931884766, 39.22999954223633, 42.59000015258789, 96.7300033569336, 88.55999755859375, 354.8299865722656, 265.0, 379.7099914550781], \"showlegend\": true, \"type\": \"candlestick\", \"x\": [\"2020-12-01\", \"2020-12-02\", \"2020-12-03\", \"2020-12-04\", \"2020-12-07\", \"2020-12-08\", \"2020-12-09\", \"2020-12-10\", \"2020-12-11\", \"2020-12-14\", \"2020-12-15\", \"2020-12-16\", \"2020-12-17\", \"2020-12-18\", \"2020-12-21\", \"2020-12-22\", \"2020-12-23\", \"2020-12-24\", \"2020-12-28\", \"2020-12-29\", \"2020-12-30\", \"2020-12-31\", \"2021-01-04\", \"2021-01-05\", \"2021-01-06\", \"2021-01-07\", \"2021-01-08\", \"2021-01-11\", \"2021-01-12\", \"2021-01-13\", \"2021-01-14\", \"2021-01-15\", \"2021-01-19\", \"2021-01-20\", \"2021-01-21\", \"2021-01-22\", \"2021-01-25\", \"2021-01-26\", \"2021-01-27\", \"2021-01-28\", \"2021-01-29\"], \"yaxis\": \"y2\"}],                        {\"legend\": {\"bgcolor\": \"#F5F6F9\", \"font\": {\"color\": \"#4D5663\"}, \"orientation\": \"h\", \"x\": 0.3, \"y\": 0.95, \"yanchor\": \"bottom\"}, \"margin\": {\"b\": 30, \"l\": 30, \"r\": 30, \"t\": 30}, \"paper_bgcolor\": \"#F5F6F9\", \"plot_bgcolor\": \"#F5F6F9\", \"showlegend\": true, \"template\": {\"data\": {\"bar\": [{\"error_x\": {\"color\": \"#2a3f5f\"}, \"error_y\": {\"color\": \"#2a3f5f\"}, \"marker\": {\"line\": {\"color\": \"#E5ECF6\", \"width\": 0.5}}, \"type\": \"bar\"}], \"barpolar\": [{\"marker\": {\"line\": {\"color\": \"#E5ECF6\", \"width\": 0.5}}, \"type\": \"barpolar\"}], \"carpet\": [{\"aaxis\": {\"endlinecolor\": \"#2a3f5f\", \"gridcolor\": \"white\", \"linecolor\": \"white\", \"minorgridcolor\": \"white\", \"startlinecolor\": \"#2a3f5f\"}, \"baxis\": {\"endlinecolor\": \"#2a3f5f\", \"gridcolor\": \"white\", \"linecolor\": \"white\", \"minorgridcolor\": \"white\", \"startlinecolor\": \"#2a3f5f\"}, \"type\": \"carpet\"}], \"choropleth\": [{\"colorbar\": {\"outlinewidth\": 0, \"ticks\": \"\"}, \"type\": \"choropleth\"}], \"contour\": [{\"colorbar\": {\"outlinewidth\": 0, \"ticks\": \"\"}, \"colorscale\": [[0.0, \"#0d0887\"], [0.1111111111111111, \"#46039f\"], [0.2222222222222222, \"#7201a8\"], [0.3333333333333333, \"#9c179e\"], [0.4444444444444444, \"#bd3786\"], [0.5555555555555556, \"#d8576b\"], [0.6666666666666666, \"#ed7953\"], [0.7777777777777778, \"#fb9f3a\"], [0.8888888888888888, \"#fdca26\"], [1.0, \"#f0f921\"]], \"type\": \"contour\"}], \"contourcarpet\": [{\"colorbar\": {\"outlinewidth\": 0, \"ticks\": \"\"}, \"type\": \"contourcarpet\"}], \"heatmap\": [{\"colorbar\": {\"outlinewidth\": 0, \"ticks\": \"\"}, \"colorscale\": [[0.0, \"#0d0887\"], [0.1111111111111111, \"#46039f\"], [0.2222222222222222, \"#7201a8\"], [0.3333333333333333, \"#9c179e\"], [0.4444444444444444, \"#bd3786\"], [0.5555555555555556, \"#d8576b\"], [0.6666666666666666, \"#ed7953\"], [0.7777777777777778, \"#fb9f3a\"], [0.8888888888888888, \"#fdca26\"], [1.0, \"#f0f921\"]], \"type\": \"heatmap\"}], \"heatmapgl\": [{\"colorbar\": {\"outlinewidth\": 0, \"ticks\": \"\"}, \"colorscale\": [[0.0, \"#0d0887\"], [0.1111111111111111, \"#46039f\"], [0.2222222222222222, \"#7201a8\"], [0.3333333333333333, \"#9c179e\"], [0.4444444444444444, \"#bd3786\"], [0.5555555555555556, \"#d8576b\"], [0.6666666666666666, \"#ed7953\"], [0.7777777777777778, \"#fb9f3a\"], [0.8888888888888888, \"#fdca26\"], [1.0, \"#f0f921\"]], \"type\": \"heatmapgl\"}], \"histogram\": [{\"marker\": {\"colorbar\": {\"outlinewidth\": 0, \"ticks\": \"\"}}, \"type\": \"histogram\"}], \"histogram2d\": [{\"colorbar\": {\"outlinewidth\": 0, \"ticks\": \"\"}, \"colorscale\": [[0.0, \"#0d0887\"], [0.1111111111111111, \"#46039f\"], [0.2222222222222222, \"#7201a8\"], [0.3333333333333333, \"#9c179e\"], [0.4444444444444444, \"#bd3786\"], [0.5555555555555556, \"#d8576b\"], [0.6666666666666666, \"#ed7953\"], [0.7777777777777778, \"#fb9f3a\"], [0.8888888888888888, \"#fdca26\"], [1.0, \"#f0f921\"]], \"type\": \"histogram2d\"}], \"histogram2dcontour\": [{\"colorbar\": {\"outlinewidth\": 0, \"ticks\": \"\"}, \"colorscale\": [[0.0, \"#0d0887\"], [0.1111111111111111, \"#46039f\"], [0.2222222222222222, \"#7201a8\"], [0.3333333333333333, \"#9c179e\"], [0.4444444444444444, \"#bd3786\"], [0.5555555555555556, \"#d8576b\"], [0.6666666666666666, \"#ed7953\"], [0.7777777777777778, \"#fb9f3a\"], [0.8888888888888888, \"#fdca26\"], [1.0, \"#f0f921\"]], \"type\": \"histogram2dcontour\"}], \"mesh3d\": [{\"colorbar\": {\"outlinewidth\": 0, \"ticks\": \"\"}, \"type\": \"mesh3d\"}], \"parcoords\": [{\"line\": {\"colorbar\": {\"outlinewidth\": 0, \"ticks\": \"\"}}, \"type\": \"parcoords\"}], \"pie\": [{\"automargin\": true, \"type\": \"pie\"}], \"scatter\": [{\"marker\": {\"colorbar\": {\"outlinewidth\": 0, \"ticks\": \"\"}}, \"type\": \"scatter\"}], \"scatter3d\": [{\"line\": {\"colorbar\": {\"outlinewidth\": 0, \"ticks\": \"\"}}, \"marker\": {\"colorbar\": {\"outlinewidth\": 0, \"ticks\": \"\"}}, \"type\": \"scatter3d\"}], \"scattercarpet\": [{\"marker\": {\"colorbar\": {\"outlinewidth\": 0, \"ticks\": \"\"}}, \"type\": \"scattercarpet\"}], \"scattergeo\": [{\"marker\": {\"colorbar\": {\"outlinewidth\": 0, \"ticks\": \"\"}}, \"type\": \"scattergeo\"}], \"scattergl\": [{\"marker\": {\"colorbar\": {\"outlinewidth\": 0, \"ticks\": \"\"}}, \"type\": \"scattergl\"}], \"scattermapbox\": [{\"marker\": {\"colorbar\": {\"outlinewidth\": 0, \"ticks\": \"\"}}, \"type\": \"scattermapbox\"}], \"scatterpolar\": [{\"marker\": {\"colorbar\": {\"outlinewidth\": 0, \"ticks\": \"\"}}, \"type\": \"scatterpolar\"}], \"scatterpolargl\": [{\"marker\": {\"colorbar\": {\"outlinewidth\": 0, \"ticks\": \"\"}}, \"type\": \"scatterpolargl\"}], \"scatterternary\": [{\"marker\": {\"colorbar\": {\"outlinewidth\": 0, \"ticks\": \"\"}}, \"type\": \"scatterternary\"}], \"surface\": [{\"colorbar\": {\"outlinewidth\": 0, \"ticks\": \"\"}, \"colorscale\": [[0.0, \"#0d0887\"], [0.1111111111111111, \"#46039f\"], [0.2222222222222222, \"#7201a8\"], [0.3333333333333333, \"#9c179e\"], [0.4444444444444444, \"#bd3786\"], [0.5555555555555556, \"#d8576b\"], [0.6666666666666666, \"#ed7953\"], [0.7777777777777778, \"#fb9f3a\"], [0.8888888888888888, \"#fdca26\"], [1.0, \"#f0f921\"]], \"type\": \"surface\"}], \"table\": [{\"cells\": {\"fill\": {\"color\": \"#EBF0F8\"}, \"line\": {\"color\": \"white\"}}, \"header\": {\"fill\": {\"color\": \"#C8D4E3\"}, \"line\": {\"color\": \"white\"}}, \"type\": \"table\"}]}, \"layout\": {\"annotationdefaults\": {\"arrowcolor\": \"#2a3f5f\", \"arrowhead\": 0, \"arrowwidth\": 1}, \"autotypenumbers\": \"strict\", \"coloraxis\": {\"colorbar\": {\"outlinewidth\": 0, \"ticks\": \"\"}}, \"colorscale\": {\"diverging\": [[0, \"#8e0152\"], [0.1, \"#c51b7d\"], [0.2, \"#de77ae\"], [0.3, \"#f1b6da\"], [0.4, \"#fde0ef\"], [0.5, \"#f7f7f7\"], [0.6, \"#e6f5d0\"], [0.7, \"#b8e186\"], [0.8, \"#7fbc41\"], [0.9, \"#4d9221\"], [1, \"#276419\"]], \"sequential\": [[0.0, \"#0d0887\"], [0.1111111111111111, \"#46039f\"], [0.2222222222222222, \"#7201a8\"], [0.3333333333333333, \"#9c179e\"], [0.4444444444444444, \"#bd3786\"], [0.5555555555555556, \"#d8576b\"], [0.6666666666666666, \"#ed7953\"], [0.7777777777777778, \"#fb9f3a\"], [0.8888888888888888, \"#fdca26\"], [1.0, \"#f0f921\"]], \"sequentialminus\": [[0.0, \"#0d0887\"], [0.1111111111111111, \"#46039f\"], [0.2222222222222222, \"#7201a8\"], [0.3333333333333333, \"#9c179e\"], [0.4444444444444444, \"#bd3786\"], [0.5555555555555556, \"#d8576b\"], [0.6666666666666666, \"#ed7953\"], [0.7777777777777778, \"#fb9f3a\"], [0.8888888888888888, \"#fdca26\"], [1.0, \"#f0f921\"]]}, \"colorway\": [\"#636efa\", \"#EF553B\", \"#00cc96\", \"#ab63fa\", \"#FFA15A\", \"#19d3f3\", \"#FF6692\", \"#B6E880\", \"#FF97FF\", \"#FECB52\"], \"font\": {\"color\": \"#2a3f5f\"}, \"geo\": {\"bgcolor\": \"white\", \"lakecolor\": \"white\", \"landcolor\": \"#E5ECF6\", \"showlakes\": true, \"showland\": true, \"subunitcolor\": \"white\"}, \"hoverlabel\": {\"align\": \"left\"}, \"hovermode\": \"closest\", \"mapbox\": {\"style\": \"light\"}, \"paper_bgcolor\": \"white\", \"plot_bgcolor\": \"#E5ECF6\", \"polar\": {\"angularaxis\": {\"gridcolor\": \"white\", \"linecolor\": \"white\", \"ticks\": \"\"}, \"bgcolor\": \"#E5ECF6\", \"radialaxis\": {\"gridcolor\": \"white\", \"linecolor\": \"white\", \"ticks\": \"\"}}, \"scene\": {\"xaxis\": {\"backgroundcolor\": \"#E5ECF6\", \"gridcolor\": \"white\", \"gridwidth\": 2, \"linecolor\": \"white\", \"showbackground\": true, \"ticks\": \"\", \"zerolinecolor\": \"white\"}, \"yaxis\": {\"backgroundcolor\": \"#E5ECF6\", \"gridcolor\": \"white\", \"gridwidth\": 2, \"linecolor\": \"white\", \"showbackground\": true, \"ticks\": \"\", \"zerolinecolor\": \"white\"}, \"zaxis\": {\"backgroundcolor\": \"#E5ECF6\", \"gridcolor\": \"white\", \"gridwidth\": 2, \"linecolor\": \"white\", \"showbackground\": true, \"ticks\": \"\", \"zerolinecolor\": \"white\"}}, \"shapedefaults\": {\"line\": {\"color\": \"#2a3f5f\"}}, \"ternary\": {\"aaxis\": {\"gridcolor\": \"white\", \"linecolor\": \"white\", \"ticks\": \"\"}, \"baxis\": {\"gridcolor\": \"white\", \"linecolor\": \"white\", \"ticks\": \"\"}, \"bgcolor\": \"#E5ECF6\", \"caxis\": {\"gridcolor\": \"white\", \"linecolor\": \"white\", \"ticks\": \"\"}}, \"title\": {\"x\": 0.05}, \"xaxis\": {\"automargin\": true, \"gridcolor\": \"white\", \"linecolor\": \"white\", \"ticks\": \"\", \"title\": {\"standoff\": 15}, \"zerolinecolor\": \"white\", \"zerolinewidth\": 2}, \"yaxis\": {\"automargin\": true, \"gridcolor\": \"white\", \"linecolor\": \"white\", \"ticks\": \"\", \"title\": {\"standoff\": 15}, \"zerolinecolor\": \"white\", \"zerolinewidth\": 2}}}, \"title\": {\"font\": {\"color\": \"#4D5663\"}, \"text\": \"First Quant Figure\"}, \"xaxis\": {\"anchor\": \"y2\", \"gridcolor\": \"#E1E5ED\", \"rangeselector\": {\"bgcolor\": \"rgba(150, 200, 250, 1)\", \"buttons\": [{\"count\": 1, \"label\": \"1m\", \"step\": \"month\", \"stepmode\": \"backward\"}, {\"count\": 1, \"label\": \"1y\", \"step\": \"year\", \"stepmode\": \"backward\"}], \"font\": {\"size\": 13}, \"visible\": false, \"x\": 0, \"y\": 0.9}, \"rangeslider\": {\"visible\": false}, \"showgrid\": true, \"tickfont\": {\"color\": \"#4D5663\"}, \"title\": {\"font\": {\"color\": \"#4D5663\"}, \"text\": \"\"}, \"zerolinecolor\": \"#E1E5ED\"}, \"yaxis\": {\"gridcolor\": \"#E1E5ED\", \"showgrid\": true, \"showticklabels\": false, \"tickfont\": {\"color\": \"#4D5663\"}, \"title\": {\"font\": {\"color\": \"#4D5663\"}, \"text\": \"\"}, \"zerolinecolor\": \"#E1E5ED\"}, \"yaxis2\": {\"domain\": [0.23, 0.9], \"gridcolor\": \"#E1E5ED\", \"showgrid\": true, \"tickfont\": {\"color\": \"#4D5663\"}, \"title\": {\"font\": {\"color\": \"#4D5663\"}, \"text\": \"\"}, \"zerolinecolor\": \"#E1E5ED\"}, \"yaxis3\": {\"domain\": [0.0, 0.15], \"gridcolor\": \"#E1E5ED\", \"showgrid\": true, \"tickfont\": {\"color\": \"#4D5663\"}, \"title\": {\"font\": {\"color\": \"#4D5663\"}, \"text\": \"\"}, \"zerolinecolor\": \"#E1E5ED\"}},                        {\"showLink\": true, \"linkText\": \"Export to plot.ly\", \"plotlyServerURL\": \"https://plot.ly\", \"responsive\": true}                    ).then(function(){\n",
       "                            \n",
       "var gd = document.getElementById('a97008d6-2ca6-4b64-bc60-40d0a240b1c9');\n",
       "var x = new MutationObserver(function (mutations, observer) {{\n",
       "        var display = window.getComputedStyle(gd).display;\n",
       "        if (!display || display === 'none') {{\n",
       "            console.log([gd, 'removed!']);\n",
       "            Plotly.purge(gd);\n",
       "            observer.disconnect();\n",
       "        }}\n",
       "}});\n",
       "\n",
       "// Listen for the removal of the full notebook cells\n",
       "var notebookContainer = gd.closest('#notebook-container');\n",
       "if (notebookContainer) {{\n",
       "    x.observe(notebookContainer, {childList: true});\n",
       "}}\n",
       "\n",
       "// Listen for the clearing of the current output cell\n",
       "var outputEl = gd.closest('.output');\n",
       "if (outputEl) {{\n",
       "    x.observe(outputEl, {childList: true});\n",
       "}}\n",
       "\n",
       "                        })                };                });            </script>        </div>"
      ]
     },
     "metadata": {},
     "output_type": "display_data"
    }
   ],
   "source": [
    "qf=cf.QuantFig(gme,title='First Quant Figure',legend='top',name='GS')\n",
    "qf.add_bollinger_bands()\n",
    "qf.add_volume()\n",
    "qf.iplot()"
   ]
  },
  {
   "cell_type": "code",
   "execution_count": 158,
   "metadata": {},
   "outputs": [
    {
     "data": {
      "application/vnd.plotly.v1+json": {
       "config": {
        "linkText": "Export to plot.ly",
        "plotlyServerURL": "https://plot.ly",
        "showLink": true
       },
       "data": [
        {
         "line": {
          "color": "rgba(55, 128, 191, 1.0)",
          "dash": "solid",
          "shape": "linear",
          "width": 1.3
         },
         "mode": "lines",
         "name": " ADX(14)",
         "text": "",
         "type": "scatter",
         "x": [
          "2020-12-01",
          "2020-12-02",
          "2020-12-03",
          "2020-12-04",
          "2020-12-07",
          "2020-12-08",
          "2020-12-09",
          "2020-12-10",
          "2020-12-11",
          "2020-12-14",
          "2020-12-15",
          "2020-12-16",
          "2020-12-17",
          "2020-12-18",
          "2020-12-21",
          "2020-12-22",
          "2020-12-23",
          "2020-12-24",
          "2020-12-28",
          "2020-12-29",
          "2020-12-30",
          "2020-12-31",
          "2021-01-04",
          "2021-01-05",
          "2021-01-06",
          "2021-01-07",
          "2021-01-08",
          "2021-01-11",
          "2021-01-12",
          "2021-01-13",
          "2021-01-14",
          "2021-01-15",
          "2021-01-19",
          "2021-01-20",
          "2021-01-21",
          "2021-01-22",
          "2021-01-25",
          "2021-01-26",
          "2021-01-27",
          "2021-01-28",
          "2021-01-29"
         ],
         "y": [
          "",
          "",
          "",
          "",
          "",
          "",
          "",
          "",
          "",
          "",
          "",
          "",
          "",
          "",
          "",
          "",
          "",
          "",
          "",
          "",
          "",
          "",
          "",
          "",
          "",
          "",
          "",
          20.86442275711459,
          21.080720320670697,
          24.70506357497246,
          28.353932894591566,
          31.742168691380737,
          35.1479914119938,
          38.063470642818075,
          40.96474912627571,
          44.454517810791394,
          48.12517991836528,
          51.53365187539818,
          54.89368676520504,
          53.81402735428503,
          52.81148647271645
         ],
         "yaxis": "y3"
        },
        {
         "legendgroup": " CCI(14)",
         "line": {
          "color": "rgba(55, 128, 191, 1.0)",
          "dash": "solid",
          "shape": "linear",
          "width": 1.3
         },
         "mode": "lines",
         "name": " CCI(14)",
         "showlegend": true,
         "text": "",
         "type": "scatter",
         "x": [
          "2020-12-01",
          "2020-12-02",
          "2020-12-03",
          "2020-12-04",
          "2020-12-07",
          "2020-12-08",
          "2020-12-09",
          "2020-12-10",
          "2020-12-11",
          "2020-12-14",
          "2020-12-15",
          "2020-12-16",
          "2020-12-17",
          "2020-12-18",
          "2020-12-21",
          "2020-12-22",
          "2020-12-23",
          "2020-12-24",
          "2020-12-28",
          "2020-12-29",
          "2020-12-30",
          "2020-12-31",
          "2021-01-04",
          "2021-01-05",
          "2021-01-06",
          "2021-01-07",
          "2021-01-08",
          "2021-01-11",
          "2021-01-12",
          "2021-01-13",
          "2021-01-14",
          "2021-01-15",
          "2021-01-19",
          "2021-01-20",
          "2021-01-21",
          "2021-01-22",
          "2021-01-25",
          "2021-01-26",
          "2021-01-27",
          "2021-01-28",
          "2021-01-29"
         ],
         "y": [
          "",
          "",
          "",
          "",
          "",
          "",
          "",
          "",
          "",
          "",
          "",
          "",
          "",
          33.30389511493191,
          37.43692227556493,
          153.77317563079953,
          193.83470356755365,
          154.62269318256463,
          136.30525268671474,
          82.72121489436942,
          63.418154361823134,
          49.7488072680207,
          12.473120718522276,
          -4.033846099084965,
          6.809476125639504,
          6.749417974274668,
          -47.09400852201286,
          56.015310048884146,
          48.22173924346043,
          379.8323840246583,
          310.59061029137723,
          175.18117538159197,
          153.70405253614825,
          107.95308081532258,
          105.30471079955576,
          186.26418316295928,
          275.4194926674619,
          246.79059216643657,
          342.35137798264054,
          174.27666988400432,
          167.9840391210549
         ],
         "yaxis": "y4"
        },
        {
         "legendgroup": " CCI(14)",
         "line": {
          "color": "grey",
          "width": 1
         },
         "mode": "lines",
         "name": "",
         "showlegend": true,
         "text": "",
         "type": "scatter",
         "x": [
          "2020-12-01",
          "2020-12-02",
          "2020-12-03",
          "2020-12-04",
          "2020-12-07",
          "2020-12-08",
          "2020-12-09",
          "2020-12-10",
          "2020-12-11",
          "2020-12-14",
          "2020-12-15",
          "2020-12-16",
          "2020-12-17",
          "2020-12-18",
          "2020-12-21",
          "2020-12-22",
          "2020-12-23",
          "2020-12-24",
          "2020-12-28",
          "2020-12-29",
          "2020-12-30",
          "2020-12-31",
          "2021-01-04",
          "2021-01-05",
          "2021-01-06",
          "2021-01-07",
          "2021-01-08",
          "2021-01-11",
          "2021-01-12",
          "2021-01-13",
          "2021-01-14",
          "2021-01-15",
          "2021-01-19",
          "2021-01-20",
          "2021-01-21",
          "2021-01-22",
          "2021-01-25",
          "2021-01-26",
          "2021-01-27",
          "2021-01-28",
          "2021-01-29"
         ],
         "y": [
          -100,
          -100,
          -100,
          -100,
          -100,
          -100,
          -100,
          -100,
          -100,
          -100,
          -100,
          -100,
          -100,
          -100,
          -100,
          -100,
          -100,
          -100,
          -100,
          -100,
          -100,
          -100,
          -100,
          -100,
          -100,
          -100,
          -100,
          -100,
          -100,
          -100,
          -100,
          -100,
          -100,
          -100,
          -100,
          -100,
          -100,
          -100,
          -100,
          -100,
          -100
         ],
         "yaxis": "y4"
        },
        {
         "legendgroup": " CCI(14)",
         "line": {
          "color": "#17BECF",
          "width": 1
         },
         "mode": "lines",
         "name": "",
         "showlegend": true,
         "text": "",
         "type": "scatter",
         "x": [
          "2020-12-01",
          "2020-12-02",
          "2020-12-03",
          "2020-12-04",
          "2020-12-07",
          "2020-12-08",
          "2020-12-09",
          "2020-12-10",
          "2020-12-11",
          "2020-12-14",
          "2020-12-15",
          "2020-12-16",
          "2020-12-17",
          "2020-12-18",
          "2020-12-21",
          "2020-12-22",
          "2020-12-23",
          "2020-12-24",
          "2020-12-28",
          "2020-12-29",
          "2020-12-30",
          "2020-12-31",
          "2021-01-04",
          "2021-01-05",
          "2021-01-06",
          "2021-01-07",
          "2021-01-08",
          "2021-01-11",
          "2021-01-12",
          "2021-01-13",
          "2021-01-14",
          "2021-01-15",
          "2021-01-19",
          "2021-01-20",
          "2021-01-21",
          "2021-01-22",
          "2021-01-25",
          "2021-01-26",
          "2021-01-27",
          "2021-01-28",
          "2021-01-29"
         ],
         "y": [
          100,
          100,
          100,
          100,
          100,
          100,
          100,
          100,
          100,
          100,
          100,
          100,
          100,
          100,
          100,
          100,
          100,
          100,
          100,
          100,
          100,
          100,
          100,
          100,
          100,
          100,
          100,
          100,
          100,
          100,
          100,
          100,
          100,
          100,
          100,
          100,
          100,
          100,
          100,
          100,
          100
         ],
         "yaxis": "y4"
        },
        {
         "line": {
          "color": "rgba(55, 128, 191, 1.0)",
          "dash": "solid",
          "shape": "linear",
          "width": 1.3
         },
         "mode": "lines",
         "name": "ADX(14)",
         "text": "",
         "type": "scatter",
         "x": [
          "2020-12-01",
          "2020-12-02",
          "2020-12-03",
          "2020-12-04",
          "2020-12-07",
          "2020-12-08",
          "2020-12-09",
          "2020-12-10",
          "2020-12-11",
          "2020-12-14",
          "2020-12-15",
          "2020-12-16",
          "2020-12-17",
          "2020-12-18",
          "2020-12-21",
          "2020-12-22",
          "2020-12-23",
          "2020-12-24",
          "2020-12-28",
          "2020-12-29",
          "2020-12-30",
          "2020-12-31",
          "2021-01-04",
          "2021-01-05",
          "2021-01-06",
          "2021-01-07",
          "2021-01-08",
          "2021-01-11",
          "2021-01-12",
          "2021-01-13",
          "2021-01-14",
          "2021-01-15",
          "2021-01-19",
          "2021-01-20",
          "2021-01-21",
          "2021-01-22",
          "2021-01-25",
          "2021-01-26",
          "2021-01-27",
          "2021-01-28",
          "2021-01-29"
         ],
         "y": [
          "",
          "",
          "",
          "",
          "",
          "",
          "",
          "",
          "",
          "",
          "",
          "",
          "",
          "",
          "",
          "",
          "",
          "",
          "",
          "",
          "",
          "",
          "",
          "",
          "",
          "",
          "",
          20.86442275711459,
          21.080720320670697,
          24.70506357497246,
          28.353932894591566,
          31.742168691380737,
          35.1479914119938,
          38.063470642818075,
          40.96474912627571,
          44.454517810791394,
          48.12517991836528,
          51.53365187539818,
          54.89368676520504,
          53.81402735428503,
          52.81148647271645
         ],
         "yaxis": "y5"
        },
        {
         "line": {
          "color": "rgba(0, 128, 0, 1.0)",
          "dash": "solid",
          "shape": "linear",
          "width": 1.3
         },
         "mode": "lines",
         "name": "DI+(14)",
         "text": "",
         "type": "scatter",
         "x": [
          "2020-12-01",
          "2020-12-02",
          "2020-12-03",
          "2020-12-04",
          "2020-12-07",
          "2020-12-08",
          "2020-12-09",
          "2020-12-10",
          "2020-12-11",
          "2020-12-14",
          "2020-12-15",
          "2020-12-16",
          "2020-12-17",
          "2020-12-18",
          "2020-12-21",
          "2020-12-22",
          "2020-12-23",
          "2020-12-24",
          "2020-12-28",
          "2020-12-29",
          "2020-12-30",
          "2020-12-31",
          "2021-01-04",
          "2021-01-05",
          "2021-01-06",
          "2021-01-07",
          "2021-01-08",
          "2021-01-11",
          "2021-01-12",
          "2021-01-13",
          "2021-01-14",
          "2021-01-15",
          "2021-01-19",
          "2021-01-20",
          "2021-01-21",
          "2021-01-22",
          "2021-01-25",
          "2021-01-26",
          "2021-01-27",
          "2021-01-28",
          "2021-01-29"
         ],
         "y": [
          "",
          "",
          "",
          "",
          "",
          "",
          "",
          "",
          "",
          "",
          "",
          "",
          "",
          "",
          19.42446392207432,
          31.88662880108408,
          37.192131448160204,
          34.82009628130393,
          34.223623252714944,
          30.771666752581066,
          29.312833200324626,
          28.06678627639628,
          25.76664778219008,
          24.812108103531347,
          26.949255952567928,
          27.321305180077168,
          25.829367637496468,
          32.51745967683498,
          30.996657927008567,
          62.019911432457306,
          56.25411536075101,
          48.98788628340338,
          48.7508777374147,
          44.542443126764745,
          44.71399768351444,
          62.59850239551085,
          74.01631390892318,
          51.83917093818428,
          75.74880991005173,
          40.50639075207616,
          31.21090693889115
         ],
         "yaxis": "y5"
        },
        {
         "line": {
          "color": "rgba(219, 64, 82, 1.0)",
          "dash": "solid",
          "shape": "linear",
          "width": 1.3
         },
         "mode": "lines",
         "name": "DI-(14)",
         "text": "",
         "type": "scatter",
         "x": [
          "2020-12-01",
          "2020-12-02",
          "2020-12-03",
          "2020-12-04",
          "2020-12-07",
          "2020-12-08",
          "2020-12-09",
          "2020-12-10",
          "2020-12-11",
          "2020-12-14",
          "2020-12-15",
          "2020-12-16",
          "2020-12-17",
          "2020-12-18",
          "2020-12-21",
          "2020-12-22",
          "2020-12-23",
          "2020-12-24",
          "2020-12-28",
          "2020-12-29",
          "2020-12-30",
          "2020-12-31",
          "2021-01-04",
          "2021-01-05",
          "2021-01-06",
          "2021-01-07",
          "2021-01-08",
          "2021-01-11",
          "2021-01-12",
          "2021-01-13",
          "2021-01-14",
          "2021-01-15",
          "2021-01-19",
          "2021-01-20",
          "2021-01-21",
          "2021-01-22",
          "2021-01-25",
          "2021-01-26",
          "2021-01-27",
          "2021-01-28",
          "2021-01-29"
         ],
         "y": [
          "",
          "",
          "",
          "",
          "",
          "",
          "",
          "",
          "",
          "",
          "",
          "",
          "",
          "",
          22.918803061304352,
          18.341131523051498,
          15.8994020265191,
          14.885371927398365,
          13.761059904239028,
          19.56619940347929,
          18.63859842529889,
          18.058845833673058,
          23.513304860109994,
          22.64224151282864,
          21.014781417016838,
          19.693626923044743,
          22.825652748465096,
          19.97552643633976,
          19.04129553823148,
          10.171173025084734,
          7.747660020858293,
          6.7469106149891775,
          5.590751968589933,
          6.0841234105751205,
          5.334866202913152,
          3.356617402594897,
          1.5707801960161676,
          1.1001350754617898,
          0.5439135867147663,
          17.451598193365438,
          13.446772152123478
         ],
         "yaxis": "y5"
        },
        {
         "line": {
          "color": "rgba(55, 128, 191, 1.0)",
          "dash": "solid",
          "shape": "linear",
          "width": 1.3
         },
         "mode": "lines",
         "name": " EMA(20)",
         "text": "",
         "type": "scatter",
         "x": [
          "2020-12-01",
          "2020-12-02",
          "2020-12-03",
          "2020-12-04",
          "2020-12-07",
          "2020-12-08",
          "2020-12-09",
          "2020-12-10",
          "2020-12-11",
          "2020-12-14",
          "2020-12-15",
          "2020-12-16",
          "2020-12-17",
          "2020-12-18",
          "2020-12-21",
          "2020-12-22",
          "2020-12-23",
          "2020-12-24",
          "2020-12-28",
          "2020-12-29",
          "2020-12-30",
          "2020-12-31",
          "2021-01-04",
          "2021-01-05",
          "2021-01-06",
          "2021-01-07",
          "2021-01-08",
          "2021-01-11",
          "2021-01-12",
          "2021-01-13",
          "2021-01-14",
          "2021-01-15",
          "2021-01-19",
          "2021-01-20",
          "2021-01-21",
          "2021-01-22",
          "2021-01-25",
          "2021-01-26",
          "2021-01-27",
          "2021-01-28",
          "2021-01-29"
         ],
         "y": [
          "",
          "",
          "",
          "",
          "",
          "",
          "",
          "",
          "",
          "",
          "",
          "",
          "",
          "",
          "",
          "",
          "",
          "",
          "",
          17.05521538835188,
          17.26519489697378,
          17.41517634988941,
          17.399445268947563,
          17.396641037546214,
          17.48838956828958,
          17.544733411662577,
          17.5585683757002,
          17.785371438400908,
          17.991526612166485,
          19.268524041343987,
          21.234378880017143,
          22.59300946287265,
          24.18986576263255,
          25.611783207323235,
          27.270660880844535,
          30.86488385754796,
          35.238704529736474,
          45.97597035809862,
          74.69349792072018,
          86.0179272714626,
          108.77812467418045
         ],
         "yaxis": "y2"
        },
        {
         "close": [
          15.800000190734863,
          16.579999923706055,
          16.1200008392334,
          16.899999618530273,
          16.350000381469727,
          16.940000534057617,
          13.65999984741211,
          14.119999885559082,
          13.3100004196167,
          12.720000267028809,
          13.850000381469727,
          13.850000381469727,
          14.829999923706055,
          15.630000114440918,
          15.529999732971191,
          19.459999084472656,
          20.56999969482422,
          20.149999618530273,
          20.989999771118164,
          19.3799991607666,
          19.260000228881836,
          18.84000015258789,
          17.25,
          17.3700008392334,
          18.360000610351562,
          18.079999923706055,
          17.690000534057617,
          19.940000534057617,
          19.950000762939453,
          31.399999618530273,
          39.90999984741211,
          35.5,
          39.36000061035156,
          39.119998931884766,
          43.029998779296875,
          65.01000213623047,
          76.79000091552734,
          147.97999572753906,
          347.510009765625,
          193.60000610351562,
          325
         ],
         "decreasing": {
          "line": {
           "color": "#808080"
          }
         },
         "high": [
          17.399999618530273,
          16.68000030517578,
          16.639999389648438,
          17.290000915527344,
          17.5,
          17.209999084472656,
          14.729999542236328,
          14.40999984741211,
          14,
          13.430000305175781,
          14.020000457763672,
          14.3100004196167,
          14.979999542236328,
          16.299999237060547,
          16.350000381469727,
          20.040000915527344,
          22.350000381469727,
          21.479999542236328,
          21.969999313354492,
          21.06999969482422,
          20,
          19.799999237060547,
          19.100000381469727,
          18.079999923706055,
          18.979999542236328,
          19.450000762939453,
          18.299999237060547,
          20.649999618530273,
          20.399999618530273,
          38.650001525878906,
          43.060001373291016,
          40.75,
          45.52000045776367,
          41.189998626708984,
          44.75,
          76.76000213623047,
          159.17999267578125,
          150,
          380,
          483,
          413.9800109863281
         ],
         "increasing": {
          "line": {
           "color": "#17BECF"
          }
         },
         "low": [
          15.760000228881836,
          15.380000114440918,
          15.869999885559082,
          16.260000228881836,
          16.219999313354492,
          15.930000305175781,
          13.229999542236328,
          13.050000190734863,
          13.020000457763672,
          12.140000343322754,
          12.479999542236328,
          13.579999923706055,
          13.59000015258789,
          15.180000305175781,
          15.279999732971191,
          16.149999618530273,
          19.1299991607666,
          19.950000762939453,
          20.350000381469727,
          18.559999465942383,
          18.850000381469727,
          18.799999237060547,
          17.149999618530273,
          17.229999542236328,
          17.329999923706055,
          18.020000457763672,
          17.079999923706055,
          19.010000228881836,
          19.31999969482422,
          20.030000686645508,
          33.04999923706055,
          34.0099983215332,
          36.63999938964844,
          36.060001373291016,
          37,
          42.31999969482422,
          61.130001068115234,
          80.19999694824219,
          249,
          112.25,
          250
         ],
         "name": "GS",
         "open": [
          17.110000610351562,
          15.699999809265137,
          16.479999542236328,
          16.299999237060547,
          17,
          16.3700008392334,
          13.920000076293945,
          13.119999885559082,
          13.90999984741211,
          13.34000015258789,
          12.779999732971191,
          13.960000038146973,
          13.960000038146973,
          15.779999732971191,
          15.8100004196167,
          16.219999313354492,
          20.170000076293945,
          21.010000228881836,
          21.309999465942383,
          20.81999969482422,
          19.3799991607666,
          19.25,
          19,
          17.350000381469727,
          17.34000015258789,
          18.469999313354492,
          18.18000030517578,
          19.40999984741211,
          19.959999084472656,
          20.420000076293945,
          38.09000015258789,
          38.4900016784668,
          41.54999923706055,
          37.369998931884766,
          39.22999954223633,
          42.59000015258789,
          96.7300033569336,
          88.55999755859375,
          354.8299865722656,
          265,
          379.7099914550781
         ],
         "showlegend": true,
         "type": "candlestick",
         "x": [
          "2020-12-01",
          "2020-12-02",
          "2020-12-03",
          "2020-12-04",
          "2020-12-07",
          "2020-12-08",
          "2020-12-09",
          "2020-12-10",
          "2020-12-11",
          "2020-12-14",
          "2020-12-15",
          "2020-12-16",
          "2020-12-17",
          "2020-12-18",
          "2020-12-21",
          "2020-12-22",
          "2020-12-23",
          "2020-12-24",
          "2020-12-28",
          "2020-12-29",
          "2020-12-30",
          "2020-12-31",
          "2021-01-04",
          "2021-01-05",
          "2021-01-06",
          "2021-01-07",
          "2021-01-08",
          "2021-01-11",
          "2021-01-12",
          "2021-01-13",
          "2021-01-14",
          "2021-01-15",
          "2021-01-19",
          "2021-01-20",
          "2021-01-21",
          "2021-01-22",
          "2021-01-25",
          "2021-01-26",
          "2021-01-27",
          "2021-01-28",
          "2021-01-29"
         ],
         "yaxis": "y2"
        }
       ],
       "layout": {
        "legend": {
         "bgcolor": "#F5F6F9",
         "font": {
          "color": "#4D5663"
         },
         "orientation": "h",
         "x": 0.3,
         "y": 0.95,
         "yanchor": "bottom"
        },
        "margin": {
         "b": 30,
         "l": 30,
         "r": 30,
         "t": 30
        },
        "paper_bgcolor": "#F5F6F9",
        "plot_bgcolor": "#F5F6F9",
        "showlegend": true,
        "template": {
         "data": {
          "bar": [
           {
            "error_x": {
             "color": "#2a3f5f"
            },
            "error_y": {
             "color": "#2a3f5f"
            },
            "marker": {
             "line": {
              "color": "#E5ECF6",
              "width": 0.5
             }
            },
            "type": "bar"
           }
          ],
          "barpolar": [
           {
            "marker": {
             "line": {
              "color": "#E5ECF6",
              "width": 0.5
             }
            },
            "type": "barpolar"
           }
          ],
          "carpet": [
           {
            "aaxis": {
             "endlinecolor": "#2a3f5f",
             "gridcolor": "white",
             "linecolor": "white",
             "minorgridcolor": "white",
             "startlinecolor": "#2a3f5f"
            },
            "baxis": {
             "endlinecolor": "#2a3f5f",
             "gridcolor": "white",
             "linecolor": "white",
             "minorgridcolor": "white",
             "startlinecolor": "#2a3f5f"
            },
            "type": "carpet"
           }
          ],
          "choropleth": [
           {
            "colorbar": {
             "outlinewidth": 0,
             "ticks": ""
            },
            "type": "choropleth"
           }
          ],
          "contour": [
           {
            "colorbar": {
             "outlinewidth": 0,
             "ticks": ""
            },
            "colorscale": [
             [
              0,
              "#0d0887"
             ],
             [
              0.1111111111111111,
              "#46039f"
             ],
             [
              0.2222222222222222,
              "#7201a8"
             ],
             [
              0.3333333333333333,
              "#9c179e"
             ],
             [
              0.4444444444444444,
              "#bd3786"
             ],
             [
              0.5555555555555556,
              "#d8576b"
             ],
             [
              0.6666666666666666,
              "#ed7953"
             ],
             [
              0.7777777777777778,
              "#fb9f3a"
             ],
             [
              0.8888888888888888,
              "#fdca26"
             ],
             [
              1,
              "#f0f921"
             ]
            ],
            "type": "contour"
           }
          ],
          "contourcarpet": [
           {
            "colorbar": {
             "outlinewidth": 0,
             "ticks": ""
            },
            "type": "contourcarpet"
           }
          ],
          "heatmap": [
           {
            "colorbar": {
             "outlinewidth": 0,
             "ticks": ""
            },
            "colorscale": [
             [
              0,
              "#0d0887"
             ],
             [
              0.1111111111111111,
              "#46039f"
             ],
             [
              0.2222222222222222,
              "#7201a8"
             ],
             [
              0.3333333333333333,
              "#9c179e"
             ],
             [
              0.4444444444444444,
              "#bd3786"
             ],
             [
              0.5555555555555556,
              "#d8576b"
             ],
             [
              0.6666666666666666,
              "#ed7953"
             ],
             [
              0.7777777777777778,
              "#fb9f3a"
             ],
             [
              0.8888888888888888,
              "#fdca26"
             ],
             [
              1,
              "#f0f921"
             ]
            ],
            "type": "heatmap"
           }
          ],
          "heatmapgl": [
           {
            "colorbar": {
             "outlinewidth": 0,
             "ticks": ""
            },
            "colorscale": [
             [
              0,
              "#0d0887"
             ],
             [
              0.1111111111111111,
              "#46039f"
             ],
             [
              0.2222222222222222,
              "#7201a8"
             ],
             [
              0.3333333333333333,
              "#9c179e"
             ],
             [
              0.4444444444444444,
              "#bd3786"
             ],
             [
              0.5555555555555556,
              "#d8576b"
             ],
             [
              0.6666666666666666,
              "#ed7953"
             ],
             [
              0.7777777777777778,
              "#fb9f3a"
             ],
             [
              0.8888888888888888,
              "#fdca26"
             ],
             [
              1,
              "#f0f921"
             ]
            ],
            "type": "heatmapgl"
           }
          ],
          "histogram": [
           {
            "marker": {
             "colorbar": {
              "outlinewidth": 0,
              "ticks": ""
             }
            },
            "type": "histogram"
           }
          ],
          "histogram2d": [
           {
            "colorbar": {
             "outlinewidth": 0,
             "ticks": ""
            },
            "colorscale": [
             [
              0,
              "#0d0887"
             ],
             [
              0.1111111111111111,
              "#46039f"
             ],
             [
              0.2222222222222222,
              "#7201a8"
             ],
             [
              0.3333333333333333,
              "#9c179e"
             ],
             [
              0.4444444444444444,
              "#bd3786"
             ],
             [
              0.5555555555555556,
              "#d8576b"
             ],
             [
              0.6666666666666666,
              "#ed7953"
             ],
             [
              0.7777777777777778,
              "#fb9f3a"
             ],
             [
              0.8888888888888888,
              "#fdca26"
             ],
             [
              1,
              "#f0f921"
             ]
            ],
            "type": "histogram2d"
           }
          ],
          "histogram2dcontour": [
           {
            "colorbar": {
             "outlinewidth": 0,
             "ticks": ""
            },
            "colorscale": [
             [
              0,
              "#0d0887"
             ],
             [
              0.1111111111111111,
              "#46039f"
             ],
             [
              0.2222222222222222,
              "#7201a8"
             ],
             [
              0.3333333333333333,
              "#9c179e"
             ],
             [
              0.4444444444444444,
              "#bd3786"
             ],
             [
              0.5555555555555556,
              "#d8576b"
             ],
             [
              0.6666666666666666,
              "#ed7953"
             ],
             [
              0.7777777777777778,
              "#fb9f3a"
             ],
             [
              0.8888888888888888,
              "#fdca26"
             ],
             [
              1,
              "#f0f921"
             ]
            ],
            "type": "histogram2dcontour"
           }
          ],
          "mesh3d": [
           {
            "colorbar": {
             "outlinewidth": 0,
             "ticks": ""
            },
            "type": "mesh3d"
           }
          ],
          "parcoords": [
           {
            "line": {
             "colorbar": {
              "outlinewidth": 0,
              "ticks": ""
             }
            },
            "type": "parcoords"
           }
          ],
          "pie": [
           {
            "automargin": true,
            "type": "pie"
           }
          ],
          "scatter": [
           {
            "marker": {
             "colorbar": {
              "outlinewidth": 0,
              "ticks": ""
             }
            },
            "type": "scatter"
           }
          ],
          "scatter3d": [
           {
            "line": {
             "colorbar": {
              "outlinewidth": 0,
              "ticks": ""
             }
            },
            "marker": {
             "colorbar": {
              "outlinewidth": 0,
              "ticks": ""
             }
            },
            "type": "scatter3d"
           }
          ],
          "scattercarpet": [
           {
            "marker": {
             "colorbar": {
              "outlinewidth": 0,
              "ticks": ""
             }
            },
            "type": "scattercarpet"
           }
          ],
          "scattergeo": [
           {
            "marker": {
             "colorbar": {
              "outlinewidth": 0,
              "ticks": ""
             }
            },
            "type": "scattergeo"
           }
          ],
          "scattergl": [
           {
            "marker": {
             "colorbar": {
              "outlinewidth": 0,
              "ticks": ""
             }
            },
            "type": "scattergl"
           }
          ],
          "scattermapbox": [
           {
            "marker": {
             "colorbar": {
              "outlinewidth": 0,
              "ticks": ""
             }
            },
            "type": "scattermapbox"
           }
          ],
          "scatterpolar": [
           {
            "marker": {
             "colorbar": {
              "outlinewidth": 0,
              "ticks": ""
             }
            },
            "type": "scatterpolar"
           }
          ],
          "scatterpolargl": [
           {
            "marker": {
             "colorbar": {
              "outlinewidth": 0,
              "ticks": ""
             }
            },
            "type": "scatterpolargl"
           }
          ],
          "scatterternary": [
           {
            "marker": {
             "colorbar": {
              "outlinewidth": 0,
              "ticks": ""
             }
            },
            "type": "scatterternary"
           }
          ],
          "surface": [
           {
            "colorbar": {
             "outlinewidth": 0,
             "ticks": ""
            },
            "colorscale": [
             [
              0,
              "#0d0887"
             ],
             [
              0.1111111111111111,
              "#46039f"
             ],
             [
              0.2222222222222222,
              "#7201a8"
             ],
             [
              0.3333333333333333,
              "#9c179e"
             ],
             [
              0.4444444444444444,
              "#bd3786"
             ],
             [
              0.5555555555555556,
              "#d8576b"
             ],
             [
              0.6666666666666666,
              "#ed7953"
             ],
             [
              0.7777777777777778,
              "#fb9f3a"
             ],
             [
              0.8888888888888888,
              "#fdca26"
             ],
             [
              1,
              "#f0f921"
             ]
            ],
            "type": "surface"
           }
          ],
          "table": [
           {
            "cells": {
             "fill": {
              "color": "#EBF0F8"
             },
             "line": {
              "color": "white"
             }
            },
            "header": {
             "fill": {
              "color": "#C8D4E3"
             },
             "line": {
              "color": "white"
             }
            },
            "type": "table"
           }
          ]
         },
         "layout": {
          "annotationdefaults": {
           "arrowcolor": "#2a3f5f",
           "arrowhead": 0,
           "arrowwidth": 1
          },
          "autotypenumbers": "strict",
          "coloraxis": {
           "colorbar": {
            "outlinewidth": 0,
            "ticks": ""
           }
          },
          "colorscale": {
           "diverging": [
            [
             0,
             "#8e0152"
            ],
            [
             0.1,
             "#c51b7d"
            ],
            [
             0.2,
             "#de77ae"
            ],
            [
             0.3,
             "#f1b6da"
            ],
            [
             0.4,
             "#fde0ef"
            ],
            [
             0.5,
             "#f7f7f7"
            ],
            [
             0.6,
             "#e6f5d0"
            ],
            [
             0.7,
             "#b8e186"
            ],
            [
             0.8,
             "#7fbc41"
            ],
            [
             0.9,
             "#4d9221"
            ],
            [
             1,
             "#276419"
            ]
           ],
           "sequential": [
            [
             0,
             "#0d0887"
            ],
            [
             0.1111111111111111,
             "#46039f"
            ],
            [
             0.2222222222222222,
             "#7201a8"
            ],
            [
             0.3333333333333333,
             "#9c179e"
            ],
            [
             0.4444444444444444,
             "#bd3786"
            ],
            [
             0.5555555555555556,
             "#d8576b"
            ],
            [
             0.6666666666666666,
             "#ed7953"
            ],
            [
             0.7777777777777778,
             "#fb9f3a"
            ],
            [
             0.8888888888888888,
             "#fdca26"
            ],
            [
             1,
             "#f0f921"
            ]
           ],
           "sequentialminus": [
            [
             0,
             "#0d0887"
            ],
            [
             0.1111111111111111,
             "#46039f"
            ],
            [
             0.2222222222222222,
             "#7201a8"
            ],
            [
             0.3333333333333333,
             "#9c179e"
            ],
            [
             0.4444444444444444,
             "#bd3786"
            ],
            [
             0.5555555555555556,
             "#d8576b"
            ],
            [
             0.6666666666666666,
             "#ed7953"
            ],
            [
             0.7777777777777778,
             "#fb9f3a"
            ],
            [
             0.8888888888888888,
             "#fdca26"
            ],
            [
             1,
             "#f0f921"
            ]
           ]
          },
          "colorway": [
           "#636efa",
           "#EF553B",
           "#00cc96",
           "#ab63fa",
           "#FFA15A",
           "#19d3f3",
           "#FF6692",
           "#B6E880",
           "#FF97FF",
           "#FECB52"
          ],
          "font": {
           "color": "#2a3f5f"
          },
          "geo": {
           "bgcolor": "white",
           "lakecolor": "white",
           "landcolor": "#E5ECF6",
           "showlakes": true,
           "showland": true,
           "subunitcolor": "white"
          },
          "hoverlabel": {
           "align": "left"
          },
          "hovermode": "closest",
          "mapbox": {
           "style": "light"
          },
          "paper_bgcolor": "white",
          "plot_bgcolor": "#E5ECF6",
          "polar": {
           "angularaxis": {
            "gridcolor": "white",
            "linecolor": "white",
            "ticks": ""
           },
           "bgcolor": "#E5ECF6",
           "radialaxis": {
            "gridcolor": "white",
            "linecolor": "white",
            "ticks": ""
           }
          },
          "scene": {
           "xaxis": {
            "backgroundcolor": "#E5ECF6",
            "gridcolor": "white",
            "gridwidth": 2,
            "linecolor": "white",
            "showbackground": true,
            "ticks": "",
            "zerolinecolor": "white"
           },
           "yaxis": {
            "backgroundcolor": "#E5ECF6",
            "gridcolor": "white",
            "gridwidth": 2,
            "linecolor": "white",
            "showbackground": true,
            "ticks": "",
            "zerolinecolor": "white"
           },
           "zaxis": {
            "backgroundcolor": "#E5ECF6",
            "gridcolor": "white",
            "gridwidth": 2,
            "linecolor": "white",
            "showbackground": true,
            "ticks": "",
            "zerolinecolor": "white"
           }
          },
          "shapedefaults": {
           "line": {
            "color": "#2a3f5f"
           }
          },
          "ternary": {
           "aaxis": {
            "gridcolor": "white",
            "linecolor": "white",
            "ticks": ""
           },
           "baxis": {
            "gridcolor": "white",
            "linecolor": "white",
            "ticks": ""
           },
           "bgcolor": "#E5ECF6",
           "caxis": {
            "gridcolor": "white",
            "linecolor": "white",
            "ticks": ""
           }
          },
          "title": {
           "x": 0.05
          },
          "xaxis": {
           "automargin": true,
           "gridcolor": "white",
           "linecolor": "white",
           "ticks": "",
           "title": {
            "standoff": 15
           },
           "zerolinecolor": "white",
           "zerolinewidth": 2
          },
          "yaxis": {
           "automargin": true,
           "gridcolor": "white",
           "linecolor": "white",
           "ticks": "",
           "title": {
            "standoff": 15
           },
           "zerolinecolor": "white",
           "zerolinewidth": 2
          }
         }
        },
        "title": {
         "font": {
          "color": "#4D5663"
         },
         "text": "GME Quant Figure"
        },
        "xaxis": {
         "anchor": "y2",
         "gridcolor": "#E1E5ED",
         "rangeselector": {
          "bgcolor": "rgba(150, 200, 250, 1)",
          "buttons": [
           {
            "count": 1,
            "label": "1m",
            "step": "month",
            "stepmode": "backward"
           },
           {
            "count": 1,
            "label": "1y",
            "step": "year",
            "stepmode": "backward"
           }
          ],
          "font": {
           "size": 13
          },
          "visible": false,
          "x": 0,
          "y": 0.9
         },
         "rangeslider": {
          "visible": false
         },
         "showgrid": true,
         "tickfont": {
          "color": "#4D5663"
         },
         "title": {
          "font": {
           "color": "#4D5663"
          },
          "text": ""
         },
         "zerolinecolor": "#E1E5ED"
        },
        "yaxis": {
         "gridcolor": "#E1E5ED",
         "showgrid": true,
         "showticklabels": false,
         "tickfont": {
          "color": "#4D5663"
         },
         "title": {
          "font": {
           "color": "#4D5663"
          },
          "text": ""
         },
         "zerolinecolor": "#E1E5ED"
        },
        "yaxis2": {
         "domain": [
          0.69,
          0.9
         ],
         "gridcolor": "#E1E5ED",
         "showgrid": true,
         "tickfont": {
          "color": "#4D5663"
         },
         "title": {
          "font": {
           "color": "#4D5663"
          },
          "text": ""
         },
         "zerolinecolor": "#E1E5ED"
        },
        "yaxis3": {
         "domain": [
          0.46,
          0.61
         ],
         "gridcolor": "#E1E5ED",
         "showgrid": true,
         "tickfont": {
          "color": "#4D5663"
         },
         "title": {
          "font": {
           "color": "#4D5663"
          },
          "text": ""
         },
         "zerolinecolor": "#E1E5ED"
        },
        "yaxis4": {
         "domain": [
          0.23,
          0.38
         ],
         "gridcolor": "#E1E5ED",
         "showgrid": true,
         "tickfont": {
          "color": "#4D5663"
         },
         "title": {
          "font": {
           "color": "#4D5663"
          },
          "text": ""
         },
         "zerolinecolor": "#E1E5ED"
        },
        "yaxis5": {
         "domain": [
          0,
          0.15
         ],
         "gridcolor": "#E1E5ED",
         "showgrid": true,
         "tickfont": {
          "color": "#4D5663"
         },
         "title": {
          "font": {
           "color": "#4D5663"
          },
          "text": ""
         },
         "zerolinecolor": "#E1E5ED"
        }
       }
      },
      "text/html": [
       "<div>                            <div id=\"1ac35ae9-7a15-4a4f-90ca-e481b344b26e\" class=\"plotly-graph-div\" style=\"height:525px; width:100%;\"></div>            <script type=\"text/javascript\">                require([\"plotly\"], function(Plotly) {                    window.PLOTLYENV=window.PLOTLYENV || {};\n",
       "                    window.PLOTLYENV.BASE_URL='https://plot.ly';                                    if (document.getElementById(\"1ac35ae9-7a15-4a4f-90ca-e481b344b26e\")) {                    Plotly.newPlot(                        \"1ac35ae9-7a15-4a4f-90ca-e481b344b26e\",                        [{\"line\": {\"color\": \"rgba(55, 128, 191, 1.0)\", \"dash\": \"solid\", \"shape\": \"linear\", \"width\": 1.3}, \"mode\": \"lines\", \"name\": \" ADX(14)\", \"text\": \"\", \"type\": \"scatter\", \"x\": [\"2020-12-01\", \"2020-12-02\", \"2020-12-03\", \"2020-12-04\", \"2020-12-07\", \"2020-12-08\", \"2020-12-09\", \"2020-12-10\", \"2020-12-11\", \"2020-12-14\", \"2020-12-15\", \"2020-12-16\", \"2020-12-17\", \"2020-12-18\", \"2020-12-21\", \"2020-12-22\", \"2020-12-23\", \"2020-12-24\", \"2020-12-28\", \"2020-12-29\", \"2020-12-30\", \"2020-12-31\", \"2021-01-04\", \"2021-01-05\", \"2021-01-06\", \"2021-01-07\", \"2021-01-08\", \"2021-01-11\", \"2021-01-12\", \"2021-01-13\", \"2021-01-14\", \"2021-01-15\", \"2021-01-19\", \"2021-01-20\", \"2021-01-21\", \"2021-01-22\", \"2021-01-25\", \"2021-01-26\", \"2021-01-27\", \"2021-01-28\", \"2021-01-29\"], \"y\": [\"\", \"\", \"\", \"\", \"\", \"\", \"\", \"\", \"\", \"\", \"\", \"\", \"\", \"\", \"\", \"\", \"\", \"\", \"\", \"\", \"\", \"\", \"\", \"\", \"\", \"\", \"\", 20.86442275711459, 21.080720320670697, 24.70506357497246, 28.353932894591566, 31.742168691380737, 35.1479914119938, 38.063470642818075, 40.96474912627571, 44.454517810791394, 48.12517991836528, 51.53365187539818, 54.89368676520504, 53.81402735428503, 52.81148647271645], \"yaxis\": \"y3\"}, {\"legendgroup\": \" CCI(14)\", \"line\": {\"color\": \"rgba(55, 128, 191, 1.0)\", \"dash\": \"solid\", \"shape\": \"linear\", \"width\": 1.3}, \"mode\": \"lines\", \"name\": \" CCI(14)\", \"showlegend\": true, \"text\": \"\", \"type\": \"scatter\", \"x\": [\"2020-12-01\", \"2020-12-02\", \"2020-12-03\", \"2020-12-04\", \"2020-12-07\", \"2020-12-08\", \"2020-12-09\", \"2020-12-10\", \"2020-12-11\", \"2020-12-14\", \"2020-12-15\", \"2020-12-16\", \"2020-12-17\", \"2020-12-18\", \"2020-12-21\", \"2020-12-22\", \"2020-12-23\", \"2020-12-24\", \"2020-12-28\", \"2020-12-29\", \"2020-12-30\", \"2020-12-31\", \"2021-01-04\", \"2021-01-05\", \"2021-01-06\", \"2021-01-07\", \"2021-01-08\", \"2021-01-11\", \"2021-01-12\", \"2021-01-13\", \"2021-01-14\", \"2021-01-15\", \"2021-01-19\", \"2021-01-20\", \"2021-01-21\", \"2021-01-22\", \"2021-01-25\", \"2021-01-26\", \"2021-01-27\", \"2021-01-28\", \"2021-01-29\"], \"y\": [\"\", \"\", \"\", \"\", \"\", \"\", \"\", \"\", \"\", \"\", \"\", \"\", \"\", 33.30389511493191, 37.43692227556493, 153.77317563079953, 193.83470356755365, 154.62269318256463, 136.30525268671474, 82.72121489436942, 63.418154361823134, 49.7488072680207, 12.473120718522276, -4.033846099084965, 6.809476125639504, 6.749417974274668, -47.09400852201286, 56.015310048884146, 48.22173924346043, 379.8323840246583, 310.59061029137723, 175.18117538159197, 153.70405253614825, 107.95308081532258, 105.30471079955576, 186.26418316295928, 275.4194926674619, 246.79059216643657, 342.35137798264054, 174.27666988400432, 167.9840391210549], \"yaxis\": \"y4\"}, {\"legendgroup\": \" CCI(14)\", \"line\": {\"color\": \"grey\", \"width\": 1}, \"mode\": \"lines\", \"name\": \"\", \"showlegend\": true, \"text\": \"\", \"type\": \"scatter\", \"x\": [\"2020-12-01\", \"2020-12-02\", \"2020-12-03\", \"2020-12-04\", \"2020-12-07\", \"2020-12-08\", \"2020-12-09\", \"2020-12-10\", \"2020-12-11\", \"2020-12-14\", \"2020-12-15\", \"2020-12-16\", \"2020-12-17\", \"2020-12-18\", \"2020-12-21\", \"2020-12-22\", \"2020-12-23\", \"2020-12-24\", \"2020-12-28\", \"2020-12-29\", \"2020-12-30\", \"2020-12-31\", \"2021-01-04\", \"2021-01-05\", \"2021-01-06\", \"2021-01-07\", \"2021-01-08\", \"2021-01-11\", \"2021-01-12\", \"2021-01-13\", \"2021-01-14\", \"2021-01-15\", \"2021-01-19\", \"2021-01-20\", \"2021-01-21\", \"2021-01-22\", \"2021-01-25\", \"2021-01-26\", \"2021-01-27\", \"2021-01-28\", \"2021-01-29\"], \"y\": [-100, -100, -100, -100, -100, -100, -100, -100, -100, -100, -100, -100, -100, -100, -100, -100, -100, -100, -100, -100, -100, -100, -100, -100, -100, -100, -100, -100, -100, -100, -100, -100, -100, -100, -100, -100, -100, -100, -100, -100, -100], \"yaxis\": \"y4\"}, {\"legendgroup\": \" CCI(14)\", \"line\": {\"color\": \"#17BECF\", \"width\": 1}, \"mode\": \"lines\", \"name\": \"\", \"showlegend\": true, \"text\": \"\", \"type\": \"scatter\", \"x\": [\"2020-12-01\", \"2020-12-02\", \"2020-12-03\", \"2020-12-04\", \"2020-12-07\", \"2020-12-08\", \"2020-12-09\", \"2020-12-10\", \"2020-12-11\", \"2020-12-14\", \"2020-12-15\", \"2020-12-16\", \"2020-12-17\", \"2020-12-18\", \"2020-12-21\", \"2020-12-22\", \"2020-12-23\", \"2020-12-24\", \"2020-12-28\", \"2020-12-29\", \"2020-12-30\", \"2020-12-31\", \"2021-01-04\", \"2021-01-05\", \"2021-01-06\", \"2021-01-07\", \"2021-01-08\", \"2021-01-11\", \"2021-01-12\", \"2021-01-13\", \"2021-01-14\", \"2021-01-15\", \"2021-01-19\", \"2021-01-20\", \"2021-01-21\", \"2021-01-22\", \"2021-01-25\", \"2021-01-26\", \"2021-01-27\", \"2021-01-28\", \"2021-01-29\"], \"y\": [100, 100, 100, 100, 100, 100, 100, 100, 100, 100, 100, 100, 100, 100, 100, 100, 100, 100, 100, 100, 100, 100, 100, 100, 100, 100, 100, 100, 100, 100, 100, 100, 100, 100, 100, 100, 100, 100, 100, 100, 100], \"yaxis\": \"y4\"}, {\"line\": {\"color\": \"rgba(55, 128, 191, 1.0)\", \"dash\": \"solid\", \"shape\": \"linear\", \"width\": 1.3}, \"mode\": \"lines\", \"name\": \"ADX(14)\", \"text\": \"\", \"type\": \"scatter\", \"x\": [\"2020-12-01\", \"2020-12-02\", \"2020-12-03\", \"2020-12-04\", \"2020-12-07\", \"2020-12-08\", \"2020-12-09\", \"2020-12-10\", \"2020-12-11\", \"2020-12-14\", \"2020-12-15\", \"2020-12-16\", \"2020-12-17\", \"2020-12-18\", \"2020-12-21\", \"2020-12-22\", \"2020-12-23\", \"2020-12-24\", \"2020-12-28\", \"2020-12-29\", \"2020-12-30\", \"2020-12-31\", \"2021-01-04\", \"2021-01-05\", \"2021-01-06\", \"2021-01-07\", \"2021-01-08\", \"2021-01-11\", \"2021-01-12\", \"2021-01-13\", \"2021-01-14\", \"2021-01-15\", \"2021-01-19\", \"2021-01-20\", \"2021-01-21\", \"2021-01-22\", \"2021-01-25\", \"2021-01-26\", \"2021-01-27\", \"2021-01-28\", \"2021-01-29\"], \"y\": [\"\", \"\", \"\", \"\", \"\", \"\", \"\", \"\", \"\", \"\", \"\", \"\", \"\", \"\", \"\", \"\", \"\", \"\", \"\", \"\", \"\", \"\", \"\", \"\", \"\", \"\", \"\", 20.86442275711459, 21.080720320670697, 24.70506357497246, 28.353932894591566, 31.742168691380737, 35.1479914119938, 38.063470642818075, 40.96474912627571, 44.454517810791394, 48.12517991836528, 51.53365187539818, 54.89368676520504, 53.81402735428503, 52.81148647271645], \"yaxis\": \"y5\"}, {\"line\": {\"color\": \"rgba(0, 128, 0, 1.0)\", \"dash\": \"solid\", \"shape\": \"linear\", \"width\": 1.3}, \"mode\": \"lines\", \"name\": \"DI+(14)\", \"text\": \"\", \"type\": \"scatter\", \"x\": [\"2020-12-01\", \"2020-12-02\", \"2020-12-03\", \"2020-12-04\", \"2020-12-07\", \"2020-12-08\", \"2020-12-09\", \"2020-12-10\", \"2020-12-11\", \"2020-12-14\", \"2020-12-15\", \"2020-12-16\", \"2020-12-17\", \"2020-12-18\", \"2020-12-21\", \"2020-12-22\", \"2020-12-23\", \"2020-12-24\", \"2020-12-28\", \"2020-12-29\", \"2020-12-30\", \"2020-12-31\", \"2021-01-04\", \"2021-01-05\", \"2021-01-06\", \"2021-01-07\", \"2021-01-08\", \"2021-01-11\", \"2021-01-12\", \"2021-01-13\", \"2021-01-14\", \"2021-01-15\", \"2021-01-19\", \"2021-01-20\", \"2021-01-21\", \"2021-01-22\", \"2021-01-25\", \"2021-01-26\", \"2021-01-27\", \"2021-01-28\", \"2021-01-29\"], \"y\": [\"\", \"\", \"\", \"\", \"\", \"\", \"\", \"\", \"\", \"\", \"\", \"\", \"\", \"\", 19.42446392207432, 31.88662880108408, 37.192131448160204, 34.82009628130393, 34.223623252714944, 30.771666752581066, 29.312833200324626, 28.06678627639628, 25.76664778219008, 24.812108103531347, 26.949255952567928, 27.321305180077168, 25.829367637496468, 32.51745967683498, 30.996657927008567, 62.019911432457306, 56.25411536075101, 48.98788628340338, 48.7508777374147, 44.542443126764745, 44.71399768351444, 62.59850239551085, 74.01631390892318, 51.83917093818428, 75.74880991005173, 40.50639075207616, 31.21090693889115], \"yaxis\": \"y5\"}, {\"line\": {\"color\": \"rgba(219, 64, 82, 1.0)\", \"dash\": \"solid\", \"shape\": \"linear\", \"width\": 1.3}, \"mode\": \"lines\", \"name\": \"DI-(14)\", \"text\": \"\", \"type\": \"scatter\", \"x\": [\"2020-12-01\", \"2020-12-02\", \"2020-12-03\", \"2020-12-04\", \"2020-12-07\", \"2020-12-08\", \"2020-12-09\", \"2020-12-10\", \"2020-12-11\", \"2020-12-14\", \"2020-12-15\", \"2020-12-16\", \"2020-12-17\", \"2020-12-18\", \"2020-12-21\", \"2020-12-22\", \"2020-12-23\", \"2020-12-24\", \"2020-12-28\", \"2020-12-29\", \"2020-12-30\", \"2020-12-31\", \"2021-01-04\", \"2021-01-05\", \"2021-01-06\", \"2021-01-07\", \"2021-01-08\", \"2021-01-11\", \"2021-01-12\", \"2021-01-13\", \"2021-01-14\", \"2021-01-15\", \"2021-01-19\", \"2021-01-20\", \"2021-01-21\", \"2021-01-22\", \"2021-01-25\", \"2021-01-26\", \"2021-01-27\", \"2021-01-28\", \"2021-01-29\"], \"y\": [\"\", \"\", \"\", \"\", \"\", \"\", \"\", \"\", \"\", \"\", \"\", \"\", \"\", \"\", 22.918803061304352, 18.341131523051498, 15.8994020265191, 14.885371927398365, 13.761059904239028, 19.56619940347929, 18.63859842529889, 18.058845833673058, 23.513304860109994, 22.64224151282864, 21.014781417016838, 19.693626923044743, 22.825652748465096, 19.97552643633976, 19.04129553823148, 10.171173025084734, 7.747660020858293, 6.7469106149891775, 5.590751968589933, 6.0841234105751205, 5.334866202913152, 3.356617402594897, 1.5707801960161676, 1.1001350754617898, 0.5439135867147663, 17.451598193365438, 13.446772152123478], \"yaxis\": \"y5\"}, {\"line\": {\"color\": \"rgba(55, 128, 191, 1.0)\", \"dash\": \"solid\", \"shape\": \"linear\", \"width\": 1.3}, \"mode\": \"lines\", \"name\": \" EMA(20)\", \"text\": \"\", \"type\": \"scatter\", \"x\": [\"2020-12-01\", \"2020-12-02\", \"2020-12-03\", \"2020-12-04\", \"2020-12-07\", \"2020-12-08\", \"2020-12-09\", \"2020-12-10\", \"2020-12-11\", \"2020-12-14\", \"2020-12-15\", \"2020-12-16\", \"2020-12-17\", \"2020-12-18\", \"2020-12-21\", \"2020-12-22\", \"2020-12-23\", \"2020-12-24\", \"2020-12-28\", \"2020-12-29\", \"2020-12-30\", \"2020-12-31\", \"2021-01-04\", \"2021-01-05\", \"2021-01-06\", \"2021-01-07\", \"2021-01-08\", \"2021-01-11\", \"2021-01-12\", \"2021-01-13\", \"2021-01-14\", \"2021-01-15\", \"2021-01-19\", \"2021-01-20\", \"2021-01-21\", \"2021-01-22\", \"2021-01-25\", \"2021-01-26\", \"2021-01-27\", \"2021-01-28\", \"2021-01-29\"], \"y\": [\"\", \"\", \"\", \"\", \"\", \"\", \"\", \"\", \"\", \"\", \"\", \"\", \"\", \"\", \"\", \"\", \"\", \"\", \"\", 17.05521538835188, 17.26519489697378, 17.41517634988941, 17.399445268947563, 17.396641037546214, 17.48838956828958, 17.544733411662577, 17.5585683757002, 17.785371438400908, 17.991526612166485, 19.268524041343987, 21.234378880017143, 22.59300946287265, 24.18986576263255, 25.611783207323235, 27.270660880844535, 30.86488385754796, 35.238704529736474, 45.97597035809862, 74.69349792072018, 86.0179272714626, 108.77812467418045], \"yaxis\": \"y2\"}, {\"close\": [15.800000190734863, 16.579999923706055, 16.1200008392334, 16.899999618530273, 16.350000381469727, 16.940000534057617, 13.65999984741211, 14.119999885559082, 13.3100004196167, 12.720000267028809, 13.850000381469727, 13.850000381469727, 14.829999923706055, 15.630000114440918, 15.529999732971191, 19.459999084472656, 20.56999969482422, 20.149999618530273, 20.989999771118164, 19.3799991607666, 19.260000228881836, 18.84000015258789, 17.25, 17.3700008392334, 18.360000610351562, 18.079999923706055, 17.690000534057617, 19.940000534057617, 19.950000762939453, 31.399999618530273, 39.90999984741211, 35.5, 39.36000061035156, 39.119998931884766, 43.029998779296875, 65.01000213623047, 76.79000091552734, 147.97999572753906, 347.510009765625, 193.60000610351562, 325.0], \"decreasing\": {\"line\": {\"color\": \"#808080\"}}, \"high\": [17.399999618530273, 16.68000030517578, 16.639999389648438, 17.290000915527344, 17.5, 17.209999084472656, 14.729999542236328, 14.40999984741211, 14.0, 13.430000305175781, 14.020000457763672, 14.3100004196167, 14.979999542236328, 16.299999237060547, 16.350000381469727, 20.040000915527344, 22.350000381469727, 21.479999542236328, 21.969999313354492, 21.06999969482422, 20.0, 19.799999237060547, 19.100000381469727, 18.079999923706055, 18.979999542236328, 19.450000762939453, 18.299999237060547, 20.649999618530273, 20.399999618530273, 38.650001525878906, 43.060001373291016, 40.75, 45.52000045776367, 41.189998626708984, 44.75, 76.76000213623047, 159.17999267578125, 150.0, 380.0, 483.0, 413.9800109863281], \"increasing\": {\"line\": {\"color\": \"#17BECF\"}}, \"low\": [15.760000228881836, 15.380000114440918, 15.869999885559082, 16.260000228881836, 16.219999313354492, 15.930000305175781, 13.229999542236328, 13.050000190734863, 13.020000457763672, 12.140000343322754, 12.479999542236328, 13.579999923706055, 13.59000015258789, 15.180000305175781, 15.279999732971191, 16.149999618530273, 19.1299991607666, 19.950000762939453, 20.350000381469727, 18.559999465942383, 18.850000381469727, 18.799999237060547, 17.149999618530273, 17.229999542236328, 17.329999923706055, 18.020000457763672, 17.079999923706055, 19.010000228881836, 19.31999969482422, 20.030000686645508, 33.04999923706055, 34.0099983215332, 36.63999938964844, 36.060001373291016, 37.0, 42.31999969482422, 61.130001068115234, 80.19999694824219, 249.0, 112.25, 250.0], \"name\": \"GS\", \"open\": [17.110000610351562, 15.699999809265137, 16.479999542236328, 16.299999237060547, 17.0, 16.3700008392334, 13.920000076293945, 13.119999885559082, 13.90999984741211, 13.34000015258789, 12.779999732971191, 13.960000038146973, 13.960000038146973, 15.779999732971191, 15.8100004196167, 16.219999313354492, 20.170000076293945, 21.010000228881836, 21.309999465942383, 20.81999969482422, 19.3799991607666, 19.25, 19.0, 17.350000381469727, 17.34000015258789, 18.469999313354492, 18.18000030517578, 19.40999984741211, 19.959999084472656, 20.420000076293945, 38.09000015258789, 38.4900016784668, 41.54999923706055, 37.369998931884766, 39.22999954223633, 42.59000015258789, 96.7300033569336, 88.55999755859375, 354.8299865722656, 265.0, 379.7099914550781], \"showlegend\": true, \"type\": \"candlestick\", \"x\": [\"2020-12-01\", \"2020-12-02\", \"2020-12-03\", \"2020-12-04\", \"2020-12-07\", \"2020-12-08\", \"2020-12-09\", \"2020-12-10\", \"2020-12-11\", \"2020-12-14\", \"2020-12-15\", \"2020-12-16\", \"2020-12-17\", \"2020-12-18\", \"2020-12-21\", \"2020-12-22\", \"2020-12-23\", \"2020-12-24\", \"2020-12-28\", \"2020-12-29\", \"2020-12-30\", \"2020-12-31\", \"2021-01-04\", \"2021-01-05\", \"2021-01-06\", \"2021-01-07\", \"2021-01-08\", \"2021-01-11\", \"2021-01-12\", \"2021-01-13\", \"2021-01-14\", \"2021-01-15\", \"2021-01-19\", \"2021-01-20\", \"2021-01-21\", \"2021-01-22\", \"2021-01-25\", \"2021-01-26\", \"2021-01-27\", \"2021-01-28\", \"2021-01-29\"], \"yaxis\": \"y2\"}],                        {\"legend\": {\"bgcolor\": \"#F5F6F9\", \"font\": {\"color\": \"#4D5663\"}, \"orientation\": \"h\", \"x\": 0.3, \"y\": 0.95, \"yanchor\": \"bottom\"}, \"margin\": {\"b\": 30, \"l\": 30, \"r\": 30, \"t\": 30}, \"paper_bgcolor\": \"#F5F6F9\", \"plot_bgcolor\": \"#F5F6F9\", \"showlegend\": true, \"template\": {\"data\": {\"bar\": [{\"error_x\": {\"color\": \"#2a3f5f\"}, \"error_y\": {\"color\": \"#2a3f5f\"}, \"marker\": {\"line\": {\"color\": \"#E5ECF6\", \"width\": 0.5}}, \"type\": \"bar\"}], \"barpolar\": [{\"marker\": {\"line\": {\"color\": \"#E5ECF6\", \"width\": 0.5}}, \"type\": \"barpolar\"}], \"carpet\": [{\"aaxis\": {\"endlinecolor\": \"#2a3f5f\", \"gridcolor\": \"white\", \"linecolor\": \"white\", \"minorgridcolor\": \"white\", \"startlinecolor\": \"#2a3f5f\"}, \"baxis\": {\"endlinecolor\": \"#2a3f5f\", \"gridcolor\": \"white\", \"linecolor\": \"white\", \"minorgridcolor\": \"white\", \"startlinecolor\": \"#2a3f5f\"}, \"type\": \"carpet\"}], \"choropleth\": [{\"colorbar\": {\"outlinewidth\": 0, \"ticks\": \"\"}, \"type\": \"choropleth\"}], \"contour\": [{\"colorbar\": {\"outlinewidth\": 0, \"ticks\": \"\"}, \"colorscale\": [[0.0, \"#0d0887\"], [0.1111111111111111, \"#46039f\"], [0.2222222222222222, \"#7201a8\"], [0.3333333333333333, \"#9c179e\"], [0.4444444444444444, \"#bd3786\"], [0.5555555555555556, \"#d8576b\"], [0.6666666666666666, \"#ed7953\"], [0.7777777777777778, \"#fb9f3a\"], [0.8888888888888888, \"#fdca26\"], [1.0, \"#f0f921\"]], \"type\": \"contour\"}], \"contourcarpet\": [{\"colorbar\": {\"outlinewidth\": 0, \"ticks\": \"\"}, \"type\": \"contourcarpet\"}], \"heatmap\": [{\"colorbar\": {\"outlinewidth\": 0, \"ticks\": \"\"}, \"colorscale\": [[0.0, \"#0d0887\"], [0.1111111111111111, \"#46039f\"], [0.2222222222222222, \"#7201a8\"], [0.3333333333333333, \"#9c179e\"], [0.4444444444444444, \"#bd3786\"], [0.5555555555555556, \"#d8576b\"], [0.6666666666666666, \"#ed7953\"], [0.7777777777777778, \"#fb9f3a\"], [0.8888888888888888, \"#fdca26\"], [1.0, \"#f0f921\"]], \"type\": \"heatmap\"}], \"heatmapgl\": [{\"colorbar\": {\"outlinewidth\": 0, \"ticks\": \"\"}, \"colorscale\": [[0.0, \"#0d0887\"], [0.1111111111111111, \"#46039f\"], [0.2222222222222222, \"#7201a8\"], [0.3333333333333333, \"#9c179e\"], [0.4444444444444444, \"#bd3786\"], [0.5555555555555556, \"#d8576b\"], [0.6666666666666666, \"#ed7953\"], [0.7777777777777778, \"#fb9f3a\"], [0.8888888888888888, \"#fdca26\"], [1.0, \"#f0f921\"]], \"type\": \"heatmapgl\"}], \"histogram\": [{\"marker\": {\"colorbar\": {\"outlinewidth\": 0, \"ticks\": \"\"}}, \"type\": \"histogram\"}], \"histogram2d\": [{\"colorbar\": {\"outlinewidth\": 0, \"ticks\": \"\"}, \"colorscale\": [[0.0, \"#0d0887\"], [0.1111111111111111, \"#46039f\"], [0.2222222222222222, \"#7201a8\"], [0.3333333333333333, \"#9c179e\"], [0.4444444444444444, \"#bd3786\"], [0.5555555555555556, \"#d8576b\"], [0.6666666666666666, \"#ed7953\"], [0.7777777777777778, \"#fb9f3a\"], [0.8888888888888888, \"#fdca26\"], [1.0, \"#f0f921\"]], \"type\": \"histogram2d\"}], \"histogram2dcontour\": [{\"colorbar\": {\"outlinewidth\": 0, \"ticks\": \"\"}, \"colorscale\": [[0.0, \"#0d0887\"], [0.1111111111111111, \"#46039f\"], [0.2222222222222222, \"#7201a8\"], [0.3333333333333333, \"#9c179e\"], [0.4444444444444444, \"#bd3786\"], [0.5555555555555556, \"#d8576b\"], [0.6666666666666666, \"#ed7953\"], [0.7777777777777778, \"#fb9f3a\"], [0.8888888888888888, \"#fdca26\"], [1.0, \"#f0f921\"]], \"type\": \"histogram2dcontour\"}], \"mesh3d\": [{\"colorbar\": {\"outlinewidth\": 0, \"ticks\": \"\"}, \"type\": \"mesh3d\"}], \"parcoords\": [{\"line\": {\"colorbar\": {\"outlinewidth\": 0, \"ticks\": \"\"}}, \"type\": \"parcoords\"}], \"pie\": [{\"automargin\": true, \"type\": \"pie\"}], \"scatter\": [{\"marker\": {\"colorbar\": {\"outlinewidth\": 0, \"ticks\": \"\"}}, \"type\": \"scatter\"}], \"scatter3d\": [{\"line\": {\"colorbar\": {\"outlinewidth\": 0, \"ticks\": \"\"}}, \"marker\": {\"colorbar\": {\"outlinewidth\": 0, \"ticks\": \"\"}}, \"type\": \"scatter3d\"}], \"scattercarpet\": [{\"marker\": {\"colorbar\": {\"outlinewidth\": 0, \"ticks\": \"\"}}, \"type\": \"scattercarpet\"}], \"scattergeo\": [{\"marker\": {\"colorbar\": {\"outlinewidth\": 0, \"ticks\": \"\"}}, \"type\": \"scattergeo\"}], \"scattergl\": [{\"marker\": {\"colorbar\": {\"outlinewidth\": 0, \"ticks\": \"\"}}, \"type\": \"scattergl\"}], \"scattermapbox\": [{\"marker\": {\"colorbar\": {\"outlinewidth\": 0, \"ticks\": \"\"}}, \"type\": \"scattermapbox\"}], \"scatterpolar\": [{\"marker\": {\"colorbar\": {\"outlinewidth\": 0, \"ticks\": \"\"}}, \"type\": \"scatterpolar\"}], \"scatterpolargl\": [{\"marker\": {\"colorbar\": {\"outlinewidth\": 0, \"ticks\": \"\"}}, \"type\": \"scatterpolargl\"}], \"scatterternary\": [{\"marker\": {\"colorbar\": {\"outlinewidth\": 0, \"ticks\": \"\"}}, \"type\": \"scatterternary\"}], \"surface\": [{\"colorbar\": {\"outlinewidth\": 0, \"ticks\": \"\"}, \"colorscale\": [[0.0, \"#0d0887\"], [0.1111111111111111, \"#46039f\"], [0.2222222222222222, \"#7201a8\"], [0.3333333333333333, \"#9c179e\"], [0.4444444444444444, \"#bd3786\"], [0.5555555555555556, \"#d8576b\"], [0.6666666666666666, \"#ed7953\"], [0.7777777777777778, \"#fb9f3a\"], [0.8888888888888888, \"#fdca26\"], [1.0, \"#f0f921\"]], \"type\": \"surface\"}], \"table\": [{\"cells\": {\"fill\": {\"color\": \"#EBF0F8\"}, \"line\": {\"color\": \"white\"}}, \"header\": {\"fill\": {\"color\": \"#C8D4E3\"}, \"line\": {\"color\": \"white\"}}, \"type\": \"table\"}]}, \"layout\": {\"annotationdefaults\": {\"arrowcolor\": \"#2a3f5f\", \"arrowhead\": 0, \"arrowwidth\": 1}, \"autotypenumbers\": \"strict\", \"coloraxis\": {\"colorbar\": {\"outlinewidth\": 0, \"ticks\": \"\"}}, \"colorscale\": {\"diverging\": [[0, \"#8e0152\"], [0.1, \"#c51b7d\"], [0.2, \"#de77ae\"], [0.3, \"#f1b6da\"], [0.4, \"#fde0ef\"], [0.5, \"#f7f7f7\"], [0.6, \"#e6f5d0\"], [0.7, \"#b8e186\"], [0.8, \"#7fbc41\"], [0.9, \"#4d9221\"], [1, \"#276419\"]], \"sequential\": [[0.0, \"#0d0887\"], [0.1111111111111111, \"#46039f\"], [0.2222222222222222, \"#7201a8\"], [0.3333333333333333, \"#9c179e\"], [0.4444444444444444, \"#bd3786\"], [0.5555555555555556, \"#d8576b\"], [0.6666666666666666, \"#ed7953\"], [0.7777777777777778, \"#fb9f3a\"], [0.8888888888888888, \"#fdca26\"], [1.0, \"#f0f921\"]], \"sequentialminus\": [[0.0, \"#0d0887\"], [0.1111111111111111, \"#46039f\"], [0.2222222222222222, \"#7201a8\"], [0.3333333333333333, \"#9c179e\"], [0.4444444444444444, \"#bd3786\"], [0.5555555555555556, \"#d8576b\"], [0.6666666666666666, \"#ed7953\"], [0.7777777777777778, \"#fb9f3a\"], [0.8888888888888888, \"#fdca26\"], [1.0, \"#f0f921\"]]}, \"colorway\": [\"#636efa\", \"#EF553B\", \"#00cc96\", \"#ab63fa\", \"#FFA15A\", \"#19d3f3\", \"#FF6692\", \"#B6E880\", \"#FF97FF\", \"#FECB52\"], \"font\": {\"color\": \"#2a3f5f\"}, \"geo\": {\"bgcolor\": \"white\", \"lakecolor\": \"white\", \"landcolor\": \"#E5ECF6\", \"showlakes\": true, \"showland\": true, \"subunitcolor\": \"white\"}, \"hoverlabel\": {\"align\": \"left\"}, \"hovermode\": \"closest\", \"mapbox\": {\"style\": \"light\"}, \"paper_bgcolor\": \"white\", \"plot_bgcolor\": \"#E5ECF6\", \"polar\": {\"angularaxis\": {\"gridcolor\": \"white\", \"linecolor\": \"white\", \"ticks\": \"\"}, \"bgcolor\": \"#E5ECF6\", \"radialaxis\": {\"gridcolor\": \"white\", \"linecolor\": \"white\", \"ticks\": \"\"}}, \"scene\": {\"xaxis\": {\"backgroundcolor\": \"#E5ECF6\", \"gridcolor\": \"white\", \"gridwidth\": 2, \"linecolor\": \"white\", \"showbackground\": true, \"ticks\": \"\", \"zerolinecolor\": \"white\"}, \"yaxis\": {\"backgroundcolor\": \"#E5ECF6\", \"gridcolor\": \"white\", \"gridwidth\": 2, \"linecolor\": \"white\", \"showbackground\": true, \"ticks\": \"\", \"zerolinecolor\": \"white\"}, \"zaxis\": {\"backgroundcolor\": \"#E5ECF6\", \"gridcolor\": \"white\", \"gridwidth\": 2, \"linecolor\": \"white\", \"showbackground\": true, \"ticks\": \"\", \"zerolinecolor\": \"white\"}}, \"shapedefaults\": {\"line\": {\"color\": \"#2a3f5f\"}}, \"ternary\": {\"aaxis\": {\"gridcolor\": \"white\", \"linecolor\": \"white\", \"ticks\": \"\"}, \"baxis\": {\"gridcolor\": \"white\", \"linecolor\": \"white\", \"ticks\": \"\"}, \"bgcolor\": \"#E5ECF6\", \"caxis\": {\"gridcolor\": \"white\", \"linecolor\": \"white\", \"ticks\": \"\"}}, \"title\": {\"x\": 0.05}, \"xaxis\": {\"automargin\": true, \"gridcolor\": \"white\", \"linecolor\": \"white\", \"ticks\": \"\", \"title\": {\"standoff\": 15}, \"zerolinecolor\": \"white\", \"zerolinewidth\": 2}, \"yaxis\": {\"automargin\": true, \"gridcolor\": \"white\", \"linecolor\": \"white\", \"ticks\": \"\", \"title\": {\"standoff\": 15}, \"zerolinecolor\": \"white\", \"zerolinewidth\": 2}}}, \"title\": {\"font\": {\"color\": \"#4D5663\"}, \"text\": \"GME Quant Figure\"}, \"xaxis\": {\"anchor\": \"y2\", \"gridcolor\": \"#E1E5ED\", \"rangeselector\": {\"bgcolor\": \"rgba(150, 200, 250, 1)\", \"buttons\": [{\"count\": 1, \"label\": \"1m\", \"step\": \"month\", \"stepmode\": \"backward\"}, {\"count\": 1, \"label\": \"1y\", \"step\": \"year\", \"stepmode\": \"backward\"}], \"font\": {\"size\": 13}, \"visible\": false, \"x\": 0, \"y\": 0.9}, \"rangeslider\": {\"visible\": false}, \"showgrid\": true, \"tickfont\": {\"color\": \"#4D5663\"}, \"title\": {\"font\": {\"color\": \"#4D5663\"}, \"text\": \"\"}, \"zerolinecolor\": \"#E1E5ED\"}, \"yaxis\": {\"gridcolor\": \"#E1E5ED\", \"showgrid\": true, \"showticklabels\": false, \"tickfont\": {\"color\": \"#4D5663\"}, \"title\": {\"font\": {\"color\": \"#4D5663\"}, \"text\": \"\"}, \"zerolinecolor\": \"#E1E5ED\"}, \"yaxis2\": {\"domain\": [0.69, 0.9], \"gridcolor\": \"#E1E5ED\", \"showgrid\": true, \"tickfont\": {\"color\": \"#4D5663\"}, \"title\": {\"font\": {\"color\": \"#4D5663\"}, \"text\": \"\"}, \"zerolinecolor\": \"#E1E5ED\"}, \"yaxis3\": {\"domain\": [0.46, 0.61], \"gridcolor\": \"#E1E5ED\", \"showgrid\": true, \"tickfont\": {\"color\": \"#4D5663\"}, \"title\": {\"font\": {\"color\": \"#4D5663\"}, \"text\": \"\"}, \"zerolinecolor\": \"#E1E5ED\"}, \"yaxis4\": {\"domain\": [0.23, 0.38], \"gridcolor\": \"#E1E5ED\", \"showgrid\": true, \"tickfont\": {\"color\": \"#4D5663\"}, \"title\": {\"font\": {\"color\": \"#4D5663\"}, \"text\": \"\"}, \"zerolinecolor\": \"#E1E5ED\"}, \"yaxis5\": {\"domain\": [0.0, 0.15], \"gridcolor\": \"#E1E5ED\", \"showgrid\": true, \"tickfont\": {\"color\": \"#4D5663\"}, \"title\": {\"font\": {\"color\": \"#4D5663\"}, \"text\": \"\"}, \"zerolinecolor\": \"#E1E5ED\"}},                        {\"showLink\": true, \"linkText\": \"Export to plot.ly\", \"plotlyServerURL\": \"https://plot.ly\", \"responsive\": true}                    ).then(function(){\n",
       "                            \n",
       "var gd = document.getElementById('1ac35ae9-7a15-4a4f-90ca-e481b344b26e');\n",
       "var x = new MutationObserver(function (mutations, observer) {{\n",
       "        var display = window.getComputedStyle(gd).display;\n",
       "        if (!display || display === 'none') {{\n",
       "            console.log([gd, 'removed!']);\n",
       "            Plotly.purge(gd);\n",
       "            observer.disconnect();\n",
       "        }}\n",
       "}});\n",
       "\n",
       "// Listen for the removal of the full notebook cells\n",
       "var notebookContainer = gd.closest('#notebook-container');\n",
       "if (notebookContainer) {{\n",
       "    x.observe(notebookContainer, {childList: true});\n",
       "}}\n",
       "\n",
       "// Listen for the clearing of the current output cell\n",
       "var outputEl = gd.closest('.output');\n",
       "if (outputEl) {{\n",
       "    x.observe(outputEl, {childList: true});\n",
       "}}\n",
       "\n",
       "                        })                };                });            </script>        </div>"
      ]
     },
     "metadata": {},
     "output_type": "display_data"
    }
   ],
   "source": [
    "qf=cf.QuantFig(gme,title='GME Quant Figure',legend='top',name='GS')\n",
    "\n",
    "qf.add_adx()\n",
    "qf.add_cci()\n",
    "qf.add_dmi()\n",
    "qf.add_ema()\n",
    "\n",
    "qf.iplot()"
   ]
  },
  {
   "cell_type": "markdown",
   "metadata": {},
   "source": [
    "# 3. Quandl"
   ]
  },
  {
   "cell_type": "markdown",
   "metadata": {},
   "source": [
    "A Quandl será usada aqui para capturar dados do Volume de Ações Vendidas (Short Sale Volume) obtidos da FINRA.\n",
    "\n",
    "O que é isso?\n",
    "\n",
    "Seguindo uma norma da SEC, a FINRA disponibiliza publicamente dados diários do volume de papéis vendidtos (short) de negociações de ações não listadas em exchanges (over the counter securities), reportadas ao OTC Reporting Facility.\n",
    "\n",
    "Esses dados fornecem o volume agregado por ação de todas as negociações vendidas executadas e reportadas à OFR durante o horário de pregão.\n",
    "\n",
    "Para saber mais sobre os dados:\n",
    "https://www.finra.org/filing-reporting/orf/orf-regulation-sho\n",
    "\n",
    "\n",
    "Para saber mais sobre a OFR:\n",
    "https://www.finra.org/filing-reporting/over-the-counter-reporting-facility-orf#:~:text=The%20OTC%20Reporting%20Facility%20(ORF,dissemination%20of%20last%20sale%20reports."
   ]
  },
  {
   "cell_type": "markdown",
   "metadata": {},
   "source": [
    "Documentação da FINRA na Quandl\n",
    "\n",
    "https://www.quandl.com/data/FINRA/FNYX_GME-FINRA-NYSE-TRF-Short-Interest-GME"
   ]
  },
  {
   "cell_type": "markdown",
   "metadata": {},
   "source": [
    "Agora que você já obteve seu token de acesso a Quandl, vamos salvá-lo num arquivo .txt de nome \"senha\""
   ]
  },
  {
   "cell_type": "markdown",
   "metadata": {},
   "source": [
    "A seguir, vamos abrir esse arquivo, e chamar de \"token\" o seu conteúdo"
   ]
  },
  {
   "cell_type": "markdown",
   "metadata": {},
   "source": [
    "Chave da Quandl vem num formato parecido com esse:"
   ]
  },
  {
   "cell_type": "code",
   "execution_count": 5,
   "metadata": {},
   "outputs": [],
   "source": [
    "f = open(\"senha.txt\", \"r\")\n",
    "\n",
    "token = f.read()"
   ]
  },
  {
   "cell_type": "code",
   "execution_count": 6,
   "metadata": {},
   "outputs": [
    {
     "data": {
      "text/plain": [
       "'77TfLxTY9XzxycV_uzSe'"
      ]
     },
     "execution_count": 6,
     "metadata": {},
     "output_type": "execute_result"
    }
   ],
   "source": [
    "token"
   ]
  },
  {
   "cell_type": "code",
   "execution_count": 8,
   "metadata": {},
   "outputs": [],
   "source": [
    "quandl.ApiConfig.api_key = token"
   ]
  },
  {
   "cell_type": "code",
   "execution_count": 5,
   "metadata": {},
   "outputs": [],
   "source": [
    "quandl.ApiConfig.api_key = \"77TfLxTY9XzxycV_uzSe\""
   ]
  },
  {
   "cell_type": "markdown",
   "metadata": {},
   "source": [
    "Note que tanto esse resultado quanto o do S&P 500 são consolidados por mês"
   ]
  },
  {
   "cell_type": "code",
   "execution_count": 21,
   "metadata": {},
   "outputs": [],
   "source": [
    "finra = quandl.get(\"FINRA/FNYX_GME\", trim_start = \"2020-08-01\")"
   ]
  },
  {
   "cell_type": "code",
   "execution_count": 22,
   "metadata": {},
   "outputs": [
    {
     "data": {
      "text/html": [
       "<div>\n",
       "<style scoped>\n",
       "    .dataframe tbody tr th:only-of-type {\n",
       "        vertical-align: middle;\n",
       "    }\n",
       "\n",
       "    .dataframe tbody tr th {\n",
       "        vertical-align: top;\n",
       "    }\n",
       "\n",
       "    .dataframe thead th {\n",
       "        text-align: right;\n",
       "    }\n",
       "</style>\n",
       "<table border=\"1\" class=\"dataframe\">\n",
       "  <thead>\n",
       "    <tr style=\"text-align: right;\">\n",
       "      <th></th>\n",
       "      <th>ShortVolume</th>\n",
       "      <th>ShortExemptVolume</th>\n",
       "      <th>TotalVolume</th>\n",
       "    </tr>\n",
       "    <tr>\n",
       "      <th>Date</th>\n",
       "      <th></th>\n",
       "      <th></th>\n",
       "      <th></th>\n",
       "    </tr>\n",
       "  </thead>\n",
       "  <tbody>\n",
       "    <tr>\n",
       "      <th>2020-08-03</th>\n",
       "      <td>28678.0</td>\n",
       "      <td>0.0</td>\n",
       "      <td>167741.0</td>\n",
       "    </tr>\n",
       "    <tr>\n",
       "      <th>2020-08-04</th>\n",
       "      <td>434953.0</td>\n",
       "      <td>0.0</td>\n",
       "      <td>1411726.0</td>\n",
       "    </tr>\n",
       "    <tr>\n",
       "      <th>2020-08-05</th>\n",
       "      <td>205375.0</td>\n",
       "      <td>0.0</td>\n",
       "      <td>459608.0</td>\n",
       "    </tr>\n",
       "    <tr>\n",
       "      <th>2020-08-06</th>\n",
       "      <td>69919.0</td>\n",
       "      <td>0.0</td>\n",
       "      <td>199033.0</td>\n",
       "    </tr>\n",
       "    <tr>\n",
       "      <th>2020-08-07</th>\n",
       "      <td>143366.0</td>\n",
       "      <td>0.0</td>\n",
       "      <td>339322.0</td>\n",
       "    </tr>\n",
       "  </tbody>\n",
       "</table>\n",
       "</div>"
      ],
      "text/plain": [
       "            ShortVolume  ShortExemptVolume  TotalVolume\n",
       "Date                                                   \n",
       "2020-08-03      28678.0                0.0     167741.0\n",
       "2020-08-04     434953.0                0.0    1411726.0\n",
       "2020-08-05     205375.0                0.0     459608.0\n",
       "2020-08-06      69919.0                0.0     199033.0\n",
       "2020-08-07     143366.0                0.0     339322.0"
      ]
     },
     "execution_count": 22,
     "metadata": {},
     "output_type": "execute_result"
    }
   ],
   "source": [
    "finra.head()"
   ]
  },
  {
   "cell_type": "markdown",
   "metadata": {},
   "source": [
    "# Explicar\n",
    "* O que é a FINRA\n",
    "* O que são Market Makers\n",
    "* O que é hedge\n",
    "* O que são calls - opções de compra\n",
    "* Falar que nos EUA a margem precisa ser respeitada, se não o vendido (short seller) precisa comprar o papel\n",
    "* O que é o short interest?"
   ]
  },
  {
   "cell_type": "code",
   "execution_count": null,
   "metadata": {},
   "outputs": [],
   "source": [
    "# Procurar dados de compra do papel e hold por parte dos acionistas\n",
    "\n",
    "# Uma opção é mostrar isso através da diminuição do float geral do papel\n",
    "\n",
    "# Quanto do free float passou a ser 'segurado' pelos acionistas?"
   ]
  },
  {
   "cell_type": "code",
   "execution_count": 20,
   "metadata": {},
   "outputs": [
    {
     "data": {
      "text/plain": [
       "[<matplotlib.lines.Line2D at 0x191eb0d3d00>,\n",
       " <matplotlib.lines.Line2D at 0x191eb369550>,\n",
       " <matplotlib.lines.Line2D at 0x191eb369490>]"
      ]
     },
     "execution_count": 20,
     "metadata": {},
     "output_type": "execute_result"
    },
    {
     "data": {
      "image/png": "[encoded data removed]",
      "text/plain": [
       "<Figure size 648x504 with 1 Axes>"
      ]
     },
     "metadata": {
      "needs_background": "light"
     },
     "output_type": "display_data"
    }
   ],
   "source": [
    "finra = quandl.get(\"FINRA/FNYX_GME\", trim_start = \"2020-08-01\")\n",
    "plt.figure(figsize=(9,7))\n",
    "plt.plot(finra)"
   ]
  },
  {
   "cell_type": "code",
   "execution_count": 21,
   "metadata": {},
   "outputs": [
    {
     "data": {
      "text/plain": [
       "[<matplotlib.lines.Line2D at 0x191eb58b490>,\n",
       " <matplotlib.lines.Line2D at 0x191eb3e1c70>,\n",
       " <matplotlib.lines.Line2D at 0x191eb3e1bb0>]"
      ]
     },
     "execution_count": 21,
     "metadata": {},
     "output_type": "execute_result"
    },
    {
     "data": {
      "image/png": "[encoded data removed]",
      "text/plain": [
       "<Figure size 648x504 with 1 Axes>"
      ]
     },
     "metadata": {
      "needs_background": "light"
     },
     "output_type": "display_data"
    }
   ],
   "source": [
    "finra = quandl.get(\"FINRA/FNYX_GME\", trim_start = \"2020-12-01\")\n",
    "plt.figure(figsize=(9,7))\n",
    "plt.plot(finra)"
   ]
  },
  {
   "cell_type": "markdown",
   "metadata": {},
   "source": [
    "Exemplo de como verificar cotação vs. volume"
   ]
  },
  {
   "cell_type": "markdown",
   "metadata": {},
   "source": [
    "https://www.reddit.com/r/wallstreetbets/comments/l81luf/hey_sec_heres_your_market_manipulation_rh_working/"
   ]
  },
  {
   "cell_type": "code",
   "execution_count": null,
   "metadata": {},
   "outputs": [],
   "source": []
  },
  {
   "cell_type": "markdown",
   "metadata": {},
   "source": [
    "OBS.: Nesse ponto tentar pegar os dados de short interest de vários outros papéis e compará-los no mesmo gráfico"
   ]
  },
  {
   "cell_type": "markdown",
   "metadata": {},
   "source": [
    "# 4. yahoofinancials"
   ]
  },
  {
   "cell_type": "markdown",
   "metadata": {},
   "source": [
    "A biblioteca *yahoofinancials* é uma das melhores formas de se obter dados fundamentalistas direto do Yahoo Finance, em poucas linhas de código"
   ]
  },
  {
   "cell_type": "markdown",
   "metadata": {},
   "source": [
    "A grande desvantagem é que os dados são retornados em elementos JSON, que por natureza são difcíceis de se realizar o parse, e consequentemente torna o processamento e a análise posterior um pouco mais difícil"
   ]
  },
  {
   "cell_type": "markdown",
   "metadata": {},
   "source": [
    "Referências para trabalhar com JSONs"
   ]
  },
  {
   "cell_type": "markdown",
   "metadata": {},
   "source": [
    "https://towardsdatascience.com/how-to-parse-json-data-with-python-pandas-f84fbd0b1025\n",
    "    \n",
    "https://stackoverflow.com/questions/16729574/how-to-get-a-value-from-a-cell-of-a-dataframe\n",
    "    \n",
    "https://stackoverflow.com/questions/42354001/python-json-object-must-be-str-bytes-or-bytearray-not-dict\n",
    "    \n",
    "https://stackoverflow.com/questions/21104592/json-to-pandas-dataframe"
   ]
  },
  {
   "cell_type": "code",
   "execution_count": 22,
   "metadata": {},
   "outputs": [
    {
     "name": "stdout",
     "output_type": "stream",
     "text": [
      "Collecting yahoofinancials\n",
      "  Downloading yahoofinancials-1.6.tar.gz (27 kB)\n",
      "Requirement already satisfied: beautifulsoup4 in c:\\programdata\\anaconda3\\lib\\site-packages (from yahoofinancials) (4.9.3)\n",
      "Requirement already satisfied: pytz in c:\\programdata\\anaconda3\\lib\\site-packages (from yahoofinancials) (2020.1)\n",
      "Requirement already satisfied: soupsieve>1.2; python_version >= \"3.0\" in c:\\programdata\\anaconda3\\lib\\site-packages (from beautifulsoup4->yahoofinancials) (2.0.1)\n",
      "Building wheels for collected packages: yahoofinancials\n",
      "  Building wheel for yahoofinancials (setup.py): started\n",
      "  Building wheel for yahoofinancials (setup.py): finished with status 'done'\n",
      "  Created wheel for yahoofinancials: filename=yahoofinancials-1.6-py3-none-any.whl size=15195 sha256=e0c2ac737f8dd5c336dc101036356d2cc2b3e1a1ab832d81369b044eec0154c4\n",
      "  Stored in directory: c:\\users\\victo\\appdata\\local\\pip\\cache\\wheels\\6a\\90\\0c\\08c7ac2ce60b9ac91529417d471e59244f9f96848c86f14809\n",
      "Successfully built yahoofinancials\n",
      "Installing collected packages: yahoofinancials\n",
      "Successfully installed yahoofinancials-1.6\n"
     ]
    }
   ],
   "source": [
    "! pip install yahoofinancials"
   ]
  },
  {
   "cell_type": "code",
   "execution_count": 23,
   "metadata": {},
   "outputs": [],
   "source": [
    "from yahoofinancials import YahooFinancials\n",
    "\n",
    "ticker = 'GME'\n",
    "yahoo_financials = YahooFinancials(ticker)"
   ]
  },
  {
   "cell_type": "markdown",
   "metadata": {},
   "source": [
    "### Vamos verificar os dados anuais pra ver se bate com o Yahoo Finance"
   ]
  },
  {
   "cell_type": "code",
   "execution_count": null,
   "metadata": {},
   "outputs": [],
   "source": [
    "balance_sheet_data_qt = yahoo_financials.get_financial_stmts('quarterly', 'balance')\n",
    "income_statement_data_qt = yahoo_financials.get_financial_stmts('quarterly', 'income')\n",
    "all_statement_data_qt =  yahoo_financials.get_financial_stmts('quarterly', ['income', 'cash', 'balance'])\n",
    "GME_earnings_data = yahoo_financials.get_stock_earnings_data()\n",
    "GME_net_income = yahoo_financials.get_net_income()"
   ]
  },
  {
   "cell_type": "code",
   "execution_count": 132,
   "metadata": {},
   "outputs": [],
   "source": [
    "balance_sheet_data_qt = yahoo_financials.get_financial_stmts('annual', 'balance')\n",
    "income_statement_data_qt = yahoo_financials.get_financial_stmts('annual', 'income')\n",
    "\n",
    "# Outra opção de obter o dado de statment é usando todos os statements: income, cash e balance\n",
    "all_statement_data_qt =  yahoo_financials.get_financial_stmts('annual', ['income', 'cash', 'balance'])\n",
    "\n",
    "GME_earnings_data = yahoo_financials.get_stock_earnings_data()\n",
    "GME_net_income = yahoo_financials.get_net_income()"
   ]
  },
  {
   "cell_type": "markdown",
   "metadata": {},
   "source": [
    "Vamos fazer um teste: que tipo são esses dados nos outputs?"
   ]
  },
  {
   "cell_type": "code",
   "execution_count": 70,
   "metadata": {},
   "outputs": [
    {
     "data": {
      "text/plain": [
       "dict"
      ]
     },
     "execution_count": 70,
     "metadata": {},
     "output_type": "execute_result"
    }
   ],
   "source": [
    "type(all_statement_data_qt)"
   ]
  },
  {
   "cell_type": "code",
   "execution_count": 133,
   "metadata": {},
   "outputs": [
    {
     "data": {
      "text/plain": [
       "{'incomeStatementHistory': {'GME': [{'2020-02-01': {'researchDevelopment': None,\n",
       "     'effectOfAccountingCharges': None,\n",
       "     'incomeBeforeTax': -426800000,\n",
       "     'minorityInterest': None,\n",
       "     'netIncome': -470900000,\n",
       "     'sellingGeneralAdministrative': 1893600000,\n",
       "     'grossProfit': 1908700000,\n",
       "     'ebit': 15100000,\n",
       "     'operatingIncome': 15100000,\n",
       "     'otherOperatingExpenses': None,\n",
       "     'interestExpense': -38500000,\n",
       "     'extraordinaryItems': None,\n",
       "     'nonRecurring': None,\n",
       "     'otherItems': None,\n",
       "     'incomeTaxExpense': 37600000,\n",
       "     'totalRevenue': 6466000000,\n",
       "     'totalOperatingExpenses': 6450900000,\n",
       "     'costOfRevenue': 4557300000,\n",
       "     'totalOtherIncomeExpenseNet': -441900000,\n",
       "     'discontinuedOperations': -6500000,\n",
       "     'netIncomeFromContinuingOps': -464400000,\n",
       "     'netIncomeApplicableToCommonShares': -470900000}},\n",
       "   {'2019-02-02': {'researchDevelopment': None,\n",
       "     'effectOfAccountingCharges': None,\n",
       "     'incomeBeforeTax': -753100000,\n",
       "     'minorityInterest': None,\n",
       "     'netIncome': -673000000,\n",
       "     'sellingGeneralAdministrative': 1997200000,\n",
       "     'grossProfit': 2308100000,\n",
       "     'ebit': 310900000,\n",
       "     'operatingIncome': 310900000,\n",
       "     'otherOperatingExpenses': None,\n",
       "     'interestExpense': -56800000,\n",
       "     'extraordinaryItems': None,\n",
       "     'nonRecurring': None,\n",
       "     'otherItems': None,\n",
       "     'incomeTaxExpense': 41700000,\n",
       "     'totalRevenue': 8285300000,\n",
       "     'totalOperatingExpenses': 7974400000,\n",
       "     'costOfRevenue': 5977200000,\n",
       "     'totalOtherIncomeExpenseNet': -1064000000,\n",
       "     'discontinuedOperations': 121800000,\n",
       "     'netIncomeFromContinuingOps': -794800000,\n",
       "     'netIncomeApplicableToCommonShares': -673000000}},\n",
       "   {'2018-02-03': {'researchDevelopment': None,\n",
       "     'effectOfAccountingCharges': None,\n",
       "     'incomeBeforeTax': 383900000,\n",
       "     'minorityInterest': None,\n",
       "     'netIncome': 34700000,\n",
       "     'sellingGeneralAdministrative': 2040700000,\n",
       "     'grossProfit': 2484900000,\n",
       "     'ebit': 444200000,\n",
       "     'operatingIncome': 444200000,\n",
       "     'otherOperatingExpenses': None,\n",
       "     'interestExpense': -56800000,\n",
       "     'extraordinaryItems': None,\n",
       "     'nonRecurring': None,\n",
       "     'otherItems': None,\n",
       "     'incomeTaxExpense': 153500000,\n",
       "     'totalRevenue': 8547100000,\n",
       "     'totalOperatingExpenses': 8102900000,\n",
       "     'costOfRevenue': 6062200000,\n",
       "     'totalOtherIncomeExpenseNet': -60300000,\n",
       "     'discontinuedOperations': -195700000,\n",
       "     'netIncomeFromContinuingOps': 230400000,\n",
       "     'netIncomeApplicableToCommonShares': 34700000}},\n",
       "   {'2017-01-28': {'researchDevelopment': None,\n",
       "     'effectOfAccountingCharges': None,\n",
       "     'incomeBeforeTax': 428700000,\n",
       "     'minorityInterest': None,\n",
       "     'netIncome': 353200000,\n",
       "     'sellingGeneralAdministrative': 1861900000,\n",
       "     'grossProfit': 2499900000,\n",
       "     'ebit': 501300000,\n",
       "     'operatingIncome': 501300000,\n",
       "     'otherOperatingExpenses': None,\n",
       "     'interestExpense': -53800000,\n",
       "     'extraordinaryItems': None,\n",
       "     'nonRecurring': None,\n",
       "     'otherItems': None,\n",
       "     'incomeTaxExpense': 124200000,\n",
       "     'totalRevenue': 7965000000,\n",
       "     'totalOperatingExpenses': 7463700000,\n",
       "     'costOfRevenue': 5465100000,\n",
       "     'totalOtherIncomeExpenseNet': -72600000,\n",
       "     'discontinuedOperations': 48700000,\n",
       "     'netIncomeFromContinuingOps': 304500000,\n",
       "     'netIncomeApplicableToCommonShares': 353200000}}]},\n",
       " 'cashflowStatementHistory': {'GME': [{'2020-02-01': {'changeToLiabilities': -792800000,\n",
       "     'totalCashflowsFromInvestingActivities': -60900000,\n",
       "     'netBorrowings': -404500000,\n",
       "     'totalCashFromFinancingActivities': -644700000,\n",
       "     'changeToOperatingActivities': 7700000,\n",
       "     'netIncome': -470900000,\n",
       "     'changeInCash': -1127000000,\n",
       "     'repurchaseOfStock': -199700000,\n",
       "     'effectOfExchangeRate': -6900000,\n",
       "     'totalCashFromOperatingActivities': -414500000,\n",
       "     'depreciation': 96200000,\n",
       "     'otherCashflowsFromInvestingActivities': 12400000,\n",
       "     'dividendsPaid': -40500000,\n",
       "     'changeToInventory': 361100000,\n",
       "     'changeToAccountReceivables': -10900000,\n",
       "     'changeToNetincome': 471000000,\n",
       "     'capitalExpenditures': -78500000}},\n",
       "   {'2019-02-02': {'changeToLiabilities': -26000000,\n",
       "     'totalCashflowsFromInvestingActivities': 635500000,\n",
       "     'netBorrowings': -12200000,\n",
       "     'totalCashFromFinancingActivities': -174700000,\n",
       "     'changeToOperatingActivities': 7100000,\n",
       "     'netIncome': -673000000,\n",
       "     'changeInCash': 771400000,\n",
       "     'repurchaseOfStock': -5100000,\n",
       "     'effectOfExchangeRate': -24700000,\n",
       "     'totalCashFromOperatingActivities': 325100000,\n",
       "     'depreciation': 106800000,\n",
       "     'otherCashflowsFromInvestingActivities': 729200000,\n",
       "     'dividendsPaid': -157400000,\n",
       "     'changeToInventory': 12600000,\n",
       "     'changeToAccountReceivables': -34400000,\n",
       "     'changeToNetincome': 950700000,\n",
       "     'capitalExpenditures': -93700000}},\n",
       "   {'2018-02-03': {'changeToLiabilities': 146100000,\n",
       "     'totalCashflowsFromInvestingActivities': -60600000,\n",
       "     'netBorrowings': -21800000,\n",
       "     'totalCashFromFinancingActivities': -202500000,\n",
       "     'changeToOperatingActivities': -16000000,\n",
       "     'netIncome': 34700000,\n",
       "     'changeInCash': 194400000,\n",
       "     'repurchaseOfStock': -25500000,\n",
       "     'effectOfExchangeRate': 28000000,\n",
       "     'totalCashFromOperatingActivities': 434900000,\n",
       "     'depreciation': 123500000,\n",
       "     'otherCashflowsFromInvestingActivities': 2800000,\n",
       "     'dividendsPaid': -155200000,\n",
       "     'changeToInventory': -197200000,\n",
       "     'changeToAccountReceivables': 35700000,\n",
       "     'changeToNetincome': 332800000,\n",
       "     'capitalExpenditures': -113400000}},\n",
       "   {'2017-01-28': {'changeToLiabilities': 64100000,\n",
       "     'totalCashflowsFromInvestingActivities': -577400000,\n",
       "     'netBorrowings': 474600000,\n",
       "     'totalCashFromFinancingActivities': 238700000,\n",
       "     'changeToOperatingActivities': -9700000,\n",
       "     'netIncome': 353200000,\n",
       "     'changeInCash': 217300000,\n",
       "     'repurchaseOfStock': -71500000,\n",
       "     'effectOfExchangeRate': 21100000,\n",
       "     'totalCashFromOperatingActivities': 537100000,\n",
       "     'depreciation': 138200000,\n",
       "     'otherCashflowsFromInvestingActivities': 6500000,\n",
       "     'dividendsPaid': -155500000,\n",
       "     'changeToInventory': 14700000,\n",
       "     'changeToAccountReceivables': -43900000,\n",
       "     'otherCashflowsFromFinancingActivities': -8900000,\n",
       "     'changeToNetincome': 69600000,\n",
       "     'capitalExpenditures': -142700000}}]},\n",
       " 'balanceSheetHistory': {'GME': [{'2020-02-01': {'totalLiab': 2208200000,\n",
       "     'totalStockholderEquity': 611500000,\n",
       "     'otherCurrentLiab': 423000000,\n",
       "     'totalAssets': 2819700000,\n",
       "     'commonStock': 100000,\n",
       "     'otherCurrentAssets': 13500000,\n",
       "     'retainedEarnings': 690200000,\n",
       "     'otherLiab': 21400000,\n",
       "     'treasuryStock': -78800000,\n",
       "     'otherAssets': 143100000,\n",
       "     'cash': 499400000,\n",
       "     'totalCurrentLiabilities': 1237700000,\n",
       "     'deferredLongTermAssetCharges': 83000000,\n",
       "     'otherStockholderEquity': -78800000,\n",
       "     'propertyPlantEquipment': 1042900000,\n",
       "     'totalCurrentAssets': 1633700000,\n",
       "     'netTangibleAssets': 611500000,\n",
       "     'netReceivables': 141900000,\n",
       "     'longTermDebt': 419800000,\n",
       "     'inventory': 859700000,\n",
       "     'accountsPayable': 380800000}},\n",
       "   {'2019-02-02': {'intangibleAssets': 33500000,\n",
       "     'capitalSurplus': 27700000,\n",
       "     'totalLiab': 2708100000,\n",
       "     'totalStockholderEquity': 1336200000,\n",
       "     'otherCurrentLiab': 549500000,\n",
       "     'totalAssets': 4044300000,\n",
       "     'commonStock': 100000,\n",
       "     'otherCurrentAssets': 3700000,\n",
       "     'retainedEarnings': 1362700000,\n",
       "     'otherLiab': 55400000,\n",
       "     'goodWill': 363900000,\n",
       "     'treasuryStock': -54300000,\n",
       "     'otherAssets': 231400000,\n",
       "     'cash': 1624400000,\n",
       "     'totalCurrentLiabilities': 2181100000,\n",
       "     'deferredLongTermAssetCharges': 147300000,\n",
       "     'shortLongTermDebt': 349200000,\n",
       "     'otherStockholderEquity': -54300000,\n",
       "     'propertyPlantEquipment': 321300000,\n",
       "     'totalCurrentAssets': 3127700000,\n",
       "     'netTangibleAssets': 972300000,\n",
       "     'netReceivables': 134200000,\n",
       "     'longTermDebt': 471600000,\n",
       "     'inventory': 1250500000,\n",
       "     'accountsPayable': 1051900000}},\n",
       "   {'2018-02-03': {'intangibleAssets': 92500000,\n",
       "     'capitalSurplus': 22100000,\n",
       "     'totalLiab': 2827100000,\n",
       "     'totalStockholderEquity': 2214500000,\n",
       "     'otherCurrentLiab': 711600000,\n",
       "     'totalAssets': 5041600000,\n",
       "     'commonStock': 100000,\n",
       "     'otherCurrentAssets': 662500000,\n",
       "     'retainedEarnings': 2180100000,\n",
       "     'otherLiab': 78400000,\n",
       "     'goodWill': 1350500000,\n",
       "     'treasuryStock': 12200000,\n",
       "     'otherAssets': 229200000,\n",
       "     'cash': 854200000,\n",
       "     'totalCurrentLiabilities': 1930800000,\n",
       "     'deferredLongTermAssetCharges': 158200000,\n",
       "     'otherStockholderEquity': 12200000,\n",
       "     'propertyPlantEquipment': 351000000,\n",
       "     'totalCurrentAssets': 3018400000,\n",
       "     'netTangibleAssets': 771500000,\n",
       "     'netReceivables': 138600000,\n",
       "     'longTermDebt': 817900000,\n",
       "     'inventory': 1250300000,\n",
       "     'accountsPayable': 892300000}},\n",
       "   {'2017-01-28': {'intangibleAssets': 507200000,\n",
       "     'totalLiab': 2721800000,\n",
       "     'totalStockholderEquity': 2254100000,\n",
       "     'otherCurrentLiab': 816400000,\n",
       "     'totalAssets': 4975900000,\n",
       "     'commonStock': 100000,\n",
       "     'otherCurrentAssets': 13300000,\n",
       "     'retainedEarnings': 2301300000,\n",
       "     'otherLiab': 145300000,\n",
       "     'goodWill': 1725200000,\n",
       "     'treasuryStock': -47300000,\n",
       "     'otherAssets': 131800000,\n",
       "     'cash': 669400000,\n",
       "     'totalCurrentLiabilities': 1761500000,\n",
       "     'deferredLongTermAssetCharges': 59000000,\n",
       "     'otherStockholderEquity': -47300000,\n",
       "     'propertyPlantEquipment': 471000000,\n",
       "     'totalCurrentAssets': 2140700000,\n",
       "     'netTangibleAssets': 21700000,\n",
       "     'netReceivables': 220900000,\n",
       "     'longTermDebt': 815000000,\n",
       "     'inventory': 1121500000,\n",
       "     'accountsPayable': 616600000}}]}}"
      ]
     },
     "execution_count": 133,
     "metadata": {},
     "output_type": "execute_result"
    }
   ],
   "source": [
    "all_statement_data_qt"
   ]
  },
  {
   "cell_type": "markdown",
   "metadata": {},
   "source": [
    "Verifique que esses dados são do tipo \"JSON\", por isso vem no formato de dicionário. Por causa disso, teremos que trabalhar com métodos específicos para tratar JSON"
   ]
  },
  {
   "cell_type": "markdown",
   "metadata": {},
   "source": [
    "As principais funções para se trabalhar com JSON são:\n",
    "\n",
    "json.loads take a string as input and returns a dictionary as output.\n",
    "\n",
    "json.dumps take a dictionary as input and returns a string as output.\n",
    "\n",
    "Além disso, na package pandas, a função pd.json_normalize pega um JSON de input e transforma num pandas Data Frame de output"
   ]
  },
  {
   "cell_type": "code",
   "execution_count": 139,
   "metadata": {},
   "outputs": [],
   "source": [
    "import json\n",
    "#data = json.dumps(data)\n",
    "#data = json.loads(data)\n",
    "\n",
    "incomeStatementHistory = pd.json_normalize(all_statement_data_qt['incomeStatementHistory'])"
   ]
  },
  {
   "cell_type": "code",
   "execution_count": 140,
   "metadata": {},
   "outputs": [
    {
     "data": {
      "text/html": [
       "<div>\n",
       "<style scoped>\n",
       "    .dataframe tbody tr th:only-of-type {\n",
       "        vertical-align: middle;\n",
       "    }\n",
       "\n",
       "    .dataframe tbody tr th {\n",
       "        vertical-align: top;\n",
       "    }\n",
       "\n",
       "    .dataframe thead th {\n",
       "        text-align: right;\n",
       "    }\n",
       "</style>\n",
       "<table border=\"1\" class=\"dataframe\">\n",
       "  <thead>\n",
       "    <tr style=\"text-align: right;\">\n",
       "      <th></th>\n",
       "      <th>GME</th>\n",
       "    </tr>\n",
       "  </thead>\n",
       "  <tbody>\n",
       "    <tr>\n",
       "      <th>0</th>\n",
       "      <td>[{'2020-02-01': {'researchDevelopment': None, ...</td>\n",
       "    </tr>\n",
       "  </tbody>\n",
       "</table>\n",
       "</div>"
      ],
      "text/plain": [
       "                                                 GME\n",
       "0  [{'2020-02-01': {'researchDevelopment': None, ..."
      ]
     },
     "execution_count": 140,
     "metadata": {},
     "output_type": "execute_result"
    }
   ],
   "source": [
    "incomeStatementHistory"
   ]
  },
  {
   "cell_type": "code",
   "execution_count": 143,
   "metadata": {},
   "outputs": [],
   "source": [
    "dictionary = incomeStatementHistory.iloc[0]\n",
    "\n",
    "string = list(dictionary[[0]])\n",
    "\n",
    "stringa = string[0]"
   ]
  },
  {
   "cell_type": "code",
   "execution_count": 144,
   "metadata": {},
   "outputs": [
    {
     "data": {
      "text/plain": [
       "[{'2020-02-01': {'researchDevelopment': None,\n",
       "   'effectOfAccountingCharges': None,\n",
       "   'incomeBeforeTax': -426800000,\n",
       "   'minorityInterest': None,\n",
       "   'netIncome': -470900000,\n",
       "   'sellingGeneralAdministrative': 1893600000,\n",
       "   'grossProfit': 1908700000,\n",
       "   'ebit': 15100000,\n",
       "   'operatingIncome': 15100000,\n",
       "   'otherOperatingExpenses': None,\n",
       "   'interestExpense': -38500000,\n",
       "   'extraordinaryItems': None,\n",
       "   'nonRecurring': None,\n",
       "   'otherItems': None,\n",
       "   'incomeTaxExpense': 37600000,\n",
       "   'totalRevenue': 6466000000,\n",
       "   'totalOperatingExpenses': 6450900000,\n",
       "   'costOfRevenue': 4557300000,\n",
       "   'totalOtherIncomeExpenseNet': -441900000,\n",
       "   'discontinuedOperations': -6500000,\n",
       "   'netIncomeFromContinuingOps': -464400000,\n",
       "   'netIncomeApplicableToCommonShares': -470900000}},\n",
       " {'2019-02-02': {'researchDevelopment': None,\n",
       "   'effectOfAccountingCharges': None,\n",
       "   'incomeBeforeTax': -753100000,\n",
       "   'minorityInterest': None,\n",
       "   'netIncome': -673000000,\n",
       "   'sellingGeneralAdministrative': 1997200000,\n",
       "   'grossProfit': 2308100000,\n",
       "   'ebit': 310900000,\n",
       "   'operatingIncome': 310900000,\n",
       "   'otherOperatingExpenses': None,\n",
       "   'interestExpense': -56800000,\n",
       "   'extraordinaryItems': None,\n",
       "   'nonRecurring': None,\n",
       "   'otherItems': None,\n",
       "   'incomeTaxExpense': 41700000,\n",
       "   'totalRevenue': 8285300000,\n",
       "   'totalOperatingExpenses': 7974400000,\n",
       "   'costOfRevenue': 5977200000,\n",
       "   'totalOtherIncomeExpenseNet': -1064000000,\n",
       "   'discontinuedOperations': 121800000,\n",
       "   'netIncomeFromContinuingOps': -794800000,\n",
       "   'netIncomeApplicableToCommonShares': -673000000}},\n",
       " {'2018-02-03': {'researchDevelopment': None,\n",
       "   'effectOfAccountingCharges': None,\n",
       "   'incomeBeforeTax': 383900000,\n",
       "   'minorityInterest': None,\n",
       "   'netIncome': 34700000,\n",
       "   'sellingGeneralAdministrative': 2040700000,\n",
       "   'grossProfit': 2484900000,\n",
       "   'ebit': 444200000,\n",
       "   'operatingIncome': 444200000,\n",
       "   'otherOperatingExpenses': None,\n",
       "   'interestExpense': -56800000,\n",
       "   'extraordinaryItems': None,\n",
       "   'nonRecurring': None,\n",
       "   'otherItems': None,\n",
       "   'incomeTaxExpense': 153500000,\n",
       "   'totalRevenue': 8547100000,\n",
       "   'totalOperatingExpenses': 8102900000,\n",
       "   'costOfRevenue': 6062200000,\n",
       "   'totalOtherIncomeExpenseNet': -60300000,\n",
       "   'discontinuedOperations': -195700000,\n",
       "   'netIncomeFromContinuingOps': 230400000,\n",
       "   'netIncomeApplicableToCommonShares': 34700000}},\n",
       " {'2017-01-28': {'researchDevelopment': None,\n",
       "   'effectOfAccountingCharges': None,\n",
       "   'incomeBeforeTax': 428700000,\n",
       "   'minorityInterest': None,\n",
       "   'netIncome': 353200000,\n",
       "   'sellingGeneralAdministrative': 1861900000,\n",
       "   'grossProfit': 2499900000,\n",
       "   'ebit': 501300000,\n",
       "   'operatingIncome': 501300000,\n",
       "   'otherOperatingExpenses': None,\n",
       "   'interestExpense': -53800000,\n",
       "   'extraordinaryItems': None,\n",
       "   'nonRecurring': None,\n",
       "   'otherItems': None,\n",
       "   'incomeTaxExpense': 124200000,\n",
       "   'totalRevenue': 7965000000,\n",
       "   'totalOperatingExpenses': 7463700000,\n",
       "   'costOfRevenue': 5465100000,\n",
       "   'totalOtherIncomeExpenseNet': -72600000,\n",
       "   'discontinuedOperations': 48700000,\n",
       "   'netIncomeFromContinuingOps': 304500000,\n",
       "   'netIncomeApplicableToCommonShares': 353200000}}]"
      ]
     },
     "execution_count": 144,
     "metadata": {},
     "output_type": "execute_result"
    }
   ],
   "source": [
    "stringa"
   ]
  },
  {
   "cell_type": "markdown",
   "metadata": {},
   "source": [
    "Observe que aqui obtivemos uma lista contendo vários dicionários, onde cada trimestre possui os resultados representados em um dicionário"
   ]
  },
  {
   "cell_type": "markdown",
   "metadata": {},
   "source": [
    "Se quisermos trabalhar com um trimestre ou ano específico, precisaremos filtrar, e só em seguida criar um data frame"
   ]
  },
  {
   "cell_type": "code",
   "execution_count": 145,
   "metadata": {},
   "outputs": [],
   "source": [
    "string_b = stringa[0]"
   ]
  },
  {
   "cell_type": "code",
   "execution_count": 146,
   "metadata": {},
   "outputs": [
    {
     "data": {
      "text/plain": [
       "{'2020-02-01': {'researchDevelopment': None,\n",
       "  'effectOfAccountingCharges': None,\n",
       "  'incomeBeforeTax': -426800000,\n",
       "  'minorityInterest': None,\n",
       "  'netIncome': -470900000,\n",
       "  'sellingGeneralAdministrative': 1893600000,\n",
       "  'grossProfit': 1908700000,\n",
       "  'ebit': 15100000,\n",
       "  'operatingIncome': 15100000,\n",
       "  'otherOperatingExpenses': None,\n",
       "  'interestExpense': -38500000,\n",
       "  'extraordinaryItems': None,\n",
       "  'nonRecurring': None,\n",
       "  'otherItems': None,\n",
       "  'incomeTaxExpense': 37600000,\n",
       "  'totalRevenue': 6466000000,\n",
       "  'totalOperatingExpenses': 6450900000,\n",
       "  'costOfRevenue': 4557300000,\n",
       "  'totalOtherIncomeExpenseNet': -441900000,\n",
       "  'discontinuedOperations': -6500000,\n",
       "  'netIncomeFromContinuingOps': -464400000,\n",
       "  'netIncomeApplicableToCommonShares': -470900000}}"
      ]
     },
     "execution_count": 146,
     "metadata": {},
     "output_type": "execute_result"
    }
   ],
   "source": [
    "string_b"
   ]
  },
  {
   "cell_type": "markdown",
   "metadata": {},
   "source": [
    "Agora enfim podemos transformar isso num data frame e em seguida seguir com a análise"
   ]
  },
  {
   "cell_type": "code",
   "execution_count": 147,
   "metadata": {},
   "outputs": [],
   "source": [
    "string_df = pd.json_normalize(string_b['2020-02-01'])"
   ]
  },
  {
   "cell_type": "code",
   "execution_count": 148,
   "metadata": {},
   "outputs": [
    {
     "data": {
      "text/html": [
       "<div>\n",
       "<style scoped>\n",
       "    .dataframe tbody tr th:only-of-type {\n",
       "        vertical-align: middle;\n",
       "    }\n",
       "\n",
       "    .dataframe tbody tr th {\n",
       "        vertical-align: top;\n",
       "    }\n",
       "\n",
       "    .dataframe thead th {\n",
       "        text-align: right;\n",
       "    }\n",
       "</style>\n",
       "<table border=\"1\" class=\"dataframe\">\n",
       "  <thead>\n",
       "    <tr style=\"text-align: right;\">\n",
       "      <th></th>\n",
       "      <th>researchDevelopment</th>\n",
       "      <th>effectOfAccountingCharges</th>\n",
       "      <th>incomeBeforeTax</th>\n",
       "      <th>minorityInterest</th>\n",
       "      <th>netIncome</th>\n",
       "      <th>sellingGeneralAdministrative</th>\n",
       "      <th>grossProfit</th>\n",
       "      <th>ebit</th>\n",
       "      <th>operatingIncome</th>\n",
       "      <th>otherOperatingExpenses</th>\n",
       "      <th>...</th>\n",
       "      <th>nonRecurring</th>\n",
       "      <th>otherItems</th>\n",
       "      <th>incomeTaxExpense</th>\n",
       "      <th>totalRevenue</th>\n",
       "      <th>totalOperatingExpenses</th>\n",
       "      <th>costOfRevenue</th>\n",
       "      <th>totalOtherIncomeExpenseNet</th>\n",
       "      <th>discontinuedOperations</th>\n",
       "      <th>netIncomeFromContinuingOps</th>\n",
       "      <th>netIncomeApplicableToCommonShares</th>\n",
       "    </tr>\n",
       "  </thead>\n",
       "  <tbody>\n",
       "    <tr>\n",
       "      <th>0</th>\n",
       "      <td>None</td>\n",
       "      <td>None</td>\n",
       "      <td>-426800000</td>\n",
       "      <td>None</td>\n",
       "      <td>-470900000</td>\n",
       "      <td>1893600000</td>\n",
       "      <td>1908700000</td>\n",
       "      <td>15100000</td>\n",
       "      <td>15100000</td>\n",
       "      <td>None</td>\n",
       "      <td>...</td>\n",
       "      <td>None</td>\n",
       "      <td>None</td>\n",
       "      <td>37600000</td>\n",
       "      <td>6466000000</td>\n",
       "      <td>6450900000</td>\n",
       "      <td>4557300000</td>\n",
       "      <td>-441900000</td>\n",
       "      <td>-6500000</td>\n",
       "      <td>-464400000</td>\n",
       "      <td>-470900000</td>\n",
       "    </tr>\n",
       "  </tbody>\n",
       "</table>\n",
       "<p>1 rows × 22 columns</p>\n",
       "</div>"
      ],
      "text/plain": [
       "  researchDevelopment effectOfAccountingCharges  incomeBeforeTax  \\\n",
       "0                None                      None       -426800000   \n",
       "\n",
       "  minorityInterest  netIncome  sellingGeneralAdministrative  grossProfit  \\\n",
       "0             None -470900000                    1893600000   1908700000   \n",
       "\n",
       "       ebit  operatingIncome otherOperatingExpenses  ...  nonRecurring  \\\n",
       "0  15100000         15100000                   None  ...          None   \n",
       "\n",
       "  otherItems incomeTaxExpense totalRevenue  totalOperatingExpenses  \\\n",
       "0       None         37600000   6466000000              6450900000   \n",
       "\n",
       "   costOfRevenue  totalOtherIncomeExpenseNet  discontinuedOperations  \\\n",
       "0     4557300000                  -441900000                -6500000   \n",
       "\n",
       "   netIncomeFromContinuingOps  netIncomeApplicableToCommonShares  \n",
       "0                  -464400000                         -470900000  \n",
       "\n",
       "[1 rows x 22 columns]"
      ]
     },
     "execution_count": 148,
     "metadata": {},
     "output_type": "execute_result"
    }
   ],
   "source": [
    "string_df"
   ]
  },
  {
   "cell_type": "code",
   "execution_count": null,
   "metadata": {},
   "outputs": [],
   "source": []
  },
  {
   "cell_type": "code",
   "execution_count": null,
   "metadata": {},
   "outputs": [],
   "source": []
  },
  {
   "cell_type": "markdown",
   "metadata": {},
   "source": [
    "Uma outra forma mais fácil de obter todas as estatísticas principais de uma só vez:"
   ]
  },
  {
   "cell_type": "code",
   "execution_count": 41,
   "metadata": {},
   "outputs": [
    {
     "name": "stdout",
     "output_type": "stream",
     "text": [
      "{'GME': {'annualHoldingsTurnover': None, 'enterpriseToRevenue': 4.529, 'beta3Year': None, 'profitMargins': -0.053239997, 'enterpriseToEbitda': -180.657, '52WeekChange': 81.27848, 'morningStarRiskRating': None, 'forwardEps': -0.17, 'revenueQuarterlyGrowth': None, 'sharesOutstanding': 69747000, 'fundInceptionDate': '-', 'annualReportExpenseRatio': None, 'totalAssets': None, 'bookValue': 5.095, 'sharesShort': 61782730, 'sharesPercentSharesOut': 0.8858, 'fundFamily': None, 'lastFiscalYearEnd': 1580515200, 'heldPercentInstitutions': 1.2204499, 'netIncomeToCommon': -270000000, 'trailingEps': -4.224, 'lastDividendValue': 0.38, 'SandP52WeekChange': 0.14322305, 'priceToBook': 48.086384, 'heldPercentInsiders': 0.27334, 'nextFiscalYearEnd': 1643673600, 'yield': None, 'mostRecentQuarter': 1604102400, 'shortRatio': 2.81, 'sharesShortPreviousMonthDate': '2020-12-15', 'floatShares': 46888789, 'beta': 1.433298, 'enterpriseValue': 23376961536, 'priceHint': 2, 'threeYearAverageReturn': None, 'lastSplitDate': '2007-03-19', 'lastSplitFactor': '2:1', 'legalType': None, 'lastDividendDate': '2019-03-14', 'morningStarOverallRating': None, 'earningsQuarterlyGrowth': None, 'priceToSalesTrailing12Months': None, 'dateShortInterest': 1610668800, 'pegRatio': 0.18, 'ytdReturn': None, 'forwardPE': -1441.1771, 'maxAge': 1, 'lastCapGain': None, 'shortPercentOfFloat': 2.2642, 'sharesShortPriorMonth': 68127116, 'impliedSharesOutstanding': None, 'category': None, 'fiveYearAverageReturn': None}}\n"
     ]
    }
   ],
   "source": [
    "yahoo_financials = YahooFinancials('GME')\n",
    "print(yahoo_financials.get_key_statistics_data())"
   ]
  },
  {
   "cell_type": "code",
   "execution_count": 150,
   "metadata": {},
   "outputs": [],
   "source": [
    "key_statistics = yahoo_financials.get_key_statistics_data()"
   ]
  },
  {
   "cell_type": "markdown",
   "metadata": {},
   "source": [
    "Vamos transformar esse JSON em um data frame?"
   ]
  },
  {
   "cell_type": "code",
   "execution_count": 151,
   "metadata": {},
   "outputs": [],
   "source": [
    "key_statistics_df = pd.json_normalize(key_statistics['GME'])"
   ]
  },
  {
   "cell_type": "code",
   "execution_count": 157,
   "metadata": {},
   "outputs": [
    {
     "data": {
      "text/html": [
       "<div>\n",
       "<style scoped>\n",
       "    .dataframe tbody tr th:only-of-type {\n",
       "        vertical-align: middle;\n",
       "    }\n",
       "\n",
       "    .dataframe tbody tr th {\n",
       "        vertical-align: top;\n",
       "    }\n",
       "\n",
       "    .dataframe thead th {\n",
       "        text-align: right;\n",
       "    }\n",
       "</style>\n",
       "<table border=\"1\" class=\"dataframe\">\n",
       "  <thead>\n",
       "    <tr style=\"text-align: right;\">\n",
       "      <th></th>\n",
       "      <th>0</th>\n",
       "    </tr>\n",
       "  </thead>\n",
       "  <tbody>\n",
       "    <tr>\n",
       "      <th>annualHoldingsTurnover</th>\n",
       "      <td>None</td>\n",
       "    </tr>\n",
       "    <tr>\n",
       "      <th>enterpriseToRevenue</th>\n",
       "      <td>4.529</td>\n",
       "    </tr>\n",
       "    <tr>\n",
       "      <th>beta3Year</th>\n",
       "      <td>None</td>\n",
       "    </tr>\n",
       "    <tr>\n",
       "      <th>profitMargins</th>\n",
       "      <td>-0.05324</td>\n",
       "    </tr>\n",
       "    <tr>\n",
       "      <th>enterpriseToEbitda</th>\n",
       "      <td>-180.657</td>\n",
       "    </tr>\n",
       "    <tr>\n",
       "      <th>52WeekChange</th>\n",
       "      <td>81.2785</td>\n",
       "    </tr>\n",
       "    <tr>\n",
       "      <th>morningStarRiskRating</th>\n",
       "      <td>None</td>\n",
       "    </tr>\n",
       "    <tr>\n",
       "      <th>forwardEps</th>\n",
       "      <td>-0.17</td>\n",
       "    </tr>\n",
       "    <tr>\n",
       "      <th>revenueQuarterlyGrowth</th>\n",
       "      <td>None</td>\n",
       "    </tr>\n",
       "    <tr>\n",
       "      <th>sharesOutstanding</th>\n",
       "      <td>69747000</td>\n",
       "    </tr>\n",
       "    <tr>\n",
       "      <th>fundInceptionDate</th>\n",
       "      <td>-</td>\n",
       "    </tr>\n",
       "    <tr>\n",
       "      <th>annualReportExpenseRatio</th>\n",
       "      <td>None</td>\n",
       "    </tr>\n",
       "    <tr>\n",
       "      <th>totalAssets</th>\n",
       "      <td>None</td>\n",
       "    </tr>\n",
       "    <tr>\n",
       "      <th>bookValue</th>\n",
       "      <td>5.095</td>\n",
       "    </tr>\n",
       "    <tr>\n",
       "      <th>sharesShort</th>\n",
       "      <td>61782730</td>\n",
       "    </tr>\n",
       "    <tr>\n",
       "      <th>sharesPercentSharesOut</th>\n",
       "      <td>0.8858</td>\n",
       "    </tr>\n",
       "    <tr>\n",
       "      <th>fundFamily</th>\n",
       "      <td>None</td>\n",
       "    </tr>\n",
       "    <tr>\n",
       "      <th>lastFiscalYearEnd</th>\n",
       "      <td>1580515200</td>\n",
       "    </tr>\n",
       "    <tr>\n",
       "      <th>heldPercentInstitutions</th>\n",
       "      <td>1.22045</td>\n",
       "    </tr>\n",
       "    <tr>\n",
       "      <th>netIncomeToCommon</th>\n",
       "      <td>-270000000</td>\n",
       "    </tr>\n",
       "    <tr>\n",
       "      <th>trailingEps</th>\n",
       "      <td>-4.224</td>\n",
       "    </tr>\n",
       "    <tr>\n",
       "      <th>lastDividendValue</th>\n",
       "      <td>0.38</td>\n",
       "    </tr>\n",
       "    <tr>\n",
       "      <th>SandP52WeekChange</th>\n",
       "      <td>0.143223</td>\n",
       "    </tr>\n",
       "    <tr>\n",
       "      <th>priceToBook</th>\n",
       "      <td>48.0864</td>\n",
       "    </tr>\n",
       "    <tr>\n",
       "      <th>heldPercentInsiders</th>\n",
       "      <td>0.27334</td>\n",
       "    </tr>\n",
       "    <tr>\n",
       "      <th>nextFiscalYearEnd</th>\n",
       "      <td>1643673600</td>\n",
       "    </tr>\n",
       "    <tr>\n",
       "      <th>yield</th>\n",
       "      <td>None</td>\n",
       "    </tr>\n",
       "    <tr>\n",
       "      <th>mostRecentQuarter</th>\n",
       "      <td>1604102400</td>\n",
       "    </tr>\n",
       "    <tr>\n",
       "      <th>shortRatio</th>\n",
       "      <td>2.81</td>\n",
       "    </tr>\n",
       "    <tr>\n",
       "      <th>sharesShortPreviousMonthDate</th>\n",
       "      <td>2020-12-15</td>\n",
       "    </tr>\n",
       "    <tr>\n",
       "      <th>floatShares</th>\n",
       "      <td>46888789</td>\n",
       "    </tr>\n",
       "    <tr>\n",
       "      <th>beta</th>\n",
       "      <td>1.4333</td>\n",
       "    </tr>\n",
       "    <tr>\n",
       "      <th>enterpriseValue</th>\n",
       "      <td>23376961536</td>\n",
       "    </tr>\n",
       "    <tr>\n",
       "      <th>priceHint</th>\n",
       "      <td>2</td>\n",
       "    </tr>\n",
       "    <tr>\n",
       "      <th>threeYearAverageReturn</th>\n",
       "      <td>None</td>\n",
       "    </tr>\n",
       "    <tr>\n",
       "      <th>lastSplitDate</th>\n",
       "      <td>2007-03-19</td>\n",
       "    </tr>\n",
       "    <tr>\n",
       "      <th>lastSplitFactor</th>\n",
       "      <td>2:1</td>\n",
       "    </tr>\n",
       "    <tr>\n",
       "      <th>legalType</th>\n",
       "      <td>None</td>\n",
       "    </tr>\n",
       "    <tr>\n",
       "      <th>lastDividendDate</th>\n",
       "      <td>2019-03-14</td>\n",
       "    </tr>\n",
       "    <tr>\n",
       "      <th>morningStarOverallRating</th>\n",
       "      <td>None</td>\n",
       "    </tr>\n",
       "    <tr>\n",
       "      <th>earningsQuarterlyGrowth</th>\n",
       "      <td>None</td>\n",
       "    </tr>\n",
       "    <tr>\n",
       "      <th>priceToSalesTrailing12Months</th>\n",
       "      <td>None</td>\n",
       "    </tr>\n",
       "    <tr>\n",
       "      <th>dateShortInterest</th>\n",
       "      <td>1610668800</td>\n",
       "    </tr>\n",
       "    <tr>\n",
       "      <th>pegRatio</th>\n",
       "      <td>0.18</td>\n",
       "    </tr>\n",
       "    <tr>\n",
       "      <th>ytdReturn</th>\n",
       "      <td>None</td>\n",
       "    </tr>\n",
       "    <tr>\n",
       "      <th>forwardPE</th>\n",
       "      <td>-1441.18</td>\n",
       "    </tr>\n",
       "    <tr>\n",
       "      <th>maxAge</th>\n",
       "      <td>1</td>\n",
       "    </tr>\n",
       "    <tr>\n",
       "      <th>lastCapGain</th>\n",
       "      <td>None</td>\n",
       "    </tr>\n",
       "    <tr>\n",
       "      <th>shortPercentOfFloat</th>\n",
       "      <td>2.2642</td>\n",
       "    </tr>\n",
       "    <tr>\n",
       "      <th>sharesShortPriorMonth</th>\n",
       "      <td>68127116</td>\n",
       "    </tr>\n",
       "    <tr>\n",
       "      <th>impliedSharesOutstanding</th>\n",
       "      <td>None</td>\n",
       "    </tr>\n",
       "    <tr>\n",
       "      <th>category</th>\n",
       "      <td>None</td>\n",
       "    </tr>\n",
       "    <tr>\n",
       "      <th>fiveYearAverageReturn</th>\n",
       "      <td>None</td>\n",
       "    </tr>\n",
       "  </tbody>\n",
       "</table>\n",
       "</div>"
      ],
      "text/plain": [
       "                                        0\n",
       "annualHoldingsTurnover               None\n",
       "enterpriseToRevenue                 4.529\n",
       "beta3Year                            None\n",
       "profitMargins                    -0.05324\n",
       "enterpriseToEbitda               -180.657\n",
       "52WeekChange                      81.2785\n",
       "morningStarRiskRating                None\n",
       "forwardEps                          -0.17\n",
       "revenueQuarterlyGrowth               None\n",
       "sharesOutstanding                69747000\n",
       "fundInceptionDate                       -\n",
       "annualReportExpenseRatio             None\n",
       "totalAssets                          None\n",
       "bookValue                           5.095\n",
       "sharesShort                      61782730\n",
       "sharesPercentSharesOut             0.8858\n",
       "fundFamily                           None\n",
       "lastFiscalYearEnd              1580515200\n",
       "heldPercentInstitutions           1.22045\n",
       "netIncomeToCommon              -270000000\n",
       "trailingEps                        -4.224\n",
       "lastDividendValue                    0.38\n",
       "SandP52WeekChange                0.143223\n",
       "priceToBook                       48.0864\n",
       "heldPercentInsiders               0.27334\n",
       "nextFiscalYearEnd              1643673600\n",
       "yield                                None\n",
       "mostRecentQuarter              1604102400\n",
       "shortRatio                           2.81\n",
       "sharesShortPreviousMonthDate   2020-12-15\n",
       "floatShares                      46888789\n",
       "beta                               1.4333\n",
       "enterpriseValue               23376961536\n",
       "priceHint                               2\n",
       "threeYearAverageReturn               None\n",
       "lastSplitDate                  2007-03-19\n",
       "lastSplitFactor                       2:1\n",
       "legalType                            None\n",
       "lastDividendDate               2019-03-14\n",
       "morningStarOverallRating             None\n",
       "earningsQuarterlyGrowth              None\n",
       "priceToSalesTrailing12Months         None\n",
       "dateShortInterest              1610668800\n",
       "pegRatio                             0.18\n",
       "ytdReturn                            None\n",
       "forwardPE                        -1441.18\n",
       "maxAge                                  1\n",
       "lastCapGain                          None\n",
       "shortPercentOfFloat                2.2642\n",
       "sharesShortPriorMonth            68127116\n",
       "impliedSharesOutstanding             None\n",
       "category                             None\n",
       "fiveYearAverageReturn                None"
      ]
     },
     "execution_count": 157,
     "metadata": {},
     "output_type": "execute_result"
    }
   ],
   "source": [
    "key_statistics_df.transpose()"
   ]
  },
  {
   "cell_type": "markdown",
   "metadata": {},
   "source": [
    "# 5. Requests"
   ]
  },
  {
   "cell_type": "markdown",
   "metadata": {},
   "source": [
    "Vamos usar agora um pouco de webscraping para obter as informações de short interest direto da internet?"
   ]
  },
  {
   "cell_type": "code",
   "execution_count": 10,
   "metadata": {},
   "outputs": [],
   "source": [
    "import requests\n",
    "\n",
    "import pandas as pd"
   ]
  },
  {
   "cell_type": "code",
   "execution_count": 13,
   "metadata": {},
   "outputs": [],
   "source": [
    "url = \"https://www.marketbeat.com/short-interest/\""
   ]
  },
  {
   "cell_type": "code",
   "execution_count": 14,
   "metadata": {},
   "outputs": [],
   "source": [
    "response = requests.request(\"POST\", url)\n",
    "\n",
    "tables = pd.read_html(response.text)"
   ]
  },
  {
   "cell_type": "code",
   "execution_count": 15,
   "metadata": {},
   "outputs": [
    {
     "data": {
      "text/plain": [
       "[                                              Company  \\\n",
       " 0                          CHTRCharter Communications   \n",
       " 1                                       VIACViacomCBS   \n",
       " 2                                              AONAON   \n",
       " 3                                   ADIAnalog Devices   \n",
       " 4                                         MRNAModerna   \n",
       " 5                                 DDDuPont de Nemours   \n",
       " 6                           PLTRPalantir Technologies   \n",
       " 7                                            SNAPSnap   \n",
       " 8               IFFInternational Flavors & Fragrances   \n",
       " 9                                     BYNDBeyond Meat   \n",
       " 10  (adsbygoogle = window.adsbygoogle || []).push(...   \n",
       " 11                                       KRThe Kroger   \n",
       " 12                                      CLXThe Clorox   \n",
       " 13                                      SNOWSnowflake   \n",
       " 14                              BBBYBed Bath & Beyond   \n",
       " 15                                       SPWRSunPower   \n",
       " 16                                     DISCADiscovery   \n",
       " 17                            PTONPeloton Interactive   \n",
       " 18                                     ATUSAltice USA   \n",
       " 19                         LGNDLigand Pharmaceuticals   \n",
       " 20                                       DASHDoorDash   \n",
       " 21                                         ABNBAirbnb   \n",
       " 22                             PANWPalo Alto Networks   \n",
       " 23                                SPCEVirgin Galactic   \n",
       " 24                                   IRMIron Mountain   \n",
       " 25                                        DDOGDatadog   \n",
       " 26                                        PENPenumbra   \n",
       " 27                                           FUTUFutu   \n",
       " 28                              MPCMarathon Petroleum   \n",
       " 29                    WLTWWillis Towers Watson Public   \n",
       " 30                                         FUBOfuboTV   \n",
       " 31                                    MACThe Macerich   \n",
       " 32              CHKPCheck Point Software Technologies   \n",
       " 33                                               RHRH   \n",
       " 34                                            MMacy's   \n",
       " 35                                  EXPEExpedia Group   \n",
       " 36                                       FTCHFarfetch   \n",
       " 37                              STXSeagate Technology   \n",
       " 38                                          VMWVMware   \n",
       " 39                                         IRBTiRobot   \n",
       " 40                                   CGCCanopy Growth   \n",
       " 41                                      SIRISirius XM   \n",
       " 42                                       LMNDLemonade   \n",
       " 43                          NUANNuance Communications   \n",
       " 44                          KEYSKeysight Technologies   \n",
       " 45                                 ENPHEnphase Energy   \n",
       " 46                                        ESTCElastic   \n",
       " 47                                 ONON Semiconductor   \n",
       " 48                                         NKLANikola   \n",
       " 49                         OLLIOllie's Bargain Outlet   \n",
       " 50                                           LYFTLyft   \n",
       " 51  (adsbygoogle = window.adsbygoogle || []).push(...   \n",
       " \n",
       "                         Shares Sold Short (1/15/2021)  \\\n",
       " 0                                            10620000   \n",
       " 1                                           121250000   \n",
       " 2                                            22570000   \n",
       " 3                                            30400000   \n",
       " 4                                            24800000   \n",
       " 5                                            46490000   \n",
       " 6                                            98950000   \n",
       " 7                                            65420000   \n",
       " 8                                            29980000   \n",
       " 9                                            15440000   \n",
       " 10  (adsbygoogle = window.adsbygoogle || []).push(...   \n",
       " 11                                           76140000   \n",
       " 12                                           12730000   \n",
       " 13                                            9270000   \n",
       " 14                                           74890000   \n",
       " 15                                           46520000   \n",
       " 16                                           58070000   \n",
       " 17                                           15170000   \n",
       " 18                                           57460000   \n",
       " 19                                           10010000   \n",
       " 20                                            9810000   \n",
       " 21                                            9180000   \n",
       " 22                                            4810000   \n",
       " 23                                           38600000   \n",
       " 24                                           49800000   \n",
       " 25                                           16110000   \n",
       " 26                                            6060000   \n",
       " 27                                           16060000   \n",
       " 28                                           35060000   \n",
       " 29                                            7570000   \n",
       " 30                                           39170000   \n",
       " 31                                           78540000   \n",
       " 32                                           10870000   \n",
       " 33                                            2920000   \n",
       " 34                                           88790000   \n",
       " 35                                           10860000   \n",
       " 36                                           21740000   \n",
       " 37                                           19700000   \n",
       " 38                                            9210000   \n",
       " 39                                           10550000   \n",
       " 40                                           31910000   \n",
       " 41                                          198670000   \n",
       " 42                                            8490000   \n",
       " 43                                           27360000   \n",
       " 44                                            8590000   \n",
       " 45                                            6430000   \n",
       " 46                                            8050000   \n",
       " 47                                           34890000   \n",
       " 48                                           52610000   \n",
       " 49                                           12190000   \n",
       " 50                                           25510000   \n",
       " 51  (adsbygoogle = window.adsbygoogle || []).push(...   \n",
       " \n",
       "                               Dollar VolumeSold Short  \\\n",
       " 0                                       $6.95 billion   \n",
       " 1                                       $6.14 billion   \n",
       " 2                                       $4.66 billion   \n",
       " 3                                       $4.54 billion   \n",
       " 4                                       $3.96 billion   \n",
       " 5                                       $3.77 billion   \n",
       " 6                                       $3.53 billion   \n",
       " 7                                       $3.48 billion   \n",
       " 8                                       $3.45 billion   \n",
       " 9                                       $2.78 billion   \n",
       " 10  (adsbygoogle = window.adsbygoogle || []).push(...   \n",
       " 11                                      $2.69 billion   \n",
       " 12                                      $2.67 billion   \n",
       " 13                                      $2.53 billion   \n",
       " 14                                      $2.52 billion   \n",
       " 15                                      $2.46 billion   \n",
       " 16                                      $2.38 billion   \n",
       " 17                                      $2.21 billion   \n",
       " 18                                      $2.10 billion   \n",
       " 19                                      $1.92 billion   \n",
       " 20                                      $1.80 billion   \n",
       " 21                                      $1.72 billion   \n",
       " 22                                      $1.70 billion   \n",
       " 23                                      $1.66 billion   \n",
       " 24                                      $1.66 billion   \n",
       " 25                                      $1.61 billion   \n",
       " 26                                      $1.60 billion   \n",
       " 27                                      $1.59 billion   \n",
       " 28                                      $1.57 billion   \n",
       " 29                                      $1.56 billion   \n",
       " 30                                      $1.56 billion   \n",
       " 31                                      $1.49 billion   \n",
       " 32                                      $1.44 billion   \n",
       " 33                                      $1.39 billion   \n",
       " 34                                      $1.38 billion   \n",
       " 35                                      $1.38 billion   \n",
       " 36                                      $1.32 billion   \n",
       " 37                                      $1.31 billion   \n",
       " 38                                      $1.29 billion   \n",
       " 39                                      $1.29 billion   \n",
       " 40                                      $1.29 billion   \n",
       " 41                                      $1.27 billion   \n",
       " 42                                      $1.27 billion   \n",
       " 43                                      $1.26 billion   \n",
       " 44                                      $1.25 billion   \n",
       " 45                                      $1.25 billion   \n",
       " 46                                      $1.23 billion   \n",
       " 47                                      $1.23 billion   \n",
       " 48                                      $1.22 billion   \n",
       " 49                                      $1.19 billion   \n",
       " 50                                      $1.18 billion   \n",
       " 51  (adsbygoogle = window.adsbygoogle || []).push(...   \n",
       " \n",
       "                        Shares Sold Short (12/31/2020)  \\\n",
       " 0                                            10630000   \n",
       " 1                                           117920000   \n",
       " 2                                            21470000   \n",
       " 3                                            28260000   \n",
       " 4                                            23390000   \n",
       " 5                                            23670000   \n",
       " 6                                            90740000   \n",
       " 7                                            63160000   \n",
       " 8                                            19880000   \n",
       " 9                                            13690000   \n",
       " 10  (adsbygoogle = window.adsbygoogle || []).push(...   \n",
       " 11                                           73390000   \n",
       " 12                                           12280000   \n",
       " 13                                           10650000   \n",
       " 14                                           76180000   \n",
       " 15                                           43350000   \n",
       " 16                                           54610000   \n",
       " 17                                           17290000   \n",
       " 18                                           51610000   \n",
       " 19                                            9910000   \n",
       " 20                                            8820000   \n",
       " 21                                            7960000   \n",
       " 22                                            5360000   \n",
       " 23                                           43740000   \n",
       " 24                                           49690000   \n",
       " 25                                           15350000   \n",
       " 26                                            5930000   \n",
       " 27                                           13600000   \n",
       " 28                                           31890000   \n",
       " 29                                            6620000   \n",
       " 30                                           33860000   \n",
       " 31                                           80640000   \n",
       " 32                                           11430000   \n",
       " 33                                            2780000   \n",
       " 34                                          108650000   \n",
       " 35                                           13050000   \n",
       " 36                                           21020000   \n",
       " 37                                           16980000   \n",
       " 38                                            9280000   \n",
       " 39                                           10260000   \n",
       " 40                                           32380000   \n",
       " 41                                          191080000   \n",
       " 42                                            8280000   \n",
       " 43                                           24710000   \n",
       " 44                                            9410000   \n",
       " 45                                            8300000   \n",
       " 46                                            7520000   \n",
       " 47                                           31090000   \n",
       " 48                                           54440000   \n",
       " 49                                           12730000   \n",
       " 50                                           24520000   \n",
       " 51  (adsbygoogle = window.adsbygoogle || []).push(...   \n",
       " \n",
       "                                                Change  \\\n",
       " 0                                              -10000   \n",
       " 1                                             3330000   \n",
       " 2                                             1100000   \n",
       " 3                                             2140000   \n",
       " 4                                             1410000   \n",
       " 5                                            22820000   \n",
       " 6                                             8210000   \n",
       " 7                                             2260000   \n",
       " 8                                            10100000   \n",
       " 9                                             1750000   \n",
       " 10  (adsbygoogle = window.adsbygoogle || []).push(...   \n",
       " 11                                            2750000   \n",
       " 12                                             450000   \n",
       " 13                                           -1380000   \n",
       " 14                                           -1290000   \n",
       " 15                                            3170000   \n",
       " 16                                            3460000   \n",
       " 17                                           -2120000   \n",
       " 18                                            5850000   \n",
       " 19                                             100000   \n",
       " 20                                             990000   \n",
       " 21                                            1220000   \n",
       " 22                                            -550000   \n",
       " 23                                           -5140000   \n",
       " 24                                             110000   \n",
       " 25                                             760000   \n",
       " 26                                             130000   \n",
       " 27                                            2460000   \n",
       " 28                                            3170000   \n",
       " 29                                             950000   \n",
       " 30                                            5310000   \n",
       " 31                                           -2100000   \n",
       " 32                                            -560000   \n",
       " 33                                             140000   \n",
       " 34                                          -19860000   \n",
       " 35                                           -2190000   \n",
       " 36                                             720000   \n",
       " 37                                            2720000   \n",
       " 38                                             -70000   \n",
       " 39                                             290000   \n",
       " 40                                            -470000   \n",
       " 41                                            7590000   \n",
       " 42                                             210000   \n",
       " 43                                            2650000   \n",
       " 44                                            -820000   \n",
       " 45                                           -1870000   \n",
       " 46                                             530000   \n",
       " 47                                            3800000   \n",
       " 48                                           -1830000   \n",
       " 49                                            -540000   \n",
       " 50                                             990000   \n",
       " 51  (adsbygoogle = window.adsbygoogle || []).push(...   \n",
       " \n",
       "                                              % Change  \\\n",
       " 0                                               -0.1%   \n",
       " 1                                                2.8%   \n",
       " 2                                                5.1%   \n",
       " 3                                                7.6%   \n",
       " 4                                                6.0%   \n",
       " 5                                               96.4%   \n",
       " 6                                                0.0%   \n",
       " 7                                                3.6%   \n",
       " 8                                               50.8%   \n",
       " 9                                               12.8%   \n",
       " 10  (adsbygoogle = window.adsbygoogle || []).push(...   \n",
       " 11                                               3.8%   \n",
       " 12                                               3.7%   \n",
       " 13                                               0.0%   \n",
       " 14                                              -1.7%   \n",
       " 15                                               7.3%   \n",
       " 16                                               6.3%   \n",
       " 17                                             -12.3%   \n",
       " 18                                              11.3%   \n",
       " 19                                               1.0%   \n",
       " 20                                               0.0%   \n",
       " 21                                               0.0%   \n",
       " 22                                             -10.3%   \n",
       " 23                                             -11.8%   \n",
       " 24                                               0.2%   \n",
       " 25                                               5.0%   \n",
       " 26                                               2.2%   \n",
       " 27                                              18.1%   \n",
       " 28                                               9.9%   \n",
       " 29                                              14.4%   \n",
       " 30                                               0.0%   \n",
       " 31                                              -2.6%   \n",
       " 32                                              -4.9%   \n",
       " 33                                               5.0%   \n",
       " 34                                             -18.3%   \n",
       " 35                                             -16.8%   \n",
       " 36                                               3.4%   \n",
       " 37                                              16.0%   \n",
       " 38                                              -0.8%   \n",
       " 39                                               2.8%   \n",
       " 40                                              -1.5%   \n",
       " 41                                               4.0%   \n",
       " 42                                               0.0%   \n",
       " 43                                              10.7%   \n",
       " 44                                              -8.7%   \n",
       " 45                                             -22.5%   \n",
       " 46                                               7.1%   \n",
       " 47                                              12.2%   \n",
       " 48                                               0.0%   \n",
       " 49                                              -4.2%   \n",
       " 50                                               4.0%   \n",
       " 51  (adsbygoogle = window.adsbygoogle || []).push(...   \n",
       " \n",
       "                                               % Float  \\\n",
       " 0                                                7.9%   \n",
       " 1                                               22.4%   \n",
       " 2                                               10.0%   \n",
       " 3                                                8.3%   \n",
       " 4                                                7.6%   \n",
       " 5                                                6.4%   \n",
       " 6                                                9.7%   \n",
       " 7                                                7.0%   \n",
       " 8                                               28.1%   \n",
       " 9                                               42.9%   \n",
       " 10  (adsbygoogle = window.adsbygoogle || []).push(...   \n",
       " 11                                              10.1%   \n",
       " 12                                              10.1%   \n",
       " 13                                              19.9%   \n",
       " 14                                              65.5%   \n",
       " 15                                              57.5%   \n",
       " 16                                              37.6%   \n",
       " 17                                               6.2%   \n",
       " 18                                              23.8%   \n",
       " 19                                              64.9%   \n",
       " 20                                               7.9%   \n",
       " 21                                              11.3%   \n",
       " 22                                               5.1%   \n",
       " 23                                              72.0%   \n",
       " 24                                              17.5%   \n",
       " 25                                               8.8%   \n",
       " 26                                              17.8%   \n",
       " 27                                              25.7%   \n",
       " 28                                               5.4%   \n",
       " 29                                               5.9%   \n",
       " 30                                              71.9%   \n",
       " 31                                              56.9%   \n",
       " 32                                               9.9%   \n",
       " 33                                              16.0%   \n",
       " 34                                              28.8%   \n",
       " 35                                               9.2%   \n",
       " 36                                              10.5%   \n",
       " 37                                               7.7%   \n",
       " 38                                              11.7%   \n",
       " 39                                              38.5%   \n",
       " 40                                              14.0%   \n",
       " 41                                              18.4%   \n",
       " 42                                              30.9%   \n",
       " 43                                               9.7%   \n",
       " 44                                               5.3%   \n",
       " 45                                               5.5%   \n",
       " 46                                              12.7%   \n",
       " 47                                               8.6%   \n",
       " 48                                              35.7%   \n",
       " 49                                              21.5%   \n",
       " 50                                              10.4%   \n",
       " 51  (adsbygoogle = window.adsbygoogle || []).push(...   \n",
       " \n",
       "                                         Days to Cover  \\\n",
       " 0                                                 9.3   \n",
       " 1                                                 9.3   \n",
       " 2                                                13.8   \n",
       " 3                                                11.4   \n",
       " 4                                                 1.1   \n",
       " 5                                                 5.6   \n",
       " 6                                                 1.5   \n",
       " 7                                                 2.3   \n",
       " 8                                                10.4   \n",
       " 9                                                 3.2   \n",
       " 10  (adsbygoogle = window.adsbygoogle || []).push(...   \n",
       " 11                                                6.4   \n",
       " 12                                                  8   \n",
       " 13                                                2.1   \n",
       " 14                                                5.7   \n",
       " 15                                                5.2   \n",
       " 16                                                7.7   \n",
       " 17                                                1.3   \n",
       " 18                                                8.4   \n",
       " 19                                               21.5   \n",
       " 20                                                2.2   \n",
       " 21                                                0.8   \n",
       " 22                                                4.1   \n",
       " 23                                                2.3   \n",
       " 24                                               12.6   \n",
       " 25                                                4.4   \n",
       " 26                                                7.2   \n",
       " 27                                                3.7   \n",
       " 28                                                  5   \n",
       " 29                                                7.6   \n",
       " 30                                                2.1   \n",
       " 31                                               11.1   \n",
       " 32                                                9.7   \n",
       " 33                                                5.3   \n",
       " 34                                                2.9   \n",
       " 35                                                3.6   \n",
       " 36                                                3.7   \n",
       " 37                                                5.4   \n",
       " 38                                                6.1   \n",
       " 39                                               11.2   \n",
       " 40                                                4.7   \n",
       " 41                                                7.6   \n",
       " 42                                                2.4   \n",
       " 43                                                8.2   \n",
       " 44                                                6.3   \n",
       " 45                                                1.7   \n",
       " 46                                                  9   \n",
       " 47                                                4.9   \n",
       " 48                                                2.5   \n",
       " 49                                                9.4   \n",
       " 50                                                2.6   \n",
       " 51  (adsbygoogle = window.adsbygoogle || []).push(...   \n",
       " \n",
       "                                     Avg. Daily Volume  \n",
       " 0                                             1140000  \n",
       " 1                                            13090000  \n",
       " 2                                             1630000  \n",
       " 3                                             2670000  \n",
       " 4                                            23300000  \n",
       " 5                                             8300000  \n",
       " 6                                            67870000  \n",
       " 7                                            28910000  \n",
       " 8                                             2890000  \n",
       " 9                                             4840000  \n",
       " 10  (adsbygoogle = window.adsbygoogle || []).push(...  \n",
       " 11                                           11980000  \n",
       " 12                                            1590000  \n",
       " 13                                            4460000  \n",
       " 14                                           13100000  \n",
       " 15                                            8970000  \n",
       " 16                                            7500000  \n",
       " 17                                           11850000  \n",
       " 18                                            6840000  \n",
       " 19                                             464800  \n",
       " 20                                            4470000  \n",
       " 21                                           11320000  \n",
       " 22                                            1160000  \n",
       " 23                                           16850000  \n",
       " 24                                            3960000  \n",
       " 25                                            3640000  \n",
       " 26                                             840400  \n",
       " 27                                            4300000  \n",
       " 28                                            6960000  \n",
       " 29                                             999400  \n",
       " 30                                           18410000  \n",
       " 31                                            7100000  \n",
       " 32                                            1120000  \n",
       " 33                                             555500  \n",
       " 34                                           30130000  \n",
       " 35                                            3020000  \n",
       " 36                                            5850000  \n",
       " 37                                            3620000  \n",
       " 38                                            1520000  \n",
       " 39                                             944300  \n",
       " 40                                            6810000  \n",
       " 41                                           26300000  \n",
       " 42                                            3590000  \n",
       " 43                                            3350000  \n",
       " 44                                            1360000  \n",
       " 45                                            3700000  \n",
       " 46                                             893900  \n",
       " 47                                            7150000  \n",
       " 48                                           20640000  \n",
       " 49                                            1300000  \n",
       " 50                                            9870000  \n",
       " 51  (adsbygoogle = window.adsbygoogle || []).push(...  ]"
      ]
     },
     "execution_count": 15,
     "metadata": {},
     "output_type": "execute_result"
    }
   ],
   "source": [
    "tables"
   ]
  },
  {
   "cell_type": "code",
   "execution_count": 16,
   "metadata": {},
   "outputs": [],
   "source": [
    "pld_table = tables[0]"
   ]
  },
  {
   "cell_type": "code",
   "execution_count": 17,
   "metadata": {},
   "outputs": [
    {
     "data": {
      "text/html": [
       "<div>\n",
       "<style scoped>\n",
       "    .dataframe tbody tr th:only-of-type {\n",
       "        vertical-align: middle;\n",
       "    }\n",
       "\n",
       "    .dataframe tbody tr th {\n",
       "        vertical-align: top;\n",
       "    }\n",
       "\n",
       "    .dataframe thead th {\n",
       "        text-align: right;\n",
       "    }\n",
       "</style>\n",
       "<table border=\"1\" class=\"dataframe\">\n",
       "  <thead>\n",
       "    <tr style=\"text-align: right;\">\n",
       "      <th></th>\n",
       "      <th>Company</th>\n",
       "      <th>Shares Sold Short (1/15/2021)</th>\n",
       "      <th>Dollar VolumeSold Short</th>\n",
       "      <th>Shares Sold Short (12/31/2020)</th>\n",
       "      <th>Change</th>\n",
       "      <th>% Change</th>\n",
       "      <th>% Float</th>\n",
       "      <th>Days to Cover</th>\n",
       "      <th>Avg. Daily Volume</th>\n",
       "    </tr>\n",
       "  </thead>\n",
       "  <tbody>\n",
       "    <tr>\n",
       "      <th>0</th>\n",
       "      <td>CHTRCharter Communications</td>\n",
       "      <td>10620000</td>\n",
       "      <td>$6.95 billion</td>\n",
       "      <td>10630000</td>\n",
       "      <td>-10000</td>\n",
       "      <td>-0.1%</td>\n",
       "      <td>7.9%</td>\n",
       "      <td>9.3</td>\n",
       "      <td>1140000</td>\n",
       "    </tr>\n",
       "    <tr>\n",
       "      <th>1</th>\n",
       "      <td>VIACViacomCBS</td>\n",
       "      <td>121250000</td>\n",
       "      <td>$6.14 billion</td>\n",
       "      <td>117920000</td>\n",
       "      <td>3330000</td>\n",
       "      <td>2.8%</td>\n",
       "      <td>22.4%</td>\n",
       "      <td>9.3</td>\n",
       "      <td>13090000</td>\n",
       "    </tr>\n",
       "    <tr>\n",
       "      <th>2</th>\n",
       "      <td>AONAON</td>\n",
       "      <td>22570000</td>\n",
       "      <td>$4.66 billion</td>\n",
       "      <td>21470000</td>\n",
       "      <td>1100000</td>\n",
       "      <td>5.1%</td>\n",
       "      <td>10.0%</td>\n",
       "      <td>13.8</td>\n",
       "      <td>1630000</td>\n",
       "    </tr>\n",
       "    <tr>\n",
       "      <th>3</th>\n",
       "      <td>ADIAnalog Devices</td>\n",
       "      <td>30400000</td>\n",
       "      <td>$4.54 billion</td>\n",
       "      <td>28260000</td>\n",
       "      <td>2140000</td>\n",
       "      <td>7.6%</td>\n",
       "      <td>8.3%</td>\n",
       "      <td>11.4</td>\n",
       "      <td>2670000</td>\n",
       "    </tr>\n",
       "    <tr>\n",
       "      <th>4</th>\n",
       "      <td>MRNAModerna</td>\n",
       "      <td>24800000</td>\n",
       "      <td>$3.96 billion</td>\n",
       "      <td>23390000</td>\n",
       "      <td>1410000</td>\n",
       "      <td>6.0%</td>\n",
       "      <td>7.6%</td>\n",
       "      <td>1.1</td>\n",
       "      <td>23300000</td>\n",
       "    </tr>\n",
       "    <tr>\n",
       "      <th>5</th>\n",
       "      <td>DDDuPont de Nemours</td>\n",
       "      <td>46490000</td>\n",
       "      <td>$3.77 billion</td>\n",
       "      <td>23670000</td>\n",
       "      <td>22820000</td>\n",
       "      <td>96.4%</td>\n",
       "      <td>6.4%</td>\n",
       "      <td>5.6</td>\n",
       "      <td>8300000</td>\n",
       "    </tr>\n",
       "    <tr>\n",
       "      <th>6</th>\n",
       "      <td>PLTRPalantir Technologies</td>\n",
       "      <td>98950000</td>\n",
       "      <td>$3.53 billion</td>\n",
       "      <td>90740000</td>\n",
       "      <td>8210000</td>\n",
       "      <td>0.0%</td>\n",
       "      <td>9.7%</td>\n",
       "      <td>1.5</td>\n",
       "      <td>67870000</td>\n",
       "    </tr>\n",
       "    <tr>\n",
       "      <th>7</th>\n",
       "      <td>SNAPSnap</td>\n",
       "      <td>65420000</td>\n",
       "      <td>$3.48 billion</td>\n",
       "      <td>63160000</td>\n",
       "      <td>2260000</td>\n",
       "      <td>3.6%</td>\n",
       "      <td>7.0%</td>\n",
       "      <td>2.3</td>\n",
       "      <td>28910000</td>\n",
       "    </tr>\n",
       "    <tr>\n",
       "      <th>8</th>\n",
       "      <td>IFFInternational Flavors &amp; Fragrances</td>\n",
       "      <td>29980000</td>\n",
       "      <td>$3.45 billion</td>\n",
       "      <td>19880000</td>\n",
       "      <td>10100000</td>\n",
       "      <td>50.8%</td>\n",
       "      <td>28.1%</td>\n",
       "      <td>10.4</td>\n",
       "      <td>2890000</td>\n",
       "    </tr>\n",
       "    <tr>\n",
       "      <th>9</th>\n",
       "      <td>BYNDBeyond Meat</td>\n",
       "      <td>15440000</td>\n",
       "      <td>$2.78 billion</td>\n",
       "      <td>13690000</td>\n",
       "      <td>1750000</td>\n",
       "      <td>12.8%</td>\n",
       "      <td>42.9%</td>\n",
       "      <td>3.2</td>\n",
       "      <td>4840000</td>\n",
       "    </tr>\n",
       "    <tr>\n",
       "      <th>10</th>\n",
       "      <td>(adsbygoogle = window.adsbygoogle || []).push(...</td>\n",
       "      <td>(adsbygoogle = window.adsbygoogle || []).push(...</td>\n",
       "      <td>(adsbygoogle = window.adsbygoogle || []).push(...</td>\n",
       "      <td>(adsbygoogle = window.adsbygoogle || []).push(...</td>\n",
       "      <td>(adsbygoogle = window.adsbygoogle || []).push(...</td>\n",
       "      <td>(adsbygoogle = window.adsbygoogle || []).push(...</td>\n",
       "      <td>(adsbygoogle = window.adsbygoogle || []).push(...</td>\n",
       "      <td>(adsbygoogle = window.adsbygoogle || []).push(...</td>\n",
       "      <td>(adsbygoogle = window.adsbygoogle || []).push(...</td>\n",
       "    </tr>\n",
       "    <tr>\n",
       "      <th>11</th>\n",
       "      <td>KRThe Kroger</td>\n",
       "      <td>76140000</td>\n",
       "      <td>$2.69 billion</td>\n",
       "      <td>73390000</td>\n",
       "      <td>2750000</td>\n",
       "      <td>3.8%</td>\n",
       "      <td>10.1%</td>\n",
       "      <td>6.4</td>\n",
       "      <td>11980000</td>\n",
       "    </tr>\n",
       "    <tr>\n",
       "      <th>12</th>\n",
       "      <td>CLXThe Clorox</td>\n",
       "      <td>12730000</td>\n",
       "      <td>$2.67 billion</td>\n",
       "      <td>12280000</td>\n",
       "      <td>450000</td>\n",
       "      <td>3.7%</td>\n",
       "      <td>10.1%</td>\n",
       "      <td>8</td>\n",
       "      <td>1590000</td>\n",
       "    </tr>\n",
       "    <tr>\n",
       "      <th>13</th>\n",
       "      <td>SNOWSnowflake</td>\n",
       "      <td>9270000</td>\n",
       "      <td>$2.53 billion</td>\n",
       "      <td>10650000</td>\n",
       "      <td>-1380000</td>\n",
       "      <td>0.0%</td>\n",
       "      <td>19.9%</td>\n",
       "      <td>2.1</td>\n",
       "      <td>4460000</td>\n",
       "    </tr>\n",
       "    <tr>\n",
       "      <th>14</th>\n",
       "      <td>BBBYBed Bath &amp; Beyond</td>\n",
       "      <td>74890000</td>\n",
       "      <td>$2.52 billion</td>\n",
       "      <td>76180000</td>\n",
       "      <td>-1290000</td>\n",
       "      <td>-1.7%</td>\n",
       "      <td>65.5%</td>\n",
       "      <td>5.7</td>\n",
       "      <td>13100000</td>\n",
       "    </tr>\n",
       "    <tr>\n",
       "      <th>15</th>\n",
       "      <td>SPWRSunPower</td>\n",
       "      <td>46520000</td>\n",
       "      <td>$2.46 billion</td>\n",
       "      <td>43350000</td>\n",
       "      <td>3170000</td>\n",
       "      <td>7.3%</td>\n",
       "      <td>57.5%</td>\n",
       "      <td>5.2</td>\n",
       "      <td>8970000</td>\n",
       "    </tr>\n",
       "    <tr>\n",
       "      <th>16</th>\n",
       "      <td>DISCADiscovery</td>\n",
       "      <td>58070000</td>\n",
       "      <td>$2.38 billion</td>\n",
       "      <td>54610000</td>\n",
       "      <td>3460000</td>\n",
       "      <td>6.3%</td>\n",
       "      <td>37.6%</td>\n",
       "      <td>7.7</td>\n",
       "      <td>7500000</td>\n",
       "    </tr>\n",
       "    <tr>\n",
       "      <th>17</th>\n",
       "      <td>PTONPeloton Interactive</td>\n",
       "      <td>15170000</td>\n",
       "      <td>$2.21 billion</td>\n",
       "      <td>17290000</td>\n",
       "      <td>-2120000</td>\n",
       "      <td>-12.3%</td>\n",
       "      <td>6.2%</td>\n",
       "      <td>1.3</td>\n",
       "      <td>11850000</td>\n",
       "    </tr>\n",
       "    <tr>\n",
       "      <th>18</th>\n",
       "      <td>ATUSAltice USA</td>\n",
       "      <td>57460000</td>\n",
       "      <td>$2.10 billion</td>\n",
       "      <td>51610000</td>\n",
       "      <td>5850000</td>\n",
       "      <td>11.3%</td>\n",
       "      <td>23.8%</td>\n",
       "      <td>8.4</td>\n",
       "      <td>6840000</td>\n",
       "    </tr>\n",
       "    <tr>\n",
       "      <th>19</th>\n",
       "      <td>LGNDLigand Pharmaceuticals</td>\n",
       "      <td>10010000</td>\n",
       "      <td>$1.92 billion</td>\n",
       "      <td>9910000</td>\n",
       "      <td>100000</td>\n",
       "      <td>1.0%</td>\n",
       "      <td>64.9%</td>\n",
       "      <td>21.5</td>\n",
       "      <td>464800</td>\n",
       "    </tr>\n",
       "    <tr>\n",
       "      <th>20</th>\n",
       "      <td>DASHDoorDash</td>\n",
       "      <td>9810000</td>\n",
       "      <td>$1.80 billion</td>\n",
       "      <td>8820000</td>\n",
       "      <td>990000</td>\n",
       "      <td>0.0%</td>\n",
       "      <td>7.9%</td>\n",
       "      <td>2.2</td>\n",
       "      <td>4470000</td>\n",
       "    </tr>\n",
       "    <tr>\n",
       "      <th>21</th>\n",
       "      <td>ABNBAirbnb</td>\n",
       "      <td>9180000</td>\n",
       "      <td>$1.72 billion</td>\n",
       "      <td>7960000</td>\n",
       "      <td>1220000</td>\n",
       "      <td>0.0%</td>\n",
       "      <td>11.3%</td>\n",
       "      <td>0.8</td>\n",
       "      <td>11320000</td>\n",
       "    </tr>\n",
       "    <tr>\n",
       "      <th>22</th>\n",
       "      <td>PANWPalo Alto Networks</td>\n",
       "      <td>4810000</td>\n",
       "      <td>$1.70 billion</td>\n",
       "      <td>5360000</td>\n",
       "      <td>-550000</td>\n",
       "      <td>-10.3%</td>\n",
       "      <td>5.1%</td>\n",
       "      <td>4.1</td>\n",
       "      <td>1160000</td>\n",
       "    </tr>\n",
       "    <tr>\n",
       "      <th>23</th>\n",
       "      <td>SPCEVirgin Galactic</td>\n",
       "      <td>38600000</td>\n",
       "      <td>$1.66 billion</td>\n",
       "      <td>43740000</td>\n",
       "      <td>-5140000</td>\n",
       "      <td>-11.8%</td>\n",
       "      <td>72.0%</td>\n",
       "      <td>2.3</td>\n",
       "      <td>16850000</td>\n",
       "    </tr>\n",
       "    <tr>\n",
       "      <th>24</th>\n",
       "      <td>IRMIron Mountain</td>\n",
       "      <td>49800000</td>\n",
       "      <td>$1.66 billion</td>\n",
       "      <td>49690000</td>\n",
       "      <td>110000</td>\n",
       "      <td>0.2%</td>\n",
       "      <td>17.5%</td>\n",
       "      <td>12.6</td>\n",
       "      <td>3960000</td>\n",
       "    </tr>\n",
       "    <tr>\n",
       "      <th>25</th>\n",
       "      <td>DDOGDatadog</td>\n",
       "      <td>16110000</td>\n",
       "      <td>$1.61 billion</td>\n",
       "      <td>15350000</td>\n",
       "      <td>760000</td>\n",
       "      <td>5.0%</td>\n",
       "      <td>8.8%</td>\n",
       "      <td>4.4</td>\n",
       "      <td>3640000</td>\n",
       "    </tr>\n",
       "    <tr>\n",
       "      <th>26</th>\n",
       "      <td>PENPenumbra</td>\n",
       "      <td>6060000</td>\n",
       "      <td>$1.60 billion</td>\n",
       "      <td>5930000</td>\n",
       "      <td>130000</td>\n",
       "      <td>2.2%</td>\n",
       "      <td>17.8%</td>\n",
       "      <td>7.2</td>\n",
       "      <td>840400</td>\n",
       "    </tr>\n",
       "    <tr>\n",
       "      <th>27</th>\n",
       "      <td>FUTUFutu</td>\n",
       "      <td>16060000</td>\n",
       "      <td>$1.59 billion</td>\n",
       "      <td>13600000</td>\n",
       "      <td>2460000</td>\n",
       "      <td>18.1%</td>\n",
       "      <td>25.7%</td>\n",
       "      <td>3.7</td>\n",
       "      <td>4300000</td>\n",
       "    </tr>\n",
       "    <tr>\n",
       "      <th>28</th>\n",
       "      <td>MPCMarathon Petroleum</td>\n",
       "      <td>35060000</td>\n",
       "      <td>$1.57 billion</td>\n",
       "      <td>31890000</td>\n",
       "      <td>3170000</td>\n",
       "      <td>9.9%</td>\n",
       "      <td>5.4%</td>\n",
       "      <td>5</td>\n",
       "      <td>6960000</td>\n",
       "    </tr>\n",
       "    <tr>\n",
       "      <th>29</th>\n",
       "      <td>WLTWWillis Towers Watson Public</td>\n",
       "      <td>7570000</td>\n",
       "      <td>$1.56 billion</td>\n",
       "      <td>6620000</td>\n",
       "      <td>950000</td>\n",
       "      <td>14.4%</td>\n",
       "      <td>5.9%</td>\n",
       "      <td>7.6</td>\n",
       "      <td>999400</td>\n",
       "    </tr>\n",
       "    <tr>\n",
       "      <th>30</th>\n",
       "      <td>FUBOfuboTV</td>\n",
       "      <td>39170000</td>\n",
       "      <td>$1.56 billion</td>\n",
       "      <td>33860000</td>\n",
       "      <td>5310000</td>\n",
       "      <td>0.0%</td>\n",
       "      <td>71.9%</td>\n",
       "      <td>2.1</td>\n",
       "      <td>18410000</td>\n",
       "    </tr>\n",
       "    <tr>\n",
       "      <th>31</th>\n",
       "      <td>MACThe Macerich</td>\n",
       "      <td>78540000</td>\n",
       "      <td>$1.49 billion</td>\n",
       "      <td>80640000</td>\n",
       "      <td>-2100000</td>\n",
       "      <td>-2.6%</td>\n",
       "      <td>56.9%</td>\n",
       "      <td>11.1</td>\n",
       "      <td>7100000</td>\n",
       "    </tr>\n",
       "    <tr>\n",
       "      <th>32</th>\n",
       "      <td>CHKPCheck Point Software Technologies</td>\n",
       "      <td>10870000</td>\n",
       "      <td>$1.44 billion</td>\n",
       "      <td>11430000</td>\n",
       "      <td>-560000</td>\n",
       "      <td>-4.9%</td>\n",
       "      <td>9.9%</td>\n",
       "      <td>9.7</td>\n",
       "      <td>1120000</td>\n",
       "    </tr>\n",
       "    <tr>\n",
       "      <th>33</th>\n",
       "      <td>RHRH</td>\n",
       "      <td>2920000</td>\n",
       "      <td>$1.39 billion</td>\n",
       "      <td>2780000</td>\n",
       "      <td>140000</td>\n",
       "      <td>5.0%</td>\n",
       "      <td>16.0%</td>\n",
       "      <td>5.3</td>\n",
       "      <td>555500</td>\n",
       "    </tr>\n",
       "    <tr>\n",
       "      <th>34</th>\n",
       "      <td>MMacy's</td>\n",
       "      <td>88790000</td>\n",
       "      <td>$1.38 billion</td>\n",
       "      <td>108650000</td>\n",
       "      <td>-19860000</td>\n",
       "      <td>-18.3%</td>\n",
       "      <td>28.8%</td>\n",
       "      <td>2.9</td>\n",
       "      <td>30130000</td>\n",
       "    </tr>\n",
       "    <tr>\n",
       "      <th>35</th>\n",
       "      <td>EXPEExpedia Group</td>\n",
       "      <td>10860000</td>\n",
       "      <td>$1.38 billion</td>\n",
       "      <td>13050000</td>\n",
       "      <td>-2190000</td>\n",
       "      <td>-16.8%</td>\n",
       "      <td>9.2%</td>\n",
       "      <td>3.6</td>\n",
       "      <td>3020000</td>\n",
       "    </tr>\n",
       "    <tr>\n",
       "      <th>36</th>\n",
       "      <td>FTCHFarfetch</td>\n",
       "      <td>21740000</td>\n",
       "      <td>$1.32 billion</td>\n",
       "      <td>21020000</td>\n",
       "      <td>720000</td>\n",
       "      <td>3.4%</td>\n",
       "      <td>10.5%</td>\n",
       "      <td>3.7</td>\n",
       "      <td>5850000</td>\n",
       "    </tr>\n",
       "    <tr>\n",
       "      <th>37</th>\n",
       "      <td>STXSeagate Technology</td>\n",
       "      <td>19700000</td>\n",
       "      <td>$1.31 billion</td>\n",
       "      <td>16980000</td>\n",
       "      <td>2720000</td>\n",
       "      <td>16.0%</td>\n",
       "      <td>7.7%</td>\n",
       "      <td>5.4</td>\n",
       "      <td>3620000</td>\n",
       "    </tr>\n",
       "    <tr>\n",
       "      <th>38</th>\n",
       "      <td>VMWVMware</td>\n",
       "      <td>9210000</td>\n",
       "      <td>$1.29 billion</td>\n",
       "      <td>9280000</td>\n",
       "      <td>-70000</td>\n",
       "      <td>-0.8%</td>\n",
       "      <td>11.7%</td>\n",
       "      <td>6.1</td>\n",
       "      <td>1520000</td>\n",
       "    </tr>\n",
       "    <tr>\n",
       "      <th>39</th>\n",
       "      <td>IRBTiRobot</td>\n",
       "      <td>10550000</td>\n",
       "      <td>$1.29 billion</td>\n",
       "      <td>10260000</td>\n",
       "      <td>290000</td>\n",
       "      <td>2.8%</td>\n",
       "      <td>38.5%</td>\n",
       "      <td>11.2</td>\n",
       "      <td>944300</td>\n",
       "    </tr>\n",
       "    <tr>\n",
       "      <th>40</th>\n",
       "      <td>CGCCanopy Growth</td>\n",
       "      <td>31910000</td>\n",
       "      <td>$1.29 billion</td>\n",
       "      <td>32380000</td>\n",
       "      <td>-470000</td>\n",
       "      <td>-1.5%</td>\n",
       "      <td>14.0%</td>\n",
       "      <td>4.7</td>\n",
       "      <td>6810000</td>\n",
       "    </tr>\n",
       "    <tr>\n",
       "      <th>41</th>\n",
       "      <td>SIRISirius XM</td>\n",
       "      <td>198670000</td>\n",
       "      <td>$1.27 billion</td>\n",
       "      <td>191080000</td>\n",
       "      <td>7590000</td>\n",
       "      <td>4.0%</td>\n",
       "      <td>18.4%</td>\n",
       "      <td>7.6</td>\n",
       "      <td>26300000</td>\n",
       "    </tr>\n",
       "    <tr>\n",
       "      <th>42</th>\n",
       "      <td>LMNDLemonade</td>\n",
       "      <td>8490000</td>\n",
       "      <td>$1.27 billion</td>\n",
       "      <td>8280000</td>\n",
       "      <td>210000</td>\n",
       "      <td>0.0%</td>\n",
       "      <td>30.9%</td>\n",
       "      <td>2.4</td>\n",
       "      <td>3590000</td>\n",
       "    </tr>\n",
       "    <tr>\n",
       "      <th>43</th>\n",
       "      <td>NUANNuance Communications</td>\n",
       "      <td>27360000</td>\n",
       "      <td>$1.26 billion</td>\n",
       "      <td>24710000</td>\n",
       "      <td>2650000</td>\n",
       "      <td>10.7%</td>\n",
       "      <td>9.7%</td>\n",
       "      <td>8.2</td>\n",
       "      <td>3350000</td>\n",
       "    </tr>\n",
       "    <tr>\n",
       "      <th>44</th>\n",
       "      <td>KEYSKeysight Technologies</td>\n",
       "      <td>8590000</td>\n",
       "      <td>$1.25 billion</td>\n",
       "      <td>9410000</td>\n",
       "      <td>-820000</td>\n",
       "      <td>-8.7%</td>\n",
       "      <td>5.3%</td>\n",
       "      <td>6.3</td>\n",
       "      <td>1360000</td>\n",
       "    </tr>\n",
       "    <tr>\n",
       "      <th>45</th>\n",
       "      <td>ENPHEnphase Energy</td>\n",
       "      <td>6430000</td>\n",
       "      <td>$1.25 billion</td>\n",
       "      <td>8300000</td>\n",
       "      <td>-1870000</td>\n",
       "      <td>-22.5%</td>\n",
       "      <td>5.5%</td>\n",
       "      <td>1.7</td>\n",
       "      <td>3700000</td>\n",
       "    </tr>\n",
       "    <tr>\n",
       "      <th>46</th>\n",
       "      <td>ESTCElastic</td>\n",
       "      <td>8050000</td>\n",
       "      <td>$1.23 billion</td>\n",
       "      <td>7520000</td>\n",
       "      <td>530000</td>\n",
       "      <td>7.1%</td>\n",
       "      <td>12.7%</td>\n",
       "      <td>9</td>\n",
       "      <td>893900</td>\n",
       "    </tr>\n",
       "    <tr>\n",
       "      <th>47</th>\n",
       "      <td>ONON Semiconductor</td>\n",
       "      <td>34890000</td>\n",
       "      <td>$1.23 billion</td>\n",
       "      <td>31090000</td>\n",
       "      <td>3800000</td>\n",
       "      <td>12.2%</td>\n",
       "      <td>8.6%</td>\n",
       "      <td>4.9</td>\n",
       "      <td>7150000</td>\n",
       "    </tr>\n",
       "    <tr>\n",
       "      <th>48</th>\n",
       "      <td>NKLANikola</td>\n",
       "      <td>52610000</td>\n",
       "      <td>$1.22 billion</td>\n",
       "      <td>54440000</td>\n",
       "      <td>-1830000</td>\n",
       "      <td>0.0%</td>\n",
       "      <td>35.7%</td>\n",
       "      <td>2.5</td>\n",
       "      <td>20640000</td>\n",
       "    </tr>\n",
       "    <tr>\n",
       "      <th>49</th>\n",
       "      <td>OLLIOllie's Bargain Outlet</td>\n",
       "      <td>12190000</td>\n",
       "      <td>$1.19 billion</td>\n",
       "      <td>12730000</td>\n",
       "      <td>-540000</td>\n",
       "      <td>-4.2%</td>\n",
       "      <td>21.5%</td>\n",
       "      <td>9.4</td>\n",
       "      <td>1300000</td>\n",
       "    </tr>\n",
       "    <tr>\n",
       "      <th>50</th>\n",
       "      <td>LYFTLyft</td>\n",
       "      <td>25510000</td>\n",
       "      <td>$1.18 billion</td>\n",
       "      <td>24520000</td>\n",
       "      <td>990000</td>\n",
       "      <td>4.0%</td>\n",
       "      <td>10.4%</td>\n",
       "      <td>2.6</td>\n",
       "      <td>9870000</td>\n",
       "    </tr>\n",
       "    <tr>\n",
       "      <th>51</th>\n",
       "      <td>(adsbygoogle = window.adsbygoogle || []).push(...</td>\n",
       "      <td>(adsbygoogle = window.adsbygoogle || []).push(...</td>\n",
       "      <td>(adsbygoogle = window.adsbygoogle || []).push(...</td>\n",
       "      <td>(adsbygoogle = window.adsbygoogle || []).push(...</td>\n",
       "      <td>(adsbygoogle = window.adsbygoogle || []).push(...</td>\n",
       "      <td>(adsbygoogle = window.adsbygoogle || []).push(...</td>\n",
       "      <td>(adsbygoogle = window.adsbygoogle || []).push(...</td>\n",
       "      <td>(adsbygoogle = window.adsbygoogle || []).push(...</td>\n",
       "      <td>(adsbygoogle = window.adsbygoogle || []).push(...</td>\n",
       "    </tr>\n",
       "  </tbody>\n",
       "</table>\n",
       "</div>"
      ],
      "text/plain": [
       "                                              Company  \\\n",
       "0                          CHTRCharter Communications   \n",
       "1                                       VIACViacomCBS   \n",
       "2                                              AONAON   \n",
       "3                                   ADIAnalog Devices   \n",
       "4                                         MRNAModerna   \n",
       "5                                 DDDuPont de Nemours   \n",
       "6                           PLTRPalantir Technologies   \n",
       "7                                            SNAPSnap   \n",
       "8               IFFInternational Flavors & Fragrances   \n",
       "9                                     BYNDBeyond Meat   \n",
       "10  (adsbygoogle = window.adsbygoogle || []).push(...   \n",
       "11                                       KRThe Kroger   \n",
       "12                                      CLXThe Clorox   \n",
       "13                                      SNOWSnowflake   \n",
       "14                              BBBYBed Bath & Beyond   \n",
       "15                                       SPWRSunPower   \n",
       "16                                     DISCADiscovery   \n",
       "17                            PTONPeloton Interactive   \n",
       "18                                     ATUSAltice USA   \n",
       "19                         LGNDLigand Pharmaceuticals   \n",
       "20                                       DASHDoorDash   \n",
       "21                                         ABNBAirbnb   \n",
       "22                             PANWPalo Alto Networks   \n",
       "23                                SPCEVirgin Galactic   \n",
       "24                                   IRMIron Mountain   \n",
       "25                                        DDOGDatadog   \n",
       "26                                        PENPenumbra   \n",
       "27                                           FUTUFutu   \n",
       "28                              MPCMarathon Petroleum   \n",
       "29                    WLTWWillis Towers Watson Public   \n",
       "30                                         FUBOfuboTV   \n",
       "31                                    MACThe Macerich   \n",
       "32              CHKPCheck Point Software Technologies   \n",
       "33                                               RHRH   \n",
       "34                                            MMacy's   \n",
       "35                                  EXPEExpedia Group   \n",
       "36                                       FTCHFarfetch   \n",
       "37                              STXSeagate Technology   \n",
       "38                                          VMWVMware   \n",
       "39                                         IRBTiRobot   \n",
       "40                                   CGCCanopy Growth   \n",
       "41                                      SIRISirius XM   \n",
       "42                                       LMNDLemonade   \n",
       "43                          NUANNuance Communications   \n",
       "44                          KEYSKeysight Technologies   \n",
       "45                                 ENPHEnphase Energy   \n",
       "46                                        ESTCElastic   \n",
       "47                                 ONON Semiconductor   \n",
       "48                                         NKLANikola   \n",
       "49                         OLLIOllie's Bargain Outlet   \n",
       "50                                           LYFTLyft   \n",
       "51  (adsbygoogle = window.adsbygoogle || []).push(...   \n",
       "\n",
       "                        Shares Sold Short (1/15/2021)  \\\n",
       "0                                            10620000   \n",
       "1                                           121250000   \n",
       "2                                            22570000   \n",
       "3                                            30400000   \n",
       "4                                            24800000   \n",
       "5                                            46490000   \n",
       "6                                            98950000   \n",
       "7                                            65420000   \n",
       "8                                            29980000   \n",
       "9                                            15440000   \n",
       "10  (adsbygoogle = window.adsbygoogle || []).push(...   \n",
       "11                                           76140000   \n",
       "12                                           12730000   \n",
       "13                                            9270000   \n",
       "14                                           74890000   \n",
       "15                                           46520000   \n",
       "16                                           58070000   \n",
       "17                                           15170000   \n",
       "18                                           57460000   \n",
       "19                                           10010000   \n",
       "20                                            9810000   \n",
       "21                                            9180000   \n",
       "22                                            4810000   \n",
       "23                                           38600000   \n",
       "24                                           49800000   \n",
       "25                                           16110000   \n",
       "26                                            6060000   \n",
       "27                                           16060000   \n",
       "28                                           35060000   \n",
       "29                                            7570000   \n",
       "30                                           39170000   \n",
       "31                                           78540000   \n",
       "32                                           10870000   \n",
       "33                                            2920000   \n",
       "34                                           88790000   \n",
       "35                                           10860000   \n",
       "36                                           21740000   \n",
       "37                                           19700000   \n",
       "38                                            9210000   \n",
       "39                                           10550000   \n",
       "40                                           31910000   \n",
       "41                                          198670000   \n",
       "42                                            8490000   \n",
       "43                                           27360000   \n",
       "44                                            8590000   \n",
       "45                                            6430000   \n",
       "46                                            8050000   \n",
       "47                                           34890000   \n",
       "48                                           52610000   \n",
       "49                                           12190000   \n",
       "50                                           25510000   \n",
       "51  (adsbygoogle = window.adsbygoogle || []).push(...   \n",
       "\n",
       "                              Dollar VolumeSold Short  \\\n",
       "0                                       $6.95 billion   \n",
       "1                                       $6.14 billion   \n",
       "2                                       $4.66 billion   \n",
       "3                                       $4.54 billion   \n",
       "4                                       $3.96 billion   \n",
       "5                                       $3.77 billion   \n",
       "6                                       $3.53 billion   \n",
       "7                                       $3.48 billion   \n",
       "8                                       $3.45 billion   \n",
       "9                                       $2.78 billion   \n",
       "10  (adsbygoogle = window.adsbygoogle || []).push(...   \n",
       "11                                      $2.69 billion   \n",
       "12                                      $2.67 billion   \n",
       "13                                      $2.53 billion   \n",
       "14                                      $2.52 billion   \n",
       "15                                      $2.46 billion   \n",
       "16                                      $2.38 billion   \n",
       "17                                      $2.21 billion   \n",
       "18                                      $2.10 billion   \n",
       "19                                      $1.92 billion   \n",
       "20                                      $1.80 billion   \n",
       "21                                      $1.72 billion   \n",
       "22                                      $1.70 billion   \n",
       "23                                      $1.66 billion   \n",
       "24                                      $1.66 billion   \n",
       "25                                      $1.61 billion   \n",
       "26                                      $1.60 billion   \n",
       "27                                      $1.59 billion   \n",
       "28                                      $1.57 billion   \n",
       "29                                      $1.56 billion   \n",
       "30                                      $1.56 billion   \n",
       "31                                      $1.49 billion   \n",
       "32                                      $1.44 billion   \n",
       "33                                      $1.39 billion   \n",
       "34                                      $1.38 billion   \n",
       "35                                      $1.38 billion   \n",
       "36                                      $1.32 billion   \n",
       "37                                      $1.31 billion   \n",
       "38                                      $1.29 billion   \n",
       "39                                      $1.29 billion   \n",
       "40                                      $1.29 billion   \n",
       "41                                      $1.27 billion   \n",
       "42                                      $1.27 billion   \n",
       "43                                      $1.26 billion   \n",
       "44                                      $1.25 billion   \n",
       "45                                      $1.25 billion   \n",
       "46                                      $1.23 billion   \n",
       "47                                      $1.23 billion   \n",
       "48                                      $1.22 billion   \n",
       "49                                      $1.19 billion   \n",
       "50                                      $1.18 billion   \n",
       "51  (adsbygoogle = window.adsbygoogle || []).push(...   \n",
       "\n",
       "                       Shares Sold Short (12/31/2020)  \\\n",
       "0                                            10630000   \n",
       "1                                           117920000   \n",
       "2                                            21470000   \n",
       "3                                            28260000   \n",
       "4                                            23390000   \n",
       "5                                            23670000   \n",
       "6                                            90740000   \n",
       "7                                            63160000   \n",
       "8                                            19880000   \n",
       "9                                            13690000   \n",
       "10  (adsbygoogle = window.adsbygoogle || []).push(...   \n",
       "11                                           73390000   \n",
       "12                                           12280000   \n",
       "13                                           10650000   \n",
       "14                                           76180000   \n",
       "15                                           43350000   \n",
       "16                                           54610000   \n",
       "17                                           17290000   \n",
       "18                                           51610000   \n",
       "19                                            9910000   \n",
       "20                                            8820000   \n",
       "21                                            7960000   \n",
       "22                                            5360000   \n",
       "23                                           43740000   \n",
       "24                                           49690000   \n",
       "25                                           15350000   \n",
       "26                                            5930000   \n",
       "27                                           13600000   \n",
       "28                                           31890000   \n",
       "29                                            6620000   \n",
       "30                                           33860000   \n",
       "31                                           80640000   \n",
       "32                                           11430000   \n",
       "33                                            2780000   \n",
       "34                                          108650000   \n",
       "35                                           13050000   \n",
       "36                                           21020000   \n",
       "37                                           16980000   \n",
       "38                                            9280000   \n",
       "39                                           10260000   \n",
       "40                                           32380000   \n",
       "41                                          191080000   \n",
       "42                                            8280000   \n",
       "43                                           24710000   \n",
       "44                                            9410000   \n",
       "45                                            8300000   \n",
       "46                                            7520000   \n",
       "47                                           31090000   \n",
       "48                                           54440000   \n",
       "49                                           12730000   \n",
       "50                                           24520000   \n",
       "51  (adsbygoogle = window.adsbygoogle || []).push(...   \n",
       "\n",
       "                                               Change  \\\n",
       "0                                              -10000   \n",
       "1                                             3330000   \n",
       "2                                             1100000   \n",
       "3                                             2140000   \n",
       "4                                             1410000   \n",
       "5                                            22820000   \n",
       "6                                             8210000   \n",
       "7                                             2260000   \n",
       "8                                            10100000   \n",
       "9                                             1750000   \n",
       "10  (adsbygoogle = window.adsbygoogle || []).push(...   \n",
       "11                                            2750000   \n",
       "12                                             450000   \n",
       "13                                           -1380000   \n",
       "14                                           -1290000   \n",
       "15                                            3170000   \n",
       "16                                            3460000   \n",
       "17                                           -2120000   \n",
       "18                                            5850000   \n",
       "19                                             100000   \n",
       "20                                             990000   \n",
       "21                                            1220000   \n",
       "22                                            -550000   \n",
       "23                                           -5140000   \n",
       "24                                             110000   \n",
       "25                                             760000   \n",
       "26                                             130000   \n",
       "27                                            2460000   \n",
       "28                                            3170000   \n",
       "29                                             950000   \n",
       "30                                            5310000   \n",
       "31                                           -2100000   \n",
       "32                                            -560000   \n",
       "33                                             140000   \n",
       "34                                          -19860000   \n",
       "35                                           -2190000   \n",
       "36                                             720000   \n",
       "37                                            2720000   \n",
       "38                                             -70000   \n",
       "39                                             290000   \n",
       "40                                            -470000   \n",
       "41                                            7590000   \n",
       "42                                             210000   \n",
       "43                                            2650000   \n",
       "44                                            -820000   \n",
       "45                                           -1870000   \n",
       "46                                             530000   \n",
       "47                                            3800000   \n",
       "48                                           -1830000   \n",
       "49                                            -540000   \n",
       "50                                             990000   \n",
       "51  (adsbygoogle = window.adsbygoogle || []).push(...   \n",
       "\n",
       "                                             % Change  \\\n",
       "0                                               -0.1%   \n",
       "1                                                2.8%   \n",
       "2                                                5.1%   \n",
       "3                                                7.6%   \n",
       "4                                                6.0%   \n",
       "5                                               96.4%   \n",
       "6                                                0.0%   \n",
       "7                                                3.6%   \n",
       "8                                               50.8%   \n",
       "9                                               12.8%   \n",
       "10  (adsbygoogle = window.adsbygoogle || []).push(...   \n",
       "11                                               3.8%   \n",
       "12                                               3.7%   \n",
       "13                                               0.0%   \n",
       "14                                              -1.7%   \n",
       "15                                               7.3%   \n",
       "16                                               6.3%   \n",
       "17                                             -12.3%   \n",
       "18                                              11.3%   \n",
       "19                                               1.0%   \n",
       "20                                               0.0%   \n",
       "21                                               0.0%   \n",
       "22                                             -10.3%   \n",
       "23                                             -11.8%   \n",
       "24                                               0.2%   \n",
       "25                                               5.0%   \n",
       "26                                               2.2%   \n",
       "27                                              18.1%   \n",
       "28                                               9.9%   \n",
       "29                                              14.4%   \n",
       "30                                               0.0%   \n",
       "31                                              -2.6%   \n",
       "32                                              -4.9%   \n",
       "33                                               5.0%   \n",
       "34                                             -18.3%   \n",
       "35                                             -16.8%   \n",
       "36                                               3.4%   \n",
       "37                                              16.0%   \n",
       "38                                              -0.8%   \n",
       "39                                               2.8%   \n",
       "40                                              -1.5%   \n",
       "41                                               4.0%   \n",
       "42                                               0.0%   \n",
       "43                                              10.7%   \n",
       "44                                              -8.7%   \n",
       "45                                             -22.5%   \n",
       "46                                               7.1%   \n",
       "47                                              12.2%   \n",
       "48                                               0.0%   \n",
       "49                                              -4.2%   \n",
       "50                                               4.0%   \n",
       "51  (adsbygoogle = window.adsbygoogle || []).push(...   \n",
       "\n",
       "                                              % Float  \\\n",
       "0                                                7.9%   \n",
       "1                                               22.4%   \n",
       "2                                               10.0%   \n",
       "3                                                8.3%   \n",
       "4                                                7.6%   \n",
       "5                                                6.4%   \n",
       "6                                                9.7%   \n",
       "7                                                7.0%   \n",
       "8                                               28.1%   \n",
       "9                                               42.9%   \n",
       "10  (adsbygoogle = window.adsbygoogle || []).push(...   \n",
       "11                                              10.1%   \n",
       "12                                              10.1%   \n",
       "13                                              19.9%   \n",
       "14                                              65.5%   \n",
       "15                                              57.5%   \n",
       "16                                              37.6%   \n",
       "17                                               6.2%   \n",
       "18                                              23.8%   \n",
       "19                                              64.9%   \n",
       "20                                               7.9%   \n",
       "21                                              11.3%   \n",
       "22                                               5.1%   \n",
       "23                                              72.0%   \n",
       "24                                              17.5%   \n",
       "25                                               8.8%   \n",
       "26                                              17.8%   \n",
       "27                                              25.7%   \n",
       "28                                               5.4%   \n",
       "29                                               5.9%   \n",
       "30                                              71.9%   \n",
       "31                                              56.9%   \n",
       "32                                               9.9%   \n",
       "33                                              16.0%   \n",
       "34                                              28.8%   \n",
       "35                                               9.2%   \n",
       "36                                              10.5%   \n",
       "37                                               7.7%   \n",
       "38                                              11.7%   \n",
       "39                                              38.5%   \n",
       "40                                              14.0%   \n",
       "41                                              18.4%   \n",
       "42                                              30.9%   \n",
       "43                                               9.7%   \n",
       "44                                               5.3%   \n",
       "45                                               5.5%   \n",
       "46                                              12.7%   \n",
       "47                                               8.6%   \n",
       "48                                              35.7%   \n",
       "49                                              21.5%   \n",
       "50                                              10.4%   \n",
       "51  (adsbygoogle = window.adsbygoogle || []).push(...   \n",
       "\n",
       "                                        Days to Cover  \\\n",
       "0                                                 9.3   \n",
       "1                                                 9.3   \n",
       "2                                                13.8   \n",
       "3                                                11.4   \n",
       "4                                                 1.1   \n",
       "5                                                 5.6   \n",
       "6                                                 1.5   \n",
       "7                                                 2.3   \n",
       "8                                                10.4   \n",
       "9                                                 3.2   \n",
       "10  (adsbygoogle = window.adsbygoogle || []).push(...   \n",
       "11                                                6.4   \n",
       "12                                                  8   \n",
       "13                                                2.1   \n",
       "14                                                5.7   \n",
       "15                                                5.2   \n",
       "16                                                7.7   \n",
       "17                                                1.3   \n",
       "18                                                8.4   \n",
       "19                                               21.5   \n",
       "20                                                2.2   \n",
       "21                                                0.8   \n",
       "22                                                4.1   \n",
       "23                                                2.3   \n",
       "24                                               12.6   \n",
       "25                                                4.4   \n",
       "26                                                7.2   \n",
       "27                                                3.7   \n",
       "28                                                  5   \n",
       "29                                                7.6   \n",
       "30                                                2.1   \n",
       "31                                               11.1   \n",
       "32                                                9.7   \n",
       "33                                                5.3   \n",
       "34                                                2.9   \n",
       "35                                                3.6   \n",
       "36                                                3.7   \n",
       "37                                                5.4   \n",
       "38                                                6.1   \n",
       "39                                               11.2   \n",
       "40                                                4.7   \n",
       "41                                                7.6   \n",
       "42                                                2.4   \n",
       "43                                                8.2   \n",
       "44                                                6.3   \n",
       "45                                                1.7   \n",
       "46                                                  9   \n",
       "47                                                4.9   \n",
       "48                                                2.5   \n",
       "49                                                9.4   \n",
       "50                                                2.6   \n",
       "51  (adsbygoogle = window.adsbygoogle || []).push(...   \n",
       "\n",
       "                                    Avg. Daily Volume  \n",
       "0                                             1140000  \n",
       "1                                            13090000  \n",
       "2                                             1630000  \n",
       "3                                             2670000  \n",
       "4                                            23300000  \n",
       "5                                             8300000  \n",
       "6                                            67870000  \n",
       "7                                            28910000  \n",
       "8                                             2890000  \n",
       "9                                             4840000  \n",
       "10  (adsbygoogle = window.adsbygoogle || []).push(...  \n",
       "11                                           11980000  \n",
       "12                                            1590000  \n",
       "13                                            4460000  \n",
       "14                                           13100000  \n",
       "15                                            8970000  \n",
       "16                                            7500000  \n",
       "17                                           11850000  \n",
       "18                                            6840000  \n",
       "19                                             464800  \n",
       "20                                            4470000  \n",
       "21                                           11320000  \n",
       "22                                            1160000  \n",
       "23                                           16850000  \n",
       "24                                            3960000  \n",
       "25                                            3640000  \n",
       "26                                             840400  \n",
       "27                                            4300000  \n",
       "28                                            6960000  \n",
       "29                                             999400  \n",
       "30                                           18410000  \n",
       "31                                            7100000  \n",
       "32                                            1120000  \n",
       "33                                             555500  \n",
       "34                                           30130000  \n",
       "35                                            3020000  \n",
       "36                                            5850000  \n",
       "37                                            3620000  \n",
       "38                                            1520000  \n",
       "39                                             944300  \n",
       "40                                            6810000  \n",
       "41                                           26300000  \n",
       "42                                            3590000  \n",
       "43                                            3350000  \n",
       "44                                            1360000  \n",
       "45                                            3700000  \n",
       "46                                             893900  \n",
       "47                                            7150000  \n",
       "48                                           20640000  \n",
       "49                                            1300000  \n",
       "50                                            9870000  \n",
       "51  (adsbygoogle = window.adsbygoogle || []).push(...  "
      ]
     },
     "execution_count": 17,
     "metadata": {},
     "output_type": "execute_result"
    }
   ],
   "source": [
    "pld_table"
   ]
  },
  {
   "cell_type": "code",
   "execution_count": null,
   "metadata": {},
   "outputs": [],
   "source": []
  }
 ],
 "metadata": {
  "kernelspec": {
   "display_name": "Python 3",
   "language": "python",
   "name": "python3"
  },
  "language_info": {
   "codemirror_mode": {
    "name": "ipython",
    "version": 3
   },
   "file_extension": ".py",
   "mimetype": "text/x-python",
   "name": "python",
   "nbconvert_exporter": "python",
   "pygments_lexer": "ipython3",
   "version": "3.8.5"
  }
 },
 "nbformat": 4,
 "nbformat_minor": 2
}
